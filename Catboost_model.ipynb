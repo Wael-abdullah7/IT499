{
 "cells": [
  {
   "cell_type": "code",
   "execution_count": 58,
   "id": "0afcb273",
   "metadata": {},
   "outputs": [],
   "source": [
    "\n",
    "import pandas as pd\n",
    "import numpy as np\n",
    "\n",
    "\n",
    "import matplotlib as mpl\n",
    "import matplotlib.pyplot as plt\n",
    "import seaborn as sns\n",
    "import missingno as msno\n",
    "import plotly.express as px\n",
    "import plotly.figure_factory as ff\n",
    "import plotly.graph_objects as go\n",
    "from wordcloud import WordCloud\n",
    "\n"
   ]
  },
  {
   "cell_type": "code",
   "execution_count": 59,
   "id": "70cf426a",
   "metadata": {},
   "outputs": [],
   "source": [
    "orignal_data = pd.read_csv(\"credit_risk_dataset.csv\")\n",
    "data = pd.read_csv(\"credit_risk_dataset.csv\")"
   ]
  },
  {
   "cell_type": "code",
   "execution_count": 60,
   "id": "53b5d666",
   "metadata": {},
   "outputs": [
    {
     "data": {
      "text/html": [
       "<div>\n",
       "<style scoped>\n",
       "    .dataframe tbody tr th:only-of-type {\n",
       "        vertical-align: middle;\n",
       "    }\n",
       "\n",
       "    .dataframe tbody tr th {\n",
       "        vertical-align: top;\n",
       "    }\n",
       "\n",
       "    .dataframe thead th {\n",
       "        text-align: right;\n",
       "    }\n",
       "</style>\n",
       "<table border=\"1\" class=\"dataframe\">\n",
       "  <thead>\n",
       "    <tr style=\"text-align: right;\">\n",
       "      <th></th>\n",
       "      <th>person_age</th>\n",
       "      <th>person_income</th>\n",
       "      <th>person_home_ownership</th>\n",
       "      <th>person_emp_length</th>\n",
       "      <th>loan_intent</th>\n",
       "      <th>loan_grade</th>\n",
       "      <th>loan_amnt</th>\n",
       "      <th>loan_int_rate</th>\n",
       "      <th>loan_status</th>\n",
       "      <th>loan_percent_income</th>\n",
       "      <th>cb_person_default_on_file</th>\n",
       "      <th>cb_person_cred_hist_length</th>\n",
       "    </tr>\n",
       "  </thead>\n",
       "  <tbody>\n",
       "    <tr>\n",
       "      <th>0</th>\n",
       "      <td>22</td>\n",
       "      <td>59000</td>\n",
       "      <td>RENT</td>\n",
       "      <td>123.0</td>\n",
       "      <td>PERSONAL</td>\n",
       "      <td>D</td>\n",
       "      <td>35000</td>\n",
       "      <td>16.02</td>\n",
       "      <td>1</td>\n",
       "      <td>0.59</td>\n",
       "      <td>Y</td>\n",
       "      <td>3</td>\n",
       "    </tr>\n",
       "    <tr>\n",
       "      <th>1</th>\n",
       "      <td>21</td>\n",
       "      <td>9600</td>\n",
       "      <td>OWN</td>\n",
       "      <td>5.0</td>\n",
       "      <td>EDUCATION</td>\n",
       "      <td>B</td>\n",
       "      <td>1000</td>\n",
       "      <td>11.14</td>\n",
       "      <td>0</td>\n",
       "      <td>0.10</td>\n",
       "      <td>N</td>\n",
       "      <td>2</td>\n",
       "    </tr>\n",
       "    <tr>\n",
       "      <th>2</th>\n",
       "      <td>25</td>\n",
       "      <td>9600</td>\n",
       "      <td>MORTGAGE</td>\n",
       "      <td>1.0</td>\n",
       "      <td>MEDICAL</td>\n",
       "      <td>C</td>\n",
       "      <td>5500</td>\n",
       "      <td>12.87</td>\n",
       "      <td>1</td>\n",
       "      <td>0.57</td>\n",
       "      <td>N</td>\n",
       "      <td>3</td>\n",
       "    </tr>\n",
       "    <tr>\n",
       "      <th>3</th>\n",
       "      <td>23</td>\n",
       "      <td>65500</td>\n",
       "      <td>RENT</td>\n",
       "      <td>4.0</td>\n",
       "      <td>MEDICAL</td>\n",
       "      <td>C</td>\n",
       "      <td>35000</td>\n",
       "      <td>15.23</td>\n",
       "      <td>1</td>\n",
       "      <td>0.53</td>\n",
       "      <td>N</td>\n",
       "      <td>2</td>\n",
       "    </tr>\n",
       "    <tr>\n",
       "      <th>4</th>\n",
       "      <td>24</td>\n",
       "      <td>54400</td>\n",
       "      <td>RENT</td>\n",
       "      <td>8.0</td>\n",
       "      <td>MEDICAL</td>\n",
       "      <td>C</td>\n",
       "      <td>35000</td>\n",
       "      <td>14.27</td>\n",
       "      <td>1</td>\n",
       "      <td>0.55</td>\n",
       "      <td>Y</td>\n",
       "      <td>4</td>\n",
       "    </tr>\n",
       "    <tr>\n",
       "      <th>...</th>\n",
       "      <td>...</td>\n",
       "      <td>...</td>\n",
       "      <td>...</td>\n",
       "      <td>...</td>\n",
       "      <td>...</td>\n",
       "      <td>...</td>\n",
       "      <td>...</td>\n",
       "      <td>...</td>\n",
       "      <td>...</td>\n",
       "      <td>...</td>\n",
       "      <td>...</td>\n",
       "      <td>...</td>\n",
       "    </tr>\n",
       "    <tr>\n",
       "      <th>32576</th>\n",
       "      <td>57</td>\n",
       "      <td>53000</td>\n",
       "      <td>MORTGAGE</td>\n",
       "      <td>1.0</td>\n",
       "      <td>PERSONAL</td>\n",
       "      <td>C</td>\n",
       "      <td>5800</td>\n",
       "      <td>13.16</td>\n",
       "      <td>0</td>\n",
       "      <td>0.11</td>\n",
       "      <td>N</td>\n",
       "      <td>30</td>\n",
       "    </tr>\n",
       "    <tr>\n",
       "      <th>32577</th>\n",
       "      <td>54</td>\n",
       "      <td>120000</td>\n",
       "      <td>MORTGAGE</td>\n",
       "      <td>4.0</td>\n",
       "      <td>PERSONAL</td>\n",
       "      <td>A</td>\n",
       "      <td>17625</td>\n",
       "      <td>7.49</td>\n",
       "      <td>0</td>\n",
       "      <td>0.15</td>\n",
       "      <td>N</td>\n",
       "      <td>19</td>\n",
       "    </tr>\n",
       "    <tr>\n",
       "      <th>32578</th>\n",
       "      <td>65</td>\n",
       "      <td>76000</td>\n",
       "      <td>RENT</td>\n",
       "      <td>3.0</td>\n",
       "      <td>HOMEIMPROVEMENT</td>\n",
       "      <td>B</td>\n",
       "      <td>35000</td>\n",
       "      <td>10.99</td>\n",
       "      <td>1</td>\n",
       "      <td>0.46</td>\n",
       "      <td>N</td>\n",
       "      <td>28</td>\n",
       "    </tr>\n",
       "    <tr>\n",
       "      <th>32579</th>\n",
       "      <td>56</td>\n",
       "      <td>150000</td>\n",
       "      <td>MORTGAGE</td>\n",
       "      <td>5.0</td>\n",
       "      <td>PERSONAL</td>\n",
       "      <td>B</td>\n",
       "      <td>15000</td>\n",
       "      <td>11.48</td>\n",
       "      <td>0</td>\n",
       "      <td>0.10</td>\n",
       "      <td>N</td>\n",
       "      <td>26</td>\n",
       "    </tr>\n",
       "    <tr>\n",
       "      <th>32580</th>\n",
       "      <td>66</td>\n",
       "      <td>42000</td>\n",
       "      <td>RENT</td>\n",
       "      <td>2.0</td>\n",
       "      <td>MEDICAL</td>\n",
       "      <td>B</td>\n",
       "      <td>6475</td>\n",
       "      <td>9.99</td>\n",
       "      <td>0</td>\n",
       "      <td>0.15</td>\n",
       "      <td>N</td>\n",
       "      <td>30</td>\n",
       "    </tr>\n",
       "  </tbody>\n",
       "</table>\n",
       "<p>32581 rows × 12 columns</p>\n",
       "</div>"
      ],
      "text/plain": [
       "       person_age  person_income person_home_ownership  person_emp_length  \\\n",
       "0              22          59000                  RENT              123.0   \n",
       "1              21           9600                   OWN                5.0   \n",
       "2              25           9600              MORTGAGE                1.0   \n",
       "3              23          65500                  RENT                4.0   \n",
       "4              24          54400                  RENT                8.0   \n",
       "...           ...            ...                   ...                ...   \n",
       "32576          57          53000              MORTGAGE                1.0   \n",
       "32577          54         120000              MORTGAGE                4.0   \n",
       "32578          65          76000                  RENT                3.0   \n",
       "32579          56         150000              MORTGAGE                5.0   \n",
       "32580          66          42000                  RENT                2.0   \n",
       "\n",
       "           loan_intent loan_grade  loan_amnt  loan_int_rate  loan_status  \\\n",
       "0             PERSONAL          D      35000          16.02            1   \n",
       "1            EDUCATION          B       1000          11.14            0   \n",
       "2              MEDICAL          C       5500          12.87            1   \n",
       "3              MEDICAL          C      35000          15.23            1   \n",
       "4              MEDICAL          C      35000          14.27            1   \n",
       "...                ...        ...        ...            ...          ...   \n",
       "32576         PERSONAL          C       5800          13.16            0   \n",
       "32577         PERSONAL          A      17625           7.49            0   \n",
       "32578  HOMEIMPROVEMENT          B      35000          10.99            1   \n",
       "32579         PERSONAL          B      15000          11.48            0   \n",
       "32580          MEDICAL          B       6475           9.99            0   \n",
       "\n",
       "       loan_percent_income cb_person_default_on_file  \\\n",
       "0                     0.59                         Y   \n",
       "1                     0.10                         N   \n",
       "2                     0.57                         N   \n",
       "3                     0.53                         N   \n",
       "4                     0.55                         Y   \n",
       "...                    ...                       ...   \n",
       "32576                 0.11                         N   \n",
       "32577                 0.15                         N   \n",
       "32578                 0.46                         N   \n",
       "32579                 0.10                         N   \n",
       "32580                 0.15                         N   \n",
       "\n",
       "       cb_person_cred_hist_length  \n",
       "0                               3  \n",
       "1                               2  \n",
       "2                               3  \n",
       "3                               2  \n",
       "4                               4  \n",
       "...                           ...  \n",
       "32576                          30  \n",
       "32577                          19  \n",
       "32578                          28  \n",
       "32579                          26  \n",
       "32580                          30  \n",
       "\n",
       "[32581 rows x 12 columns]"
      ]
     },
     "execution_count": 60,
     "metadata": {},
     "output_type": "execute_result"
    }
   ],
   "source": [
    "data"
   ]
  },
  {
   "cell_type": "code",
   "execution_count": 61,
   "id": "7c0c8417",
   "metadata": {},
   "outputs": [
    {
     "data": {
      "text/html": [
       "<div>\n",
       "<style scoped>\n",
       "    .dataframe tbody tr th:only-of-type {\n",
       "        vertical-align: middle;\n",
       "    }\n",
       "\n",
       "    .dataframe tbody tr th {\n",
       "        vertical-align: top;\n",
       "    }\n",
       "\n",
       "    .dataframe thead th {\n",
       "        text-align: right;\n",
       "    }\n",
       "</style>\n",
       "<table border=\"1\" class=\"dataframe\">\n",
       "  <thead>\n",
       "    <tr style=\"text-align: right;\">\n",
       "      <th></th>\n",
       "      <th>person_age</th>\n",
       "      <th>person_income</th>\n",
       "      <th>person_emp_length</th>\n",
       "      <th>loan_amnt</th>\n",
       "      <th>loan_int_rate</th>\n",
       "      <th>loan_status</th>\n",
       "      <th>loan_percent_income</th>\n",
       "      <th>cb_person_cred_hist_length</th>\n",
       "    </tr>\n",
       "  </thead>\n",
       "  <tbody>\n",
       "    <tr>\n",
       "      <th>count</th>\n",
       "      <td>32581.000000</td>\n",
       "      <td>3.258100e+04</td>\n",
       "      <td>31686.000000</td>\n",
       "      <td>32581.000000</td>\n",
       "      <td>29465.000000</td>\n",
       "      <td>32581.000000</td>\n",
       "      <td>32581.000000</td>\n",
       "      <td>32581.000000</td>\n",
       "    </tr>\n",
       "    <tr>\n",
       "      <th>mean</th>\n",
       "      <td>27.734600</td>\n",
       "      <td>6.607485e+04</td>\n",
       "      <td>4.789686</td>\n",
       "      <td>9589.371106</td>\n",
       "      <td>11.011695</td>\n",
       "      <td>0.218164</td>\n",
       "      <td>0.170203</td>\n",
       "      <td>5.804211</td>\n",
       "    </tr>\n",
       "    <tr>\n",
       "      <th>std</th>\n",
       "      <td>6.348078</td>\n",
       "      <td>6.198312e+04</td>\n",
       "      <td>4.142630</td>\n",
       "      <td>6322.086646</td>\n",
       "      <td>3.240459</td>\n",
       "      <td>0.413006</td>\n",
       "      <td>0.106782</td>\n",
       "      <td>4.055001</td>\n",
       "    </tr>\n",
       "    <tr>\n",
       "      <th>min</th>\n",
       "      <td>20.000000</td>\n",
       "      <td>4.000000e+03</td>\n",
       "      <td>0.000000</td>\n",
       "      <td>500.000000</td>\n",
       "      <td>5.420000</td>\n",
       "      <td>0.000000</td>\n",
       "      <td>0.000000</td>\n",
       "      <td>2.000000</td>\n",
       "    </tr>\n",
       "    <tr>\n",
       "      <th>25%</th>\n",
       "      <td>23.000000</td>\n",
       "      <td>3.850000e+04</td>\n",
       "      <td>2.000000</td>\n",
       "      <td>5000.000000</td>\n",
       "      <td>7.900000</td>\n",
       "      <td>0.000000</td>\n",
       "      <td>0.090000</td>\n",
       "      <td>3.000000</td>\n",
       "    </tr>\n",
       "    <tr>\n",
       "      <th>50%</th>\n",
       "      <td>26.000000</td>\n",
       "      <td>5.500000e+04</td>\n",
       "      <td>4.000000</td>\n",
       "      <td>8000.000000</td>\n",
       "      <td>10.990000</td>\n",
       "      <td>0.000000</td>\n",
       "      <td>0.150000</td>\n",
       "      <td>4.000000</td>\n",
       "    </tr>\n",
       "    <tr>\n",
       "      <th>75%</th>\n",
       "      <td>30.000000</td>\n",
       "      <td>7.920000e+04</td>\n",
       "      <td>7.000000</td>\n",
       "      <td>12200.000000</td>\n",
       "      <td>13.470000</td>\n",
       "      <td>0.000000</td>\n",
       "      <td>0.230000</td>\n",
       "      <td>8.000000</td>\n",
       "    </tr>\n",
       "    <tr>\n",
       "      <th>max</th>\n",
       "      <td>144.000000</td>\n",
       "      <td>6.000000e+06</td>\n",
       "      <td>123.000000</td>\n",
       "      <td>35000.000000</td>\n",
       "      <td>23.220000</td>\n",
       "      <td>1.000000</td>\n",
       "      <td>0.830000</td>\n",
       "      <td>30.000000</td>\n",
       "    </tr>\n",
       "  </tbody>\n",
       "</table>\n",
       "</div>"
      ],
      "text/plain": [
       "         person_age  person_income  person_emp_length     loan_amnt  \\\n",
       "count  32581.000000   3.258100e+04       31686.000000  32581.000000   \n",
       "mean      27.734600   6.607485e+04           4.789686   9589.371106   \n",
       "std        6.348078   6.198312e+04           4.142630   6322.086646   \n",
       "min       20.000000   4.000000e+03           0.000000    500.000000   \n",
       "25%       23.000000   3.850000e+04           2.000000   5000.000000   \n",
       "50%       26.000000   5.500000e+04           4.000000   8000.000000   \n",
       "75%       30.000000   7.920000e+04           7.000000  12200.000000   \n",
       "max      144.000000   6.000000e+06         123.000000  35000.000000   \n",
       "\n",
       "       loan_int_rate   loan_status  loan_percent_income  \\\n",
       "count   29465.000000  32581.000000         32581.000000   \n",
       "mean       11.011695      0.218164             0.170203   \n",
       "std         3.240459      0.413006             0.106782   \n",
       "min         5.420000      0.000000             0.000000   \n",
       "25%         7.900000      0.000000             0.090000   \n",
       "50%        10.990000      0.000000             0.150000   \n",
       "75%        13.470000      0.000000             0.230000   \n",
       "max        23.220000      1.000000             0.830000   \n",
       "\n",
       "       cb_person_cred_hist_length  \n",
       "count                32581.000000  \n",
       "mean                     5.804211  \n",
       "std                      4.055001  \n",
       "min                      2.000000  \n",
       "25%                      3.000000  \n",
       "50%                      4.000000  \n",
       "75%                      8.000000  \n",
       "max                     30.000000  "
      ]
     },
     "execution_count": 61,
     "metadata": {},
     "output_type": "execute_result"
    }
   ],
   "source": [
    "data.describe()"
   ]
  },
  {
   "cell_type": "code",
   "execution_count": 62,
   "id": "f947c1d5",
   "metadata": {},
   "outputs": [
    {
     "data": {
      "text/plain": [
       "loan_status\n",
       "0    25473\n",
       "1     7108\n",
       "Name: count, dtype: int64"
      ]
     },
     "execution_count": 62,
     "metadata": {},
     "output_type": "execute_result"
    }
   ],
   "source": [
    "data.loan_status.value_counts()"
   ]
  },
  {
   "cell_type": "code",
   "execution_count": 63,
   "id": "1feacc97",
   "metadata": {},
   "outputs": [],
   "source": [
    "data_corr = data"
   ]
  },
  {
   "cell_type": "code",
   "execution_count": 64,
   "id": "85193d98",
   "metadata": {},
   "outputs": [],
   "source": [
    "data_corr = data_corr.drop(['loan_intent','person_home_ownership','loan_grade','cb_person_default_on_file'], axis=1)"
   ]
  },
  {
   "cell_type": "code",
   "execution_count": 65,
   "id": "7b8058c5",
   "metadata": {},
   "outputs": [
    {
     "data": {
      "text/html": [
       "<div>\n",
       "<style scoped>\n",
       "    .dataframe tbody tr th:only-of-type {\n",
       "        vertical-align: middle;\n",
       "    }\n",
       "\n",
       "    .dataframe tbody tr th {\n",
       "        vertical-align: top;\n",
       "    }\n",
       "\n",
       "    .dataframe thead th {\n",
       "        text-align: right;\n",
       "    }\n",
       "</style>\n",
       "<table border=\"1\" class=\"dataframe\">\n",
       "  <thead>\n",
       "    <tr style=\"text-align: right;\">\n",
       "      <th></th>\n",
       "      <th>person_age</th>\n",
       "      <th>person_income</th>\n",
       "      <th>person_emp_length</th>\n",
       "      <th>loan_amnt</th>\n",
       "      <th>loan_int_rate</th>\n",
       "      <th>loan_status</th>\n",
       "      <th>loan_percent_income</th>\n",
       "      <th>cb_person_cred_hist_length</th>\n",
       "    </tr>\n",
       "  </thead>\n",
       "  <tbody>\n",
       "    <tr>\n",
       "      <th>person_age</th>\n",
       "      <td>1.000000</td>\n",
       "      <td>0.173202</td>\n",
       "      <td>0.163106</td>\n",
       "      <td>0.050787</td>\n",
       "      <td>0.012580</td>\n",
       "      <td>-0.021629</td>\n",
       "      <td>-0.042411</td>\n",
       "      <td>0.859133</td>\n",
       "    </tr>\n",
       "    <tr>\n",
       "      <th>person_income</th>\n",
       "      <td>0.173202</td>\n",
       "      <td>1.000000</td>\n",
       "      <td>0.134268</td>\n",
       "      <td>0.266820</td>\n",
       "      <td>0.000792</td>\n",
       "      <td>-0.144449</td>\n",
       "      <td>-0.254471</td>\n",
       "      <td>0.117987</td>\n",
       "    </tr>\n",
       "    <tr>\n",
       "      <th>person_emp_length</th>\n",
       "      <td>0.163106</td>\n",
       "      <td>0.134268</td>\n",
       "      <td>1.000000</td>\n",
       "      <td>0.113082</td>\n",
       "      <td>-0.056405</td>\n",
       "      <td>-0.082489</td>\n",
       "      <td>-0.054111</td>\n",
       "      <td>0.144699</td>\n",
       "    </tr>\n",
       "    <tr>\n",
       "      <th>loan_amnt</th>\n",
       "      <td>0.050787</td>\n",
       "      <td>0.266820</td>\n",
       "      <td>0.113082</td>\n",
       "      <td>1.000000</td>\n",
       "      <td>0.146813</td>\n",
       "      <td>0.105376</td>\n",
       "      <td>0.572612</td>\n",
       "      <td>0.041967</td>\n",
       "    </tr>\n",
       "    <tr>\n",
       "      <th>loan_int_rate</th>\n",
       "      <td>0.012580</td>\n",
       "      <td>0.000792</td>\n",
       "      <td>-0.056405</td>\n",
       "      <td>0.146813</td>\n",
       "      <td>1.000000</td>\n",
       "      <td>0.335133</td>\n",
       "      <td>0.120314</td>\n",
       "      <td>0.016696</td>\n",
       "    </tr>\n",
       "    <tr>\n",
       "      <th>loan_status</th>\n",
       "      <td>-0.021629</td>\n",
       "      <td>-0.144449</td>\n",
       "      <td>-0.082489</td>\n",
       "      <td>0.105376</td>\n",
       "      <td>0.335133</td>\n",
       "      <td>1.000000</td>\n",
       "      <td>0.379366</td>\n",
       "      <td>-0.015529</td>\n",
       "    </tr>\n",
       "    <tr>\n",
       "      <th>loan_percent_income</th>\n",
       "      <td>-0.042411</td>\n",
       "      <td>-0.254471</td>\n",
       "      <td>-0.054111</td>\n",
       "      <td>0.572612</td>\n",
       "      <td>0.120314</td>\n",
       "      <td>0.379366</td>\n",
       "      <td>1.000000</td>\n",
       "      <td>-0.031690</td>\n",
       "    </tr>\n",
       "    <tr>\n",
       "      <th>cb_person_cred_hist_length</th>\n",
       "      <td>0.859133</td>\n",
       "      <td>0.117987</td>\n",
       "      <td>0.144699</td>\n",
       "      <td>0.041967</td>\n",
       "      <td>0.016696</td>\n",
       "      <td>-0.015529</td>\n",
       "      <td>-0.031690</td>\n",
       "      <td>1.000000</td>\n",
       "    </tr>\n",
       "  </tbody>\n",
       "</table>\n",
       "</div>"
      ],
      "text/plain": [
       "                            person_age  person_income  person_emp_length  \\\n",
       "person_age                    1.000000       0.173202           0.163106   \n",
       "person_income                 0.173202       1.000000           0.134268   \n",
       "person_emp_length             0.163106       0.134268           1.000000   \n",
       "loan_amnt                     0.050787       0.266820           0.113082   \n",
       "loan_int_rate                 0.012580       0.000792          -0.056405   \n",
       "loan_status                  -0.021629      -0.144449          -0.082489   \n",
       "loan_percent_income          -0.042411      -0.254471          -0.054111   \n",
       "cb_person_cred_hist_length    0.859133       0.117987           0.144699   \n",
       "\n",
       "                            loan_amnt  loan_int_rate  loan_status  \\\n",
       "person_age                   0.050787       0.012580    -0.021629   \n",
       "person_income                0.266820       0.000792    -0.144449   \n",
       "person_emp_length            0.113082      -0.056405    -0.082489   \n",
       "loan_amnt                    1.000000       0.146813     0.105376   \n",
       "loan_int_rate                0.146813       1.000000     0.335133   \n",
       "loan_status                  0.105376       0.335133     1.000000   \n",
       "loan_percent_income          0.572612       0.120314     0.379366   \n",
       "cb_person_cred_hist_length   0.041967       0.016696    -0.015529   \n",
       "\n",
       "                            loan_percent_income  cb_person_cred_hist_length  \n",
       "person_age                            -0.042411                    0.859133  \n",
       "person_income                         -0.254471                    0.117987  \n",
       "person_emp_length                     -0.054111                    0.144699  \n",
       "loan_amnt                              0.572612                    0.041967  \n",
       "loan_int_rate                          0.120314                    0.016696  \n",
       "loan_status                            0.379366                   -0.015529  \n",
       "loan_percent_income                    1.000000                   -0.031690  \n",
       "cb_person_cred_hist_length            -0.031690                    1.000000  "
      ]
     },
     "execution_count": 65,
     "metadata": {},
     "output_type": "execute_result"
    }
   ],
   "source": [
    "data_corr.corr()"
   ]
  },
  {
   "cell_type": "code",
   "execution_count": 66,
   "id": "526ae080",
   "metadata": {},
   "outputs": [
    {
     "data": {
      "image/png": "[encoded data removed]",
      "text/plain": [
       "<Figure size 1500x800 with 2 Axes>"
      ]
     },
     "metadata": {},
     "output_type": "display_data"
    }
   ],
   "source": [
    "fig, ax = plt.subplots() \n",
    "fig.set_size_inches(15,8)\n",
    "sns.heatmap(data_corr.corr(), vmax =.8, square = True, annot = True,cmap='Purples' )\n",
    "plt.title('Confusion Matrix',fontsize=15);\n"
   ]
  },
  {
   "cell_type": "code",
   "execution_count": 67,
   "id": "a5c172bc",
   "metadata": {},
   "outputs": [],
   "source": [
    "sns.set_palette(\"bright\")"
   ]
  },
  {
   "cell_type": "code",
   "execution_count": 11,
   "id": "39ea1068",
   "metadata": {},
   "outputs": [
    {
     "data": {
      "image/png": "[encoded data removed]",
      "text/plain": [
       "<Figure size 640x480 with 1 Axes>"
      ]
     },
     "metadata": {},
     "output_type": "display_data"
    }
   ],
   "source": [
    "sns.histplot(data=data, x=\"loan_grade\",hue=\"loan_status\",bins=50)\n",
    "plt.show()"
   ]
  },
  {
   "cell_type": "code",
   "execution_count": 68,
   "id": "22b55860",
   "metadata": {},
   "outputs": [
    {
     "data": {
      "text/plain": [
       "person_age                       0\n",
       "person_income                    0\n",
       "person_home_ownership            0\n",
       "person_emp_length              895\n",
       "loan_intent                      0\n",
       "loan_grade                       0\n",
       "loan_amnt                        0\n",
       "loan_int_rate                 3116\n",
       "loan_status                      0\n",
       "loan_percent_income              0\n",
       "cb_person_default_on_file        0\n",
       "cb_person_cred_hist_length       0\n",
       "dtype: int64"
      ]
     },
     "execution_count": 68,
     "metadata": {},
     "output_type": "execute_result"
    }
   ],
   "source": [
    "data.isnull().sum()"
   ]
  },
  {
   "cell_type": "code",
   "execution_count": 69,
   "id": "1b11437f",
   "metadata": {},
   "outputs": [],
   "source": [
    "data.dropna(axis=0, inplace=True)"
   ]
  },
  {
   "cell_type": "code",
   "execution_count": 70,
   "id": "9d94614c",
   "metadata": {},
   "outputs": [
    {
     "data": {
      "text/plain": [
       "person_age                    0\n",
       "person_income                 0\n",
       "person_home_ownership         0\n",
       "person_emp_length             0\n",
       "loan_intent                   0\n",
       "loan_grade                    0\n",
       "loan_amnt                     0\n",
       "loan_int_rate                 0\n",
       "loan_status                   0\n",
       "loan_percent_income           0\n",
       "cb_person_default_on_file     0\n",
       "cb_person_cred_hist_length    0\n",
       "dtype: int64"
      ]
     },
     "execution_count": 70,
     "metadata": {},
     "output_type": "execute_result"
    }
   ],
   "source": [
    "data.isnull().sum()"
   ]
  },
  {
   "cell_type": "code",
   "execution_count": 71,
   "id": "9bb04341",
   "metadata": {},
   "outputs": [
    {
     "data": {
      "text/plain": [
       "loan_status\n",
       "0    22435\n",
       "1     6203\n",
       "Name: count, dtype: int64"
      ]
     },
     "execution_count": 71,
     "metadata": {},
     "output_type": "execute_result"
    }
   ],
   "source": [
    "data.loan_status.value_counts()"
   ]
  },
  {
   "cell_type": "code",
   "execution_count": 72,
   "id": "c791991c",
   "metadata": {},
   "outputs": [],
   "source": [
    "data = data.drop(data[data['person_age'] > 80].index, axis=0)"
   ]
  },
  {
   "cell_type": "code",
   "execution_count": 73,
   "id": "12065233",
   "metadata": {},
   "outputs": [
    {
     "data": {
      "text/html": [
       "<div>\n",
       "<style scoped>\n",
       "    .dataframe tbody tr th:only-of-type {\n",
       "        vertical-align: middle;\n",
       "    }\n",
       "\n",
       "    .dataframe tbody tr th {\n",
       "        vertical-align: top;\n",
       "    }\n",
       "\n",
       "    .dataframe thead th {\n",
       "        text-align: right;\n",
       "    }\n",
       "</style>\n",
       "<table border=\"1\" class=\"dataframe\">\n",
       "  <thead>\n",
       "    <tr style=\"text-align: right;\">\n",
       "      <th></th>\n",
       "      <th>person_age</th>\n",
       "      <th>person_income</th>\n",
       "      <th>person_emp_length</th>\n",
       "      <th>loan_amnt</th>\n",
       "      <th>loan_int_rate</th>\n",
       "      <th>loan_status</th>\n",
       "      <th>loan_percent_income</th>\n",
       "      <th>cb_person_cred_hist_length</th>\n",
       "    </tr>\n",
       "  </thead>\n",
       "  <tbody>\n",
       "    <tr>\n",
       "      <th>count</th>\n",
       "      <td>28633.000000</td>\n",
       "      <td>2.863300e+04</td>\n",
       "      <td>28633.00000</td>\n",
       "      <td>28633.000000</td>\n",
       "      <td>28633.000000</td>\n",
       "      <td>28633.000000</td>\n",
       "      <td>28633.000000</td>\n",
       "      <td>28633.000000</td>\n",
       "    </tr>\n",
       "    <tr>\n",
       "      <th>mean</th>\n",
       "      <td>27.709741</td>\n",
       "      <td>6.642964e+04</td>\n",
       "      <td>4.78867</td>\n",
       "      <td>9656.565851</td>\n",
       "      <td>11.039841</td>\n",
       "      <td>0.216638</td>\n",
       "      <td>0.169503</td>\n",
       "      <td>5.792757</td>\n",
       "    </tr>\n",
       "    <tr>\n",
       "      <th>std</th>\n",
       "      <td>6.163130</td>\n",
       "      <td>5.155164e+04</td>\n",
       "      <td>4.15470</td>\n",
       "      <td>6329.755492</td>\n",
       "      <td>3.229529</td>\n",
       "      <td>0.411961</td>\n",
       "      <td>0.106389</td>\n",
       "      <td>4.035676</td>\n",
       "    </tr>\n",
       "    <tr>\n",
       "      <th>min</th>\n",
       "      <td>20.000000</td>\n",
       "      <td>4.000000e+03</td>\n",
       "      <td>0.00000</td>\n",
       "      <td>500.000000</td>\n",
       "      <td>5.420000</td>\n",
       "      <td>0.000000</td>\n",
       "      <td>0.000000</td>\n",
       "      <td>2.000000</td>\n",
       "    </tr>\n",
       "    <tr>\n",
       "      <th>25%</th>\n",
       "      <td>23.000000</td>\n",
       "      <td>3.945600e+04</td>\n",
       "      <td>2.00000</td>\n",
       "      <td>5000.000000</td>\n",
       "      <td>7.900000</td>\n",
       "      <td>0.000000</td>\n",
       "      <td>0.090000</td>\n",
       "      <td>3.000000</td>\n",
       "    </tr>\n",
       "    <tr>\n",
       "      <th>50%</th>\n",
       "      <td>26.000000</td>\n",
       "      <td>5.590000e+04</td>\n",
       "      <td>4.00000</td>\n",
       "      <td>8000.000000</td>\n",
       "      <td>10.990000</td>\n",
       "      <td>0.000000</td>\n",
       "      <td>0.150000</td>\n",
       "      <td>4.000000</td>\n",
       "    </tr>\n",
       "    <tr>\n",
       "      <th>75%</th>\n",
       "      <td>30.000000</td>\n",
       "      <td>8.000000e+04</td>\n",
       "      <td>7.00000</td>\n",
       "      <td>12500.000000</td>\n",
       "      <td>13.480000</td>\n",
       "      <td>0.000000</td>\n",
       "      <td>0.230000</td>\n",
       "      <td>8.000000</td>\n",
       "    </tr>\n",
       "    <tr>\n",
       "      <th>max</th>\n",
       "      <td>80.000000</td>\n",
       "      <td>2.039784e+06</td>\n",
       "      <td>123.00000</td>\n",
       "      <td>35000.000000</td>\n",
       "      <td>23.220000</td>\n",
       "      <td>1.000000</td>\n",
       "      <td>0.830000</td>\n",
       "      <td>30.000000</td>\n",
       "    </tr>\n",
       "  </tbody>\n",
       "</table>\n",
       "</div>"
      ],
      "text/plain": [
       "         person_age  person_income  person_emp_length     loan_amnt  \\\n",
       "count  28633.000000   2.863300e+04        28633.00000  28633.000000   \n",
       "mean      27.709741   6.642964e+04            4.78867   9656.565851   \n",
       "std        6.163130   5.155164e+04            4.15470   6329.755492   \n",
       "min       20.000000   4.000000e+03            0.00000    500.000000   \n",
       "25%       23.000000   3.945600e+04            2.00000   5000.000000   \n",
       "50%       26.000000   5.590000e+04            4.00000   8000.000000   \n",
       "75%       30.000000   8.000000e+04            7.00000  12500.000000   \n",
       "max       80.000000   2.039784e+06          123.00000  35000.000000   \n",
       "\n",
       "       loan_int_rate   loan_status  loan_percent_income  \\\n",
       "count   28633.000000  28633.000000         28633.000000   \n",
       "mean       11.039841      0.216638             0.169503   \n",
       "std         3.229529      0.411961             0.106389   \n",
       "min         5.420000      0.000000             0.000000   \n",
       "25%         7.900000      0.000000             0.090000   \n",
       "50%        10.990000      0.000000             0.150000   \n",
       "75%        13.480000      0.000000             0.230000   \n",
       "max        23.220000      1.000000             0.830000   \n",
       "\n",
       "       cb_person_cred_hist_length  \n",
       "count                28633.000000  \n",
       "mean                     5.792757  \n",
       "std                      4.035676  \n",
       "min                      2.000000  \n",
       "25%                      3.000000  \n",
       "50%                      4.000000  \n",
       "75%                      8.000000  \n",
       "max                     30.000000  "
      ]
     },
     "execution_count": 73,
     "metadata": {},
     "output_type": "execute_result"
    }
   ],
   "source": [
    "data.describe()"
   ]
  },
  {
   "cell_type": "code",
   "execution_count": 74,
   "id": "77a03243",
   "metadata": {},
   "outputs": [],
   "source": [
    "data = data.drop(data[data['person_emp_length'] > 60].index, axis=0)"
   ]
  },
  {
   "cell_type": "code",
   "execution_count": 75,
   "id": "a00febdd",
   "metadata": {},
   "outputs": [
    {
     "data": {
      "text/html": [
       "<div>\n",
       "<style scoped>\n",
       "    .dataframe tbody tr th:only-of-type {\n",
       "        vertical-align: middle;\n",
       "    }\n",
       "\n",
       "    .dataframe tbody tr th {\n",
       "        vertical-align: top;\n",
       "    }\n",
       "\n",
       "    .dataframe thead th {\n",
       "        text-align: right;\n",
       "    }\n",
       "</style>\n",
       "<table border=\"1\" class=\"dataframe\">\n",
       "  <thead>\n",
       "    <tr style=\"text-align: right;\">\n",
       "      <th></th>\n",
       "      <th>person_age</th>\n",
       "      <th>person_income</th>\n",
       "      <th>person_emp_length</th>\n",
       "      <th>loan_amnt</th>\n",
       "      <th>loan_int_rate</th>\n",
       "      <th>loan_status</th>\n",
       "      <th>loan_percent_income</th>\n",
       "      <th>cb_person_cred_hist_length</th>\n",
       "    </tr>\n",
       "  </thead>\n",
       "  <tbody>\n",
       "    <tr>\n",
       "      <th>count</th>\n",
       "      <td>28631.000000</td>\n",
       "      <td>2.863100e+04</td>\n",
       "      <td>28631.000000</td>\n",
       "      <td>28631.000000</td>\n",
       "      <td>28631.000000</td>\n",
       "      <td>28631.000000</td>\n",
       "      <td>28631.000000</td>\n",
       "      <td>28631.000000</td>\n",
       "    </tr>\n",
       "    <tr>\n",
       "      <th>mean</th>\n",
       "      <td>27.710174</td>\n",
       "      <td>6.642551e+04</td>\n",
       "      <td>4.780413</td>\n",
       "      <td>9655.319409</td>\n",
       "      <td>11.039825</td>\n",
       "      <td>0.216618</td>\n",
       "      <td>0.169491</td>\n",
       "      <td>5.792917</td>\n",
       "    </tr>\n",
       "    <tr>\n",
       "      <th>std</th>\n",
       "      <td>6.163125</td>\n",
       "      <td>5.154808e+04</td>\n",
       "      <td>4.035653</td>\n",
       "      <td>6327.908887</td>\n",
       "      <td>3.229398</td>\n",
       "      <td>0.411948</td>\n",
       "      <td>0.106362</td>\n",
       "      <td>4.035769</td>\n",
       "    </tr>\n",
       "    <tr>\n",
       "      <th>min</th>\n",
       "      <td>20.000000</td>\n",
       "      <td>4.000000e+03</td>\n",
       "      <td>0.000000</td>\n",
       "      <td>500.000000</td>\n",
       "      <td>5.420000</td>\n",
       "      <td>0.000000</td>\n",
       "      <td>0.000000</td>\n",
       "      <td>2.000000</td>\n",
       "    </tr>\n",
       "    <tr>\n",
       "      <th>25%</th>\n",
       "      <td>23.000000</td>\n",
       "      <td>3.945600e+04</td>\n",
       "      <td>2.000000</td>\n",
       "      <td>5000.000000</td>\n",
       "      <td>7.900000</td>\n",
       "      <td>0.000000</td>\n",
       "      <td>0.090000</td>\n",
       "      <td>3.000000</td>\n",
       "    </tr>\n",
       "    <tr>\n",
       "      <th>50%</th>\n",
       "      <td>26.000000</td>\n",
       "      <td>5.590000e+04</td>\n",
       "      <td>4.000000</td>\n",
       "      <td>8000.000000</td>\n",
       "      <td>10.990000</td>\n",
       "      <td>0.000000</td>\n",
       "      <td>0.150000</td>\n",
       "      <td>4.000000</td>\n",
       "    </tr>\n",
       "    <tr>\n",
       "      <th>75%</th>\n",
       "      <td>30.000000</td>\n",
       "      <td>8.000000e+04</td>\n",
       "      <td>7.000000</td>\n",
       "      <td>12500.000000</td>\n",
       "      <td>13.480000</td>\n",
       "      <td>0.000000</td>\n",
       "      <td>0.230000</td>\n",
       "      <td>8.000000</td>\n",
       "    </tr>\n",
       "    <tr>\n",
       "      <th>max</th>\n",
       "      <td>80.000000</td>\n",
       "      <td>2.039784e+06</td>\n",
       "      <td>41.000000</td>\n",
       "      <td>35000.000000</td>\n",
       "      <td>23.220000</td>\n",
       "      <td>1.000000</td>\n",
       "      <td>0.830000</td>\n",
       "      <td>30.000000</td>\n",
       "    </tr>\n",
       "  </tbody>\n",
       "</table>\n",
       "</div>"
      ],
      "text/plain": [
       "         person_age  person_income  person_emp_length     loan_amnt  \\\n",
       "count  28631.000000   2.863100e+04       28631.000000  28631.000000   \n",
       "mean      27.710174   6.642551e+04           4.780413   9655.319409   \n",
       "std        6.163125   5.154808e+04           4.035653   6327.908887   \n",
       "min       20.000000   4.000000e+03           0.000000    500.000000   \n",
       "25%       23.000000   3.945600e+04           2.000000   5000.000000   \n",
       "50%       26.000000   5.590000e+04           4.000000   8000.000000   \n",
       "75%       30.000000   8.000000e+04           7.000000  12500.000000   \n",
       "max       80.000000   2.039784e+06          41.000000  35000.000000   \n",
       "\n",
       "       loan_int_rate   loan_status  loan_percent_income  \\\n",
       "count   28631.000000  28631.000000         28631.000000   \n",
       "mean       11.039825      0.216618             0.169491   \n",
       "std         3.229398      0.411948             0.106362   \n",
       "min         5.420000      0.000000             0.000000   \n",
       "25%         7.900000      0.000000             0.090000   \n",
       "50%        10.990000      0.000000             0.150000   \n",
       "75%        13.480000      0.000000             0.230000   \n",
       "max        23.220000      1.000000             0.830000   \n",
       "\n",
       "       cb_person_cred_hist_length  \n",
       "count                28631.000000  \n",
       "mean                     5.792917  \n",
       "std                      4.035769  \n",
       "min                      2.000000  \n",
       "25%                      3.000000  \n",
       "50%                      4.000000  \n",
       "75%                      8.000000  \n",
       "max                     30.000000  "
      ]
     },
     "execution_count": 75,
     "metadata": {},
     "output_type": "execute_result"
    }
   ],
   "source": [
    "data.describe()"
   ]
  },
  {
   "cell_type": "code",
   "execution_count": 76,
   "id": "1bb42b46",
   "metadata": {},
   "outputs": [],
   "source": [
    "data['age_group'] = pd.cut(data['person_age'],\n",
    "                           bins=[20, 26, 36, 46, 56, 66],\n",
    "                           labels=['20-25', '26-35', '36-45', '46-55', '56-65'])"
   ]
  },
  {
   "cell_type": "code",
   "execution_count": 77,
   "id": "95242b82",
   "metadata": {},
   "outputs": [
    {
     "data": {
      "text/plain": [
       "age_group\n",
       "20-25    15666\n",
       "26-35    10422\n",
       "36-45     2054\n",
       "46-55      372\n",
       "56-65       87\n",
       "Name: count, dtype: int64"
      ]
     },
     "execution_count": 77,
     "metadata": {},
     "output_type": "execute_result"
    }
   ],
   "source": [
    "data['age_group'].value_counts()"
   ]
  },
  {
   "cell_type": "code",
   "execution_count": 78,
   "id": "2bab9e9b",
   "metadata": {},
   "outputs": [],
   "source": [
    "data['income_group'] = pd.cut(data['person_income'],\n",
    "                              bins=[0, 25000, 50000, 75000, 100000, float('inf')],\n",
    "                              labels=['low', 'low-middle', 'middle', 'high-middle', 'high'])"
   ]
  },
  {
   "cell_type": "code",
   "execution_count": 79,
   "id": "abaad88b",
   "metadata": {},
   "outputs": [
    {
     "data": {
      "text/plain": [
       "income_group\n",
       "low-middle     10198\n",
       "middle          8531\n",
       "high-middle     4197\n",
       "high            3733\n",
       "low             1972\n",
       "Name: count, dtype: int64"
      ]
     },
     "execution_count": 79,
     "metadata": {},
     "output_type": "execute_result"
    }
   ],
   "source": [
    "data['income_group'].value_counts()"
   ]
  },
  {
   "cell_type": "code",
   "execution_count": 80,
   "id": "2f6685b7",
   "metadata": {},
   "outputs": [],
   "source": [
    "data['loan_amount_group'] = pd.cut(data['loan_amnt'],\n",
    "                                   bins=[0, 5000, 10000, 15000, float('inf')],\n",
    "                                   labels=['small', 'medium', 'large', 'very large'])"
   ]
  },
  {
   "cell_type": "code",
   "execution_count": 81,
   "id": "1d21f378",
   "metadata": {},
   "outputs": [
    {
     "data": {
      "text/plain": [
       "loan_amount_group\n",
       "medium        10608\n",
       "small          8182\n",
       "large          5430\n",
       "very large     4411\n",
       "Name: count, dtype: int64"
      ]
     },
     "execution_count": 81,
     "metadata": {},
     "output_type": "execute_result"
    }
   ],
   "source": [
    "data['loan_amount_group'].value_counts()"
   ]
  },
  {
   "cell_type": "code",
   "execution_count": 82,
   "id": "a0213022",
   "metadata": {},
   "outputs": [],
   "source": [
    "data['loan_percent_income_group'] = pd.cut(data['loan_percent_income'],\n",
    "                              bins=[0, 0.1, 0.15, 0.20, 0.25, float('inf')],\n",
    "                              labels=['low', 'low-middle', 'middle', 'high-middle', 'high'])"
   ]
  },
  {
   "cell_type": "code",
   "execution_count": 83,
   "id": "4d11df09",
   "metadata": {},
   "outputs": [
    {
     "data": {
      "text/plain": [
       "loan_percent_income_group\n",
       "low            9256\n",
       "low-middle     5935\n",
       "high           5433\n",
       "middle         4687\n",
       "high-middle    3313\n",
       "Name: count, dtype: int64"
      ]
     },
     "execution_count": 83,
     "metadata": {},
     "output_type": "execute_result"
    }
   ],
   "source": [
    "data['loan_percent_income_group'].value_counts()"
   ]
  },
  {
   "cell_type": "code",
   "execution_count": 84,
   "id": "8e4f24f8",
   "metadata": {},
   "outputs": [
    {
     "data": {
      "text/plain": [
       "array([ 5.,  1.,  4.,  8.,  2.,  6.,  7.,  0.,  9.,  3., 10., 11., 18.,\n",
       "       12., 17., 14., 16., 13., 19., 15., 22., 20., 21., 24., 23., 26.,\n",
       "       25., 27., 31., 28., 41., 34., 29., 38., 30.])"
      ]
     },
     "execution_count": 84,
     "metadata": {},
     "output_type": "execute_result"
    }
   ],
   "source": [
    "data['person_emp_length'].unique()"
   ]
  },
  {
   "cell_type": "code",
   "execution_count": 85,
   "id": "363c4b46",
   "metadata": {},
   "outputs": [],
   "source": [
    "data['person_emp_length_group'] = pd.cut(data['person_emp_length'],\n",
    "                              bins=[0, 5, 8, 10, float('inf')],\n",
    "                              labels=['short', 'middle','stable', 'long'])"
   ]
  },
  {
   "cell_type": "code",
   "execution_count": 86,
   "id": "1fe4a568",
   "metadata": {},
   "outputs": [
    {
     "data": {
      "text/plain": [
       "person_emp_length_group\n",
       "short     14528\n",
       "middle     5899\n",
       "long       2638\n",
       "stable     1858\n",
       "Name: count, dtype: int64"
      ]
     },
     "execution_count": 86,
     "metadata": {},
     "output_type": "execute_result"
    }
   ],
   "source": [
    "data['person_emp_length_group'].value_counts()"
   ]
  },
  {
   "cell_type": "code",
   "execution_count": 87,
   "id": "4f87673c",
   "metadata": {},
   "outputs": [],
   "source": [
    "from sklearn.model_selection import train_test_split"
   ]
  },
  {
   "cell_type": "code",
   "execution_count": 88,
   "id": "7698d29f",
   "metadata": {},
   "outputs": [
    {
     "data": {
      "text/html": [
       "<div>\n",
       "<style scoped>\n",
       "    .dataframe tbody tr th:only-of-type {\n",
       "        vertical-align: middle;\n",
       "    }\n",
       "\n",
       "    .dataframe tbody tr th {\n",
       "        vertical-align: top;\n",
       "    }\n",
       "\n",
       "    .dataframe thead th {\n",
       "        text-align: right;\n",
       "    }\n",
       "</style>\n",
       "<table border=\"1\" class=\"dataframe\">\n",
       "  <thead>\n",
       "    <tr style=\"text-align: right;\">\n",
       "      <th></th>\n",
       "      <th>person_age</th>\n",
       "      <th>person_income</th>\n",
       "      <th>person_home_ownership</th>\n",
       "      <th>person_emp_length</th>\n",
       "      <th>loan_intent</th>\n",
       "      <th>loan_grade</th>\n",
       "      <th>loan_amnt</th>\n",
       "      <th>loan_int_rate</th>\n",
       "      <th>loan_status</th>\n",
       "      <th>loan_percent_income</th>\n",
       "      <th>cb_person_default_on_file</th>\n",
       "      <th>cb_person_cred_hist_length</th>\n",
       "      <th>age_group</th>\n",
       "      <th>income_group</th>\n",
       "      <th>loan_amount_group</th>\n",
       "      <th>loan_percent_income_group</th>\n",
       "      <th>person_emp_length_group</th>\n",
       "    </tr>\n",
       "  </thead>\n",
       "  <tbody>\n",
       "    <tr>\n",
       "      <th>1</th>\n",
       "      <td>21</td>\n",
       "      <td>9600</td>\n",
       "      <td>OWN</td>\n",
       "      <td>5.0</td>\n",
       "      <td>EDUCATION</td>\n",
       "      <td>B</td>\n",
       "      <td>1000</td>\n",
       "      <td>11.14</td>\n",
       "      <td>0</td>\n",
       "      <td>0.10</td>\n",
       "      <td>N</td>\n",
       "      <td>2</td>\n",
       "      <td>20-25</td>\n",
       "      <td>low</td>\n",
       "      <td>small</td>\n",
       "      <td>low</td>\n",
       "      <td>short</td>\n",
       "    </tr>\n",
       "    <tr>\n",
       "      <th>2</th>\n",
       "      <td>25</td>\n",
       "      <td>9600</td>\n",
       "      <td>MORTGAGE</td>\n",
       "      <td>1.0</td>\n",
       "      <td>MEDICAL</td>\n",
       "      <td>C</td>\n",
       "      <td>5500</td>\n",
       "      <td>12.87</td>\n",
       "      <td>1</td>\n",
       "      <td>0.57</td>\n",
       "      <td>N</td>\n",
       "      <td>3</td>\n",
       "      <td>20-25</td>\n",
       "      <td>low</td>\n",
       "      <td>medium</td>\n",
       "      <td>high</td>\n",
       "      <td>short</td>\n",
       "    </tr>\n",
       "    <tr>\n",
       "      <th>3</th>\n",
       "      <td>23</td>\n",
       "      <td>65500</td>\n",
       "      <td>RENT</td>\n",
       "      <td>4.0</td>\n",
       "      <td>MEDICAL</td>\n",
       "      <td>C</td>\n",
       "      <td>35000</td>\n",
       "      <td>15.23</td>\n",
       "      <td>1</td>\n",
       "      <td>0.53</td>\n",
       "      <td>N</td>\n",
       "      <td>2</td>\n",
       "      <td>20-25</td>\n",
       "      <td>middle</td>\n",
       "      <td>very large</td>\n",
       "      <td>high</td>\n",
       "      <td>short</td>\n",
       "    </tr>\n",
       "    <tr>\n",
       "      <th>4</th>\n",
       "      <td>24</td>\n",
       "      <td>54400</td>\n",
       "      <td>RENT</td>\n",
       "      <td>8.0</td>\n",
       "      <td>MEDICAL</td>\n",
       "      <td>C</td>\n",
       "      <td>35000</td>\n",
       "      <td>14.27</td>\n",
       "      <td>1</td>\n",
       "      <td>0.55</td>\n",
       "      <td>Y</td>\n",
       "      <td>4</td>\n",
       "      <td>20-25</td>\n",
       "      <td>middle</td>\n",
       "      <td>very large</td>\n",
       "      <td>high</td>\n",
       "      <td>middle</td>\n",
       "    </tr>\n",
       "    <tr>\n",
       "      <th>5</th>\n",
       "      <td>21</td>\n",
       "      <td>9900</td>\n",
       "      <td>OWN</td>\n",
       "      <td>2.0</td>\n",
       "      <td>VENTURE</td>\n",
       "      <td>A</td>\n",
       "      <td>2500</td>\n",
       "      <td>7.14</td>\n",
       "      <td>1</td>\n",
       "      <td>0.25</td>\n",
       "      <td>N</td>\n",
       "      <td>2</td>\n",
       "      <td>20-25</td>\n",
       "      <td>low</td>\n",
       "      <td>small</td>\n",
       "      <td>high-middle</td>\n",
       "      <td>short</td>\n",
       "    </tr>\n",
       "    <tr>\n",
       "      <th>...</th>\n",
       "      <td>...</td>\n",
       "      <td>...</td>\n",
       "      <td>...</td>\n",
       "      <td>...</td>\n",
       "      <td>...</td>\n",
       "      <td>...</td>\n",
       "      <td>...</td>\n",
       "      <td>...</td>\n",
       "      <td>...</td>\n",
       "      <td>...</td>\n",
       "      <td>...</td>\n",
       "      <td>...</td>\n",
       "      <td>...</td>\n",
       "      <td>...</td>\n",
       "      <td>...</td>\n",
       "      <td>...</td>\n",
       "      <td>...</td>\n",
       "    </tr>\n",
       "    <tr>\n",
       "      <th>32576</th>\n",
       "      <td>57</td>\n",
       "      <td>53000</td>\n",
       "      <td>MORTGAGE</td>\n",
       "      <td>1.0</td>\n",
       "      <td>PERSONAL</td>\n",
       "      <td>C</td>\n",
       "      <td>5800</td>\n",
       "      <td>13.16</td>\n",
       "      <td>0</td>\n",
       "      <td>0.11</td>\n",
       "      <td>N</td>\n",
       "      <td>30</td>\n",
       "      <td>56-65</td>\n",
       "      <td>middle</td>\n",
       "      <td>medium</td>\n",
       "      <td>low-middle</td>\n",
       "      <td>short</td>\n",
       "    </tr>\n",
       "    <tr>\n",
       "      <th>32577</th>\n",
       "      <td>54</td>\n",
       "      <td>120000</td>\n",
       "      <td>MORTGAGE</td>\n",
       "      <td>4.0</td>\n",
       "      <td>PERSONAL</td>\n",
       "      <td>A</td>\n",
       "      <td>17625</td>\n",
       "      <td>7.49</td>\n",
       "      <td>0</td>\n",
       "      <td>0.15</td>\n",
       "      <td>N</td>\n",
       "      <td>19</td>\n",
       "      <td>46-55</td>\n",
       "      <td>high</td>\n",
       "      <td>very large</td>\n",
       "      <td>low-middle</td>\n",
       "      <td>short</td>\n",
       "    </tr>\n",
       "    <tr>\n",
       "      <th>32578</th>\n",
       "      <td>65</td>\n",
       "      <td>76000</td>\n",
       "      <td>RENT</td>\n",
       "      <td>3.0</td>\n",
       "      <td>HOMEIMPROVEMENT</td>\n",
       "      <td>B</td>\n",
       "      <td>35000</td>\n",
       "      <td>10.99</td>\n",
       "      <td>1</td>\n",
       "      <td>0.46</td>\n",
       "      <td>N</td>\n",
       "      <td>28</td>\n",
       "      <td>56-65</td>\n",
       "      <td>high-middle</td>\n",
       "      <td>very large</td>\n",
       "      <td>high</td>\n",
       "      <td>short</td>\n",
       "    </tr>\n",
       "    <tr>\n",
       "      <th>32579</th>\n",
       "      <td>56</td>\n",
       "      <td>150000</td>\n",
       "      <td>MORTGAGE</td>\n",
       "      <td>5.0</td>\n",
       "      <td>PERSONAL</td>\n",
       "      <td>B</td>\n",
       "      <td>15000</td>\n",
       "      <td>11.48</td>\n",
       "      <td>0</td>\n",
       "      <td>0.10</td>\n",
       "      <td>N</td>\n",
       "      <td>26</td>\n",
       "      <td>46-55</td>\n",
       "      <td>high</td>\n",
       "      <td>large</td>\n",
       "      <td>low</td>\n",
       "      <td>short</td>\n",
       "    </tr>\n",
       "    <tr>\n",
       "      <th>32580</th>\n",
       "      <td>66</td>\n",
       "      <td>42000</td>\n",
       "      <td>RENT</td>\n",
       "      <td>2.0</td>\n",
       "      <td>MEDICAL</td>\n",
       "      <td>B</td>\n",
       "      <td>6475</td>\n",
       "      <td>9.99</td>\n",
       "      <td>0</td>\n",
       "      <td>0.15</td>\n",
       "      <td>N</td>\n",
       "      <td>30</td>\n",
       "      <td>56-65</td>\n",
       "      <td>low-middle</td>\n",
       "      <td>medium</td>\n",
       "      <td>low-middle</td>\n",
       "      <td>short</td>\n",
       "    </tr>\n",
       "  </tbody>\n",
       "</table>\n",
       "<p>28631 rows × 17 columns</p>\n",
       "</div>"
      ],
      "text/plain": [
       "       person_age  person_income person_home_ownership  person_emp_length  \\\n",
       "1              21           9600                   OWN                5.0   \n",
       "2              25           9600              MORTGAGE                1.0   \n",
       "3              23          65500                  RENT                4.0   \n",
       "4              24          54400                  RENT                8.0   \n",
       "5              21           9900                   OWN                2.0   \n",
       "...           ...            ...                   ...                ...   \n",
       "32576          57          53000              MORTGAGE                1.0   \n",
       "32577          54         120000              MORTGAGE                4.0   \n",
       "32578          65          76000                  RENT                3.0   \n",
       "32579          56         150000              MORTGAGE                5.0   \n",
       "32580          66          42000                  RENT                2.0   \n",
       "\n",
       "           loan_intent loan_grade  loan_amnt  loan_int_rate  loan_status  \\\n",
       "1            EDUCATION          B       1000          11.14            0   \n",
       "2              MEDICAL          C       5500          12.87            1   \n",
       "3              MEDICAL          C      35000          15.23            1   \n",
       "4              MEDICAL          C      35000          14.27            1   \n",
       "5              VENTURE          A       2500           7.14            1   \n",
       "...                ...        ...        ...            ...          ...   \n",
       "32576         PERSONAL          C       5800          13.16            0   \n",
       "32577         PERSONAL          A      17625           7.49            0   \n",
       "32578  HOMEIMPROVEMENT          B      35000          10.99            1   \n",
       "32579         PERSONAL          B      15000          11.48            0   \n",
       "32580          MEDICAL          B       6475           9.99            0   \n",
       "\n",
       "       loan_percent_income cb_person_default_on_file  \\\n",
       "1                     0.10                         N   \n",
       "2                     0.57                         N   \n",
       "3                     0.53                         N   \n",
       "4                     0.55                         Y   \n",
       "5                     0.25                         N   \n",
       "...                    ...                       ...   \n",
       "32576                 0.11                         N   \n",
       "32577                 0.15                         N   \n",
       "32578                 0.46                         N   \n",
       "32579                 0.10                         N   \n",
       "32580                 0.15                         N   \n",
       "\n",
       "       cb_person_cred_hist_length age_group income_group loan_amount_group  \\\n",
       "1                               2     20-25          low             small   \n",
       "2                               3     20-25          low            medium   \n",
       "3                               2     20-25       middle        very large   \n",
       "4                               4     20-25       middle        very large   \n",
       "5                               2     20-25          low             small   \n",
       "...                           ...       ...          ...               ...   \n",
       "32576                          30     56-65       middle            medium   \n",
       "32577                          19     46-55         high        very large   \n",
       "32578                          28     56-65  high-middle        very large   \n",
       "32579                          26     46-55         high             large   \n",
       "32580                          30     56-65   low-middle            medium   \n",
       "\n",
       "      loan_percent_income_group person_emp_length_group  \n",
       "1                           low                   short  \n",
       "2                          high                   short  \n",
       "3                          high                   short  \n",
       "4                          high                  middle  \n",
       "5                   high-middle                   short  \n",
       "...                         ...                     ...  \n",
       "32576                low-middle                   short  \n",
       "32577                low-middle                   short  \n",
       "32578                      high                   short  \n",
       "32579                       low                   short  \n",
       "32580                low-middle                   short  \n",
       "\n",
       "[28631 rows x 17 columns]"
      ]
     },
     "execution_count": 88,
     "metadata": {},
     "output_type": "execute_result"
    }
   ],
   "source": [
    "data"
   ]
  },
  {
   "cell_type": "code",
   "execution_count": 89,
   "id": "f0e4a342",
   "metadata": {},
   "outputs": [
    {
     "data": {
      "text/plain": [
       "array([['20-25', 'low', 'small', ..., 'OWN', 'short', 0],\n",
       "       ['20-25', 'low', 'medium', ..., 'MORTGAGE', 'short', 1],\n",
       "       ['20-25', 'middle', 'very large', ..., 'RENT', 'short', 1],\n",
       "       ...,\n",
       "       ['56-65', 'high-middle', 'very large', ..., 'RENT', 'short', 1],\n",
       "       ['46-55', 'high', 'large', ..., 'MORTGAGE', 'short', 0],\n",
       "       ['56-65', 'low-middle', 'medium', ..., 'RENT', 'short', 0]],\n",
       "      dtype=object)"
      ]
     },
     "execution_count": 89,
     "metadata": {},
     "output_type": "execute_result"
    }
   ],
   "source": [
    "temp = data[['age_group','income_group','loan_amount_group','loan_percent_income_group','person_home_ownership','person_emp_length_group','loan_status']].to_numpy()\n",
    "temp"
   ]
  },
  {
   "cell_type": "code",
   "execution_count": 90,
   "id": "29a7be93",
   "metadata": {},
   "outputs": [
    {
     "data": {
      "text/plain": [
       "array([['20-25', 'low', 'small', ..., 'EDUCATION', 'OWN', 'short'],\n",
       "       ['20-25', 'low', 'medium', ..., 'MEDICAL', 'MORTGAGE', 'short'],\n",
       "       ['20-25', 'middle', 'very large', ..., 'MEDICAL', 'RENT', 'short'],\n",
       "       ...,\n",
       "       ['56-65', 'high-middle', 'very large', ..., 'HOMEIMPROVEMENT',\n",
       "        'RENT', 'short'],\n",
       "       ['46-55', 'high', 'large', ..., 'PERSONAL', 'MORTGAGE', 'short'],\n",
       "       ['56-65', 'low-middle', 'medium', ..., 'MEDICAL', 'RENT', 'short']],\n",
       "      dtype=object)"
      ]
     },
     "execution_count": 90,
     "metadata": {},
     "output_type": "execute_result"
    }
   ],
   "source": [
    "x = data[['age_group','income_group','loan_amount_group','loan_percent_income_group','loan_intent','person_home_ownership','person_emp_length_group']].to_numpy()\n",
    "x"
   ]
  },
  {
   "cell_type": "code",
   "execution_count": 91,
   "id": "0193c67f",
   "metadata": {},
   "outputs": [
    {
     "data": {
      "text/plain": [
       "array([0, 1, 1, ..., 1, 0, 0], dtype=int64)"
      ]
     },
     "execution_count": 91,
     "metadata": {},
     "output_type": "execute_result"
    }
   ],
   "source": [
    "y = data.iloc[:,8].values\n",
    "y"
   ]
  },
  {
   "cell_type": "code",
   "execution_count": 92,
   "id": "a4173867",
   "metadata": {},
   "outputs": [],
   "source": [
    "from sklearn.preprocessing import LabelEncoder\n",
    "LabelEncoder_x = LabelEncoder()"
   ]
  },
  {
   "cell_type": "code",
   "execution_count": 39,
   "id": "219b7d00",
   "metadata": {},
   "outputs": [
    {
     "data": {
      "text/plain": [
       "array([[0, 2, 2, ..., 1, 2, 2],\n",
       "       [0, 2, 1, ..., 3, 0, 2],\n",
       "       [0, 4, 3, ..., 3, 3, 2],\n",
       "       ...,\n",
       "       [4, 1, 3, ..., 2, 3, 2],\n",
       "       [3, 0, 0, ..., 4, 0, 2],\n",
       "       [4, 3, 1, ..., 3, 3, 2]], dtype=object)"
      ]
     },
     "execution_count": 39,
     "metadata": {},
     "output_type": "execute_result"
    }
   ],
   "source": [
    "for i in range(0, 6):\n",
    "    x[:,i] = LabelEncoder_x.fit_transform(x[:,i])\n",
    "    x[:,6] = LabelEncoder_x.fit_transform(x[:,6])\n",
    "\n",
    "x  "
   ]
  },
  {
   "cell_type": "code",
   "execution_count": 40,
   "id": "91877064",
   "metadata": {},
   "outputs": [],
   "source": [
    "from imblearn.under_sampling import TomekLinks\n",
    "\n",
    "tl = TomekLinks()\n",
    "X_tl, y_tl = tl.fit_resample(x, y)"
   ]
  },
  {
   "cell_type": "code",
   "execution_count": 44,
   "id": "c6fb4982",
   "metadata": {},
   "outputs": [
    {
     "data": {
      "text/plain": [
       "array([[0., 2., 2., ..., 1., 2., 2.],\n",
       "       [0., 2., 1., ..., 3., 0., 2.],\n",
       "       [0., 4., 3., ..., 3., 3., 2.],\n",
       "       ...,\n",
       "       [4., 1., 3., ..., 2., 3., 2.],\n",
       "       [3., 0., 0., ..., 4., 0., 2.],\n",
       "       [4., 3., 1., ..., 3., 3., 2.]])"
      ]
     },
     "execution_count": 44,
     "metadata": {},
     "output_type": "execute_result"
    }
   ],
   "source": []
  },
  {
   "cell_type": "code",
   "execution_count": null,
   "id": "21b8fb30",
   "metadata": {},
   "outputs": [],
   "source": []
  },
  {
   "cell_type": "code",
   "execution_count": 93,
   "id": "5be9e984",
   "metadata": {},
   "outputs": [],
   "source": [
    "test_size = 0.2;\n",
    "x_train, x_test, y_train,  y_test = train_test_split(x, y, test_size = test_size, random_state=0)\n",
    "\n",
    "from sklearn.preprocessing import LabelEncoder\n",
    "LabelEncoder_x = LabelEncoder()"
   ]
  },
  {
   "cell_type": "code",
   "execution_count": 94,
   "id": "541cc8c9",
   "metadata": {},
   "outputs": [
    {
     "name": "stdout",
     "output_type": "stream",
     "text": [
      "(22904, 7) (5727, 7)\n"
     ]
    }
   ],
   "source": [
    "print(x_train.shape, x_test.shape)"
   ]
  },
  {
   "cell_type": "code",
   "execution_count": 95,
   "id": "2ee9d76c",
   "metadata": {},
   "outputs": [
    {
     "data": {
      "text/plain": [
       "array([['26-35', 'high', 'small', ..., 'PERSONAL', 'RENT', 'short'],\n",
       "       ['26-35', 'low-middle', 'large', ..., 'DEBTCONSOLIDATION', 'RENT',\n",
       "        'short'],\n",
       "       ['20-25', 'low', 'medium', ..., 'PERSONAL', 'MORTGAGE', 'middle'],\n",
       "       ...,\n",
       "       ['20-25', 'middle', 'medium', ..., 'VENTURE', 'RENT', 'middle'],\n",
       "       ['20-25', 'low-middle', 'large', ..., 'DEBTCONSOLIDATION', 'RENT',\n",
       "        'short'],\n",
       "       ['20-25', 'low-middle', 'very large', ..., 'PERSONAL', 'MORTGAGE',\n",
       "        'middle']], dtype=object)"
      ]
     },
     "execution_count": 95,
     "metadata": {},
     "output_type": "execute_result"
    }
   ],
   "source": [
    "x_train"
   ]
  },
  {
   "cell_type": "code",
   "execution_count": 96,
   "id": "6b8ef844",
   "metadata": {},
   "outputs": [
    {
     "data": {
      "text/plain": [
       "array([['26-35', 'high', 'small', ..., 'PERSONAL', 'RENT', 'short'],\n",
       "       ['26-35', 'low-middle', 'large', ..., 'DEBTCONSOLIDATION', 'RENT',\n",
       "        'short'],\n",
       "       ['20-25', 'low', 'medium', ..., 'PERSONAL', 'MORTGAGE', 'middle'],\n",
       "       ...,\n",
       "       ['20-25', 'middle', 'medium', ..., 'VENTURE', 'RENT', 'middle'],\n",
       "       ['20-25', 'low-middle', 'large', ..., 'DEBTCONSOLIDATION', 'RENT',\n",
       "        'short'],\n",
       "       ['20-25', 'low-middle', 'very large', ..., 'PERSONAL', 'MORTGAGE',\n",
       "        'middle']], dtype='<U17')"
      ]
     },
     "execution_count": 96,
     "metadata": {},
     "output_type": "execute_result"
    }
   ],
   "source": [
    "x_train = x_train.astype('str')\n",
    "x_train"
   ]
  },
  {
   "cell_type": "code",
   "execution_count": 97,
   "id": "5df40249",
   "metadata": {},
   "outputs": [
    {
     "data": {
      "text/plain": [
       "array([['1', '0', '2', ..., '4', '3', '3'],\n",
       "       ['1', '3', '0', ..., '0', '3', '3'],\n",
       "       ['0', '2', '1', ..., '4', '0', '1'],\n",
       "       ...,\n",
       "       ['0', '4', '1', ..., '5', '3', '1'],\n",
       "       ['0', '3', '0', ..., '0', '3', '3'],\n",
       "       ['0', '3', '3', ..., '4', '0', '1']], dtype='<U17')"
      ]
     },
     "execution_count": 97,
     "metadata": {},
     "output_type": "execute_result"
    }
   ],
   "source": [
    "for i in range(0, 6):\n",
    "    x_train[:,i] = LabelEncoder_x.fit_transform(x_train[:,i])\n",
    "    x_train[:,6] = LabelEncoder_x.fit_transform(x_train[:,6])\n",
    "\n",
    "x_train   "
   ]
  },
  {
   "cell_type": "code",
   "execution_count": 98,
   "id": "e97dc7a3",
   "metadata": {},
   "outputs": [
    {
     "data": {
      "text/plain": [
       "array([0, 1, 0, ..., 0, 1, 0], dtype=int64)"
      ]
     },
     "execution_count": 98,
     "metadata": {},
     "output_type": "execute_result"
    }
   ],
   "source": [
    "LabelEncoder_y = LabelEncoder()\n",
    "y_train = LabelEncoder_y.fit_transform(y_train)\n",
    "\n",
    "y_train"
   ]
  },
  {
   "cell_type": "code",
   "execution_count": 99,
   "id": "ed9883cf",
   "metadata": {},
   "outputs": [
    {
     "data": {
      "text/plain": [
       "array([['20-25', 'middle', 'very large', ..., 'MEDICAL', 'RENT',\n",
       "        'stable'],\n",
       "       ['20-25', 'middle', 'medium', ..., 'EDUCATION', 'RENT', 'nan'],\n",
       "       ['20-25', 'middle', 'medium', ..., 'EDUCATION', 'RENT', 'short'],\n",
       "       ...,\n",
       "       ['20-25', 'high-middle', 'small', ..., 'VENTURE', 'MORTGAGE',\n",
       "        'middle'],\n",
       "       ['26-35', 'low-middle', 'large', ..., 'DEBTCONSOLIDATION',\n",
       "        'MORTGAGE', 'middle'],\n",
       "       ['26-35', 'low-middle', 'small', ..., 'VENTURE', 'OWN', 'short']],\n",
       "      dtype='<U17')"
      ]
     },
     "execution_count": 99,
     "metadata": {},
     "output_type": "execute_result"
    }
   ],
   "source": [
    "x_test = x_test.astype('str')\n",
    "x_test"
   ]
  },
  {
   "cell_type": "code",
   "execution_count": 100,
   "id": "4015095f",
   "metadata": {},
   "outputs": [
    {
     "data": {
      "text/plain": [
       "array([['0', '4', '3', ..., '3', '3', '4'],\n",
       "       ['0', '4', '1', ..., '1', '3', '2'],\n",
       "       ['0', '4', '1', ..., '1', '3', '3'],\n",
       "       ...,\n",
       "       ['0', '1', '2', ..., '5', '0', '1'],\n",
       "       ['1', '3', '0', ..., '0', '0', '1'],\n",
       "       ['1', '3', '2', ..., '5', '2', '3']], dtype='<U17')"
      ]
     },
     "execution_count": 100,
     "metadata": {},
     "output_type": "execute_result"
    }
   ],
   "source": [
    "for i in range(0, 6):\n",
    "    x_test[:,i] = LabelEncoder_x.fit_transform(x_test[:,i])\n",
    "    x_test[:,6] = LabelEncoder_x.fit_transform(x_test[:,6])\n",
    "\n",
    "x_test"
   ]
  },
  {
   "cell_type": "code",
   "execution_count": 101,
   "id": "ee093e2e",
   "metadata": {},
   "outputs": [
    {
     "data": {
      "text/plain": [
       "array([1, 0, 0, ..., 0, 1, 0], dtype=int64)"
      ]
     },
     "execution_count": 101,
     "metadata": {},
     "output_type": "execute_result"
    }
   ],
   "source": [
    "LabelEncoder_y = LabelEncoder()\n",
    "y_test = LabelEncoder_y.fit_transform(y_test)\n",
    "\n",
    "y_test"
   ]
  },
  {
   "cell_type": "code",
   "execution_count": 102,
   "id": "4fb826d3",
   "metadata": {},
   "outputs": [],
   "source": [
    "from sklearn.preprocessing import StandardScaler\n",
    "\n",
    "ss = StandardScaler()\n",
    "x_train_scaled = ss.fit_transform(x_train)\n",
    "x_test_scaled = ss.fit_transform(x_test)"
   ]
  },
  {
   "cell_type": "code",
   "execution_count": 103,
   "id": "1dcf1b29",
   "metadata": {},
   "outputs": [
    {
     "data": {
      "text/plain": [
       "array([['1', '0', '2', ..., '4', '3', '3'],\n",
       "       ['1', '3', '0', ..., '0', '3', '3'],\n",
       "       ['0', '2', '1', ..., '4', '0', '1'],\n",
       "       ...,\n",
       "       ['0', '4', '1', ..., '5', '3', '1'],\n",
       "       ['0', '3', '0', ..., '0', '3', '3'],\n",
       "       ['0', '3', '3', ..., '4', '0', '1']], dtype='<U17')"
      ]
     },
     "execution_count": 103,
     "metadata": {},
     "output_type": "execute_result"
    }
   ],
   "source": [
    "x_train"
   ]
  },
  {
   "cell_type": "code",
   "execution_count": 104,
   "id": "d63a4cfb",
   "metadata": {},
   "outputs": [],
   "source": [
    "from catboost import CatBoostClassifier\n"
   ]
  },
  {
   "cell_type": "code",
   "execution_count": 105,
   "id": "b184058c",
   "metadata": {},
   "outputs": [],
   "source": [
    "from sklearn.metrics import make_scorer, mean_absolute_error\n",
    "from sklearn.metrics import mean_squared_error as MSE\n",
    "from sklearn import metrics\n",
    "from sklearn.metrics import ConfusionMatrixDisplay\n",
    "from sklearn.metrics import accuracy_score, confusion_matrix, classification_report\n",
    "import time as t\n",
    "from sklearn.model_selection import GridSearchCV, RandomizedSearchCV\n",
    "from scipy.stats import uniform, randint\n",
    "from sklearn.metrics import make_scorer, f1_score"
   ]
  },
  {
   "cell_type": "code",
   "execution_count": 106,
   "id": "5643d181",
   "metadata": {},
   "outputs": [],
   "source": [
    "cat = CatBoostClassifier(verbose=0) \n"
   ]
  },
  {
   "cell_type": "code",
   "execution_count": 50,
   "id": "0e56f0fb",
   "metadata": {},
   "outputs": [
    {
     "ename": "KeyboardInterrupt",
     "evalue": "",
     "output_type": "error",
     "traceback": [
      "\u001b[1;31m---------------------------------------------------------------------------\u001b[0m",
      "\u001b[1;31mKeyboardInterrupt\u001b[0m                         Traceback (most recent call last)",
      "Cell \u001b[1;32mIn[50], line 14\u001b[0m\n\u001b[0;32m     10\u001b[0m scorer \u001b[38;5;241m=\u001b[39m make_scorer(f1_score, average\u001b[38;5;241m=\u001b[39m\u001b[38;5;124m'\u001b[39m\u001b[38;5;124mweighted\u001b[39m\u001b[38;5;124m'\u001b[39m)\n\u001b[0;32m     12\u001b[0m random_search \u001b[38;5;241m=\u001b[39m RandomizedSearchCV(model_cat, param_distributions\u001b[38;5;241m=\u001b[39mparam_dist, n_iter\u001b[38;5;241m=\u001b[39m\u001b[38;5;241m10\u001b[39m, cv\u001b[38;5;241m=\u001b[39m\u001b[38;5;241m5\u001b[39m, scoring\u001b[38;5;241m=\u001b[39mscorer, n_jobs\u001b[38;5;241m=\u001b[39m\u001b[38;5;241m-\u001b[39m\u001b[38;5;241m1\u001b[39m, random_state\u001b[38;5;241m=\u001b[39m\u001b[38;5;241m42\u001b[39m)\n\u001b[1;32m---> 14\u001b[0m random_search\u001b[38;5;241m.\u001b[39mfit(x_train, y_train)\n\u001b[0;32m     16\u001b[0m \u001b[38;5;28mprint\u001b[39m(\u001b[38;5;124m\"\u001b[39m\u001b[38;5;124m(CatBoost Model)Random Search - Best Hyperparameters:\u001b[39m\u001b[38;5;124m\"\u001b[39m, random_search\u001b[38;5;241m.\u001b[39mbest_params_)\n",
      "File \u001b[1;32m~\\anaconda3\\Lib\\site-packages\\sklearn\\base.py:1474\u001b[0m, in \u001b[0;36m_fit_context.<locals>.decorator.<locals>.wrapper\u001b[1;34m(estimator, *args, **kwargs)\u001b[0m\n\u001b[0;32m   1467\u001b[0m     estimator\u001b[38;5;241m.\u001b[39m_validate_params()\n\u001b[0;32m   1469\u001b[0m \u001b[38;5;28;01mwith\u001b[39;00m config_context(\n\u001b[0;32m   1470\u001b[0m     skip_parameter_validation\u001b[38;5;241m=\u001b[39m(\n\u001b[0;32m   1471\u001b[0m         prefer_skip_nested_validation \u001b[38;5;129;01mor\u001b[39;00m global_skip_validation\n\u001b[0;32m   1472\u001b[0m     )\n\u001b[0;32m   1473\u001b[0m ):\n\u001b[1;32m-> 1474\u001b[0m     \u001b[38;5;28;01mreturn\u001b[39;00m fit_method(estimator, \u001b[38;5;241m*\u001b[39margs, \u001b[38;5;241m*\u001b[39m\u001b[38;5;241m*\u001b[39mkwargs)\n",
      "File \u001b[1;32m~\\anaconda3\\Lib\\site-packages\\sklearn\\model_selection\\_search.py:970\u001b[0m, in \u001b[0;36mBaseSearchCV.fit\u001b[1;34m(self, X, y, **params)\u001b[0m\n\u001b[0;32m    964\u001b[0m     results \u001b[38;5;241m=\u001b[39m \u001b[38;5;28mself\u001b[39m\u001b[38;5;241m.\u001b[39m_format_results(\n\u001b[0;32m    965\u001b[0m         all_candidate_params, n_splits, all_out, all_more_results\n\u001b[0;32m    966\u001b[0m     )\n\u001b[0;32m    968\u001b[0m     \u001b[38;5;28;01mreturn\u001b[39;00m results\n\u001b[1;32m--> 970\u001b[0m \u001b[38;5;28mself\u001b[39m\u001b[38;5;241m.\u001b[39m_run_search(evaluate_candidates)\n\u001b[0;32m    972\u001b[0m \u001b[38;5;66;03m# multimetric is determined here because in the case of a callable\u001b[39;00m\n\u001b[0;32m    973\u001b[0m \u001b[38;5;66;03m# self.scoring the return type is only known after calling\u001b[39;00m\n\u001b[0;32m    974\u001b[0m first_test_score \u001b[38;5;241m=\u001b[39m all_out[\u001b[38;5;241m0\u001b[39m][\u001b[38;5;124m\"\u001b[39m\u001b[38;5;124mtest_scores\u001b[39m\u001b[38;5;124m\"\u001b[39m]\n",
      "File \u001b[1;32m~\\anaconda3\\Lib\\site-packages\\sklearn\\model_selection\\_search.py:1914\u001b[0m, in \u001b[0;36mRandomizedSearchCV._run_search\u001b[1;34m(self, evaluate_candidates)\u001b[0m\n\u001b[0;32m   1912\u001b[0m \u001b[38;5;28;01mdef\u001b[39;00m \u001b[38;5;21m_run_search\u001b[39m(\u001b[38;5;28mself\u001b[39m, evaluate_candidates):\n\u001b[0;32m   1913\u001b[0m \u001b[38;5;250m    \u001b[39m\u001b[38;5;124;03m\"\"\"Search n_iter candidates from param_distributions\"\"\"\u001b[39;00m\n\u001b[1;32m-> 1914\u001b[0m     evaluate_candidates(\n\u001b[0;32m   1915\u001b[0m         ParameterSampler(\n\u001b[0;32m   1916\u001b[0m             \u001b[38;5;28mself\u001b[39m\u001b[38;5;241m.\u001b[39mparam_distributions, \u001b[38;5;28mself\u001b[39m\u001b[38;5;241m.\u001b[39mn_iter, random_state\u001b[38;5;241m=\u001b[39m\u001b[38;5;28mself\u001b[39m\u001b[38;5;241m.\u001b[39mrandom_state\n\u001b[0;32m   1917\u001b[0m         )\n\u001b[0;32m   1918\u001b[0m     )\n",
      "File \u001b[1;32m~\\anaconda3\\Lib\\site-packages\\sklearn\\model_selection\\_search.py:916\u001b[0m, in \u001b[0;36mBaseSearchCV.fit.<locals>.evaluate_candidates\u001b[1;34m(candidate_params, cv, more_results)\u001b[0m\n\u001b[0;32m    908\u001b[0m \u001b[38;5;28;01mif\u001b[39;00m \u001b[38;5;28mself\u001b[39m\u001b[38;5;241m.\u001b[39mverbose \u001b[38;5;241m>\u001b[39m \u001b[38;5;241m0\u001b[39m:\n\u001b[0;32m    909\u001b[0m     \u001b[38;5;28mprint\u001b[39m(\n\u001b[0;32m    910\u001b[0m         \u001b[38;5;124m\"\u001b[39m\u001b[38;5;124mFitting \u001b[39m\u001b[38;5;132;01m{0}\u001b[39;00m\u001b[38;5;124m folds for each of \u001b[39m\u001b[38;5;132;01m{1}\u001b[39;00m\u001b[38;5;124m candidates,\u001b[39m\u001b[38;5;124m\"\u001b[39m\n\u001b[0;32m    911\u001b[0m         \u001b[38;5;124m\"\u001b[39m\u001b[38;5;124m totalling \u001b[39m\u001b[38;5;132;01m{2}\u001b[39;00m\u001b[38;5;124m fits\u001b[39m\u001b[38;5;124m\"\u001b[39m\u001b[38;5;241m.\u001b[39mformat(\n\u001b[0;32m    912\u001b[0m             n_splits, n_candidates, n_candidates \u001b[38;5;241m*\u001b[39m n_splits\n\u001b[0;32m    913\u001b[0m         )\n\u001b[0;32m    914\u001b[0m     )\n\u001b[1;32m--> 916\u001b[0m out \u001b[38;5;241m=\u001b[39m parallel(\n\u001b[0;32m    917\u001b[0m     delayed(_fit_and_score)(\n\u001b[0;32m    918\u001b[0m         clone(base_estimator),\n\u001b[0;32m    919\u001b[0m         X,\n\u001b[0;32m    920\u001b[0m         y,\n\u001b[0;32m    921\u001b[0m         train\u001b[38;5;241m=\u001b[39mtrain,\n\u001b[0;32m    922\u001b[0m         test\u001b[38;5;241m=\u001b[39mtest,\n\u001b[0;32m    923\u001b[0m         parameters\u001b[38;5;241m=\u001b[39mparameters,\n\u001b[0;32m    924\u001b[0m         split_progress\u001b[38;5;241m=\u001b[39m(split_idx, n_splits),\n\u001b[0;32m    925\u001b[0m         candidate_progress\u001b[38;5;241m=\u001b[39m(cand_idx, n_candidates),\n\u001b[0;32m    926\u001b[0m         \u001b[38;5;241m*\u001b[39m\u001b[38;5;241m*\u001b[39mfit_and_score_kwargs,\n\u001b[0;32m    927\u001b[0m     )\n\u001b[0;32m    928\u001b[0m     \u001b[38;5;28;01mfor\u001b[39;00m (cand_idx, parameters), (split_idx, (train, test)) \u001b[38;5;129;01min\u001b[39;00m product(\n\u001b[0;32m    929\u001b[0m         \u001b[38;5;28menumerate\u001b[39m(candidate_params),\n\u001b[0;32m    930\u001b[0m         \u001b[38;5;28menumerate\u001b[39m(cv\u001b[38;5;241m.\u001b[39msplit(X, y, \u001b[38;5;241m*\u001b[39m\u001b[38;5;241m*\u001b[39mrouted_params\u001b[38;5;241m.\u001b[39msplitter\u001b[38;5;241m.\u001b[39msplit)),\n\u001b[0;32m    931\u001b[0m     )\n\u001b[0;32m    932\u001b[0m )\n\u001b[0;32m    934\u001b[0m \u001b[38;5;28;01mif\u001b[39;00m \u001b[38;5;28mlen\u001b[39m(out) \u001b[38;5;241m<\u001b[39m \u001b[38;5;241m1\u001b[39m:\n\u001b[0;32m    935\u001b[0m     \u001b[38;5;28;01mraise\u001b[39;00m \u001b[38;5;167;01mValueError\u001b[39;00m(\n\u001b[0;32m    936\u001b[0m         \u001b[38;5;124m\"\u001b[39m\u001b[38;5;124mNo fits were performed. \u001b[39m\u001b[38;5;124m\"\u001b[39m\n\u001b[0;32m    937\u001b[0m         \u001b[38;5;124m\"\u001b[39m\u001b[38;5;124mWas the CV iterator empty? \u001b[39m\u001b[38;5;124m\"\u001b[39m\n\u001b[0;32m    938\u001b[0m         \u001b[38;5;124m\"\u001b[39m\u001b[38;5;124mWere there no candidates?\u001b[39m\u001b[38;5;124m\"\u001b[39m\n\u001b[0;32m    939\u001b[0m     )\n",
      "File \u001b[1;32m~\\anaconda3\\Lib\\site-packages\\sklearn\\utils\\parallel.py:67\u001b[0m, in \u001b[0;36mParallel.__call__\u001b[1;34m(self, iterable)\u001b[0m\n\u001b[0;32m     62\u001b[0m config \u001b[38;5;241m=\u001b[39m get_config()\n\u001b[0;32m     63\u001b[0m iterable_with_config \u001b[38;5;241m=\u001b[39m (\n\u001b[0;32m     64\u001b[0m     (_with_config(delayed_func, config), args, kwargs)\n\u001b[0;32m     65\u001b[0m     \u001b[38;5;28;01mfor\u001b[39;00m delayed_func, args, kwargs \u001b[38;5;129;01min\u001b[39;00m iterable\n\u001b[0;32m     66\u001b[0m )\n\u001b[1;32m---> 67\u001b[0m \u001b[38;5;28;01mreturn\u001b[39;00m \u001b[38;5;28msuper\u001b[39m()\u001b[38;5;241m.\u001b[39m\u001b[38;5;21m__call__\u001b[39m(iterable_with_config)\n",
      "File \u001b[1;32m~\\anaconda3\\Lib\\site-packages\\joblib\\parallel.py:1098\u001b[0m, in \u001b[0;36mParallel.__call__\u001b[1;34m(self, iterable)\u001b[0m\n\u001b[0;32m   1095\u001b[0m     \u001b[38;5;28mself\u001b[39m\u001b[38;5;241m.\u001b[39m_iterating \u001b[38;5;241m=\u001b[39m \u001b[38;5;28;01mFalse\u001b[39;00m\n\u001b[0;32m   1097\u001b[0m \u001b[38;5;28;01mwith\u001b[39;00m \u001b[38;5;28mself\u001b[39m\u001b[38;5;241m.\u001b[39m_backend\u001b[38;5;241m.\u001b[39mretrieval_context():\n\u001b[1;32m-> 1098\u001b[0m     \u001b[38;5;28mself\u001b[39m\u001b[38;5;241m.\u001b[39mretrieve()\n\u001b[0;32m   1099\u001b[0m \u001b[38;5;66;03m# Make sure that we get a last message telling us we are done\u001b[39;00m\n\u001b[0;32m   1100\u001b[0m elapsed_time \u001b[38;5;241m=\u001b[39m time\u001b[38;5;241m.\u001b[39mtime() \u001b[38;5;241m-\u001b[39m \u001b[38;5;28mself\u001b[39m\u001b[38;5;241m.\u001b[39m_start_time\n",
      "File \u001b[1;32m~\\anaconda3\\Lib\\site-packages\\joblib\\parallel.py:975\u001b[0m, in \u001b[0;36mParallel.retrieve\u001b[1;34m(self)\u001b[0m\n\u001b[0;32m    973\u001b[0m \u001b[38;5;28;01mtry\u001b[39;00m:\n\u001b[0;32m    974\u001b[0m     \u001b[38;5;28;01mif\u001b[39;00m \u001b[38;5;28mgetattr\u001b[39m(\u001b[38;5;28mself\u001b[39m\u001b[38;5;241m.\u001b[39m_backend, \u001b[38;5;124m'\u001b[39m\u001b[38;5;124msupports_timeout\u001b[39m\u001b[38;5;124m'\u001b[39m, \u001b[38;5;28;01mFalse\u001b[39;00m):\n\u001b[1;32m--> 975\u001b[0m         \u001b[38;5;28mself\u001b[39m\u001b[38;5;241m.\u001b[39m_output\u001b[38;5;241m.\u001b[39mextend(job\u001b[38;5;241m.\u001b[39mget(timeout\u001b[38;5;241m=\u001b[39m\u001b[38;5;28mself\u001b[39m\u001b[38;5;241m.\u001b[39mtimeout))\n\u001b[0;32m    976\u001b[0m     \u001b[38;5;28;01melse\u001b[39;00m:\n\u001b[0;32m    977\u001b[0m         \u001b[38;5;28mself\u001b[39m\u001b[38;5;241m.\u001b[39m_output\u001b[38;5;241m.\u001b[39mextend(job\u001b[38;5;241m.\u001b[39mget())\n",
      "File \u001b[1;32m~\\anaconda3\\Lib\\site-packages\\joblib\\_parallel_backends.py:567\u001b[0m, in \u001b[0;36mLokyBackend.wrap_future_result\u001b[1;34m(future, timeout)\u001b[0m\n\u001b[0;32m    564\u001b[0m \u001b[38;5;250m\u001b[39m\u001b[38;5;124;03m\"\"\"Wrapper for Future.result to implement the same behaviour as\u001b[39;00m\n\u001b[0;32m    565\u001b[0m \u001b[38;5;124;03mAsyncResults.get from multiprocessing.\"\"\"\u001b[39;00m\n\u001b[0;32m    566\u001b[0m \u001b[38;5;28;01mtry\u001b[39;00m:\n\u001b[1;32m--> 567\u001b[0m     \u001b[38;5;28;01mreturn\u001b[39;00m future\u001b[38;5;241m.\u001b[39mresult(timeout\u001b[38;5;241m=\u001b[39mtimeout)\n\u001b[0;32m    568\u001b[0m \u001b[38;5;28;01mexcept\u001b[39;00m CfTimeoutError \u001b[38;5;28;01mas\u001b[39;00m e:\n\u001b[0;32m    569\u001b[0m     \u001b[38;5;28;01mraise\u001b[39;00m \u001b[38;5;167;01mTimeoutError\u001b[39;00m \u001b[38;5;28;01mfrom\u001b[39;00m \u001b[38;5;21;01me\u001b[39;00m\n",
      "File \u001b[1;32m~\\anaconda3\\Lib\\concurrent\\futures\\_base.py:451\u001b[0m, in \u001b[0;36mFuture.result\u001b[1;34m(self, timeout)\u001b[0m\n\u001b[0;32m    448\u001b[0m \u001b[38;5;28;01melif\u001b[39;00m \u001b[38;5;28mself\u001b[39m\u001b[38;5;241m.\u001b[39m_state \u001b[38;5;241m==\u001b[39m FINISHED:\n\u001b[0;32m    449\u001b[0m     \u001b[38;5;28;01mreturn\u001b[39;00m \u001b[38;5;28mself\u001b[39m\u001b[38;5;241m.\u001b[39m__get_result()\n\u001b[1;32m--> 451\u001b[0m \u001b[38;5;28mself\u001b[39m\u001b[38;5;241m.\u001b[39m_condition\u001b[38;5;241m.\u001b[39mwait(timeout)\n\u001b[0;32m    453\u001b[0m \u001b[38;5;28;01mif\u001b[39;00m \u001b[38;5;28mself\u001b[39m\u001b[38;5;241m.\u001b[39m_state \u001b[38;5;129;01min\u001b[39;00m [CANCELLED, CANCELLED_AND_NOTIFIED]:\n\u001b[0;32m    454\u001b[0m     \u001b[38;5;28;01mraise\u001b[39;00m CancelledError()\n",
      "File \u001b[1;32m~\\anaconda3\\Lib\\threading.py:320\u001b[0m, in \u001b[0;36mCondition.wait\u001b[1;34m(self, timeout)\u001b[0m\n\u001b[0;32m    318\u001b[0m \u001b[38;5;28;01mtry\u001b[39;00m:    \u001b[38;5;66;03m# restore state no matter what (e.g., KeyboardInterrupt)\u001b[39;00m\n\u001b[0;32m    319\u001b[0m     \u001b[38;5;28;01mif\u001b[39;00m timeout \u001b[38;5;129;01mis\u001b[39;00m \u001b[38;5;28;01mNone\u001b[39;00m:\n\u001b[1;32m--> 320\u001b[0m         waiter\u001b[38;5;241m.\u001b[39macquire()\n\u001b[0;32m    321\u001b[0m         gotit \u001b[38;5;241m=\u001b[39m \u001b[38;5;28;01mTrue\u001b[39;00m\n\u001b[0;32m    322\u001b[0m     \u001b[38;5;28;01melse\u001b[39;00m:\n",
      "\u001b[1;31mKeyboardInterrupt\u001b[0m: "
     ]
    }
   ],
   "source": [
    "# RandomizedSearchCV hyperparameter tuning\n",
    "model_cat = CatBoostClassifier(loss_function='Logloss', random_state=42)\n",
    "\n",
    "param_dist = {\n",
    "    'iterations': [200, 500, 1000],\n",
    "    'learning_rate': [0.001, 0.01, 0.1],\n",
    "    'depth': [3, 6, 9]\n",
    "}\n",
    "\n",
    "scorer = make_scorer(f1_score, average='weighted')\n",
    "\n",
    "random_search = RandomizedSearchCV(model_cat, param_distributions=param_dist, n_iter=10, cv=5, scoring=scorer, n_jobs=-1, random_state=42)\n",
    "\n",
    "random_search.fit(x_train, y_train)\n",
    "\n",
    "print(\"(CatBoost Model)Random Search - Best Hyperparameters:\", random_search.best_params_)\n",
    "\n",
    "\n"
   ]
  },
  {
   "cell_type": "code",
   "execution_count": 50,
   "id": "a13a494f",
   "metadata": {},
   "outputs": [
    {
     "ename": "NameError",
     "evalue": "name 'random_search' is not defined",
     "output_type": "error",
     "traceback": [
      "\u001b[1;31m---------------------------------------------------------------------------\u001b[0m",
      "\u001b[1;31mNameError\u001b[0m                                 Traceback (most recent call last)",
      "Cell \u001b[1;32mIn[50], line 1\u001b[0m\n\u001b[1;32m----> 1\u001b[0m catboost \u001b[38;5;241m=\u001b[39m random_search\u001b[38;5;241m.\u001b[39mbest_estimator_\n\u001b[0;32m      2\u001b[0m y_pred_random \u001b[38;5;241m=\u001b[39m catboost\u001b[38;5;241m.\u001b[39mpredict(x_test)\n\u001b[0;32m      4\u001b[0m \u001b[38;5;66;03m# Print classification report for the Random Search model\u001b[39;00m\n",
      "\u001b[1;31mNameError\u001b[0m: name 'random_search' is not defined"
     ]
    }
   ],
   "source": [
    "catboost = random_search.best_estimator_\n",
    "y_pred_random = catboost.predict(x_test)\n",
    " \n",
    "# Print classification report for the Random Search model\n",
    "print(\"Random Search - Classification Report:\")\n",
    "print(classification_report(y_test, y_pred_random))"
   ]
  },
  {
   "cell_type": "code",
   "execution_count": 51,
   "id": "a6336364",
   "metadata": {},
   "outputs": [
    {
     "data": {
      "text/plain": [
       "{'iterations': 1000,\n",
       " 'learning_rate': 0.1,\n",
       " 'depth': 3,\n",
       " 'loss_function': 'Logloss',\n",
       " 'random_state': 42}"
      ]
     },
     "execution_count": 51,
     "metadata": {},
     "output_type": "execute_result"
    }
   ],
   "source": [
    "catboost.get_params()"
   ]
  },
  {
   "cell_type": "code",
   "execution_count": 52,
   "id": "2cb83d88",
   "metadata": {},
   "outputs": [
    {
     "name": "stdout",
     "output_type": "stream",
     "text": [
      "The Accuracy of the CatBoost Model: 0.848\n"
     ]
    }
   ],
   "source": [
    "print(f\"The Accuracy of the CatBoost Model: {round(metrics.accuracy_score(y_pred_random, y_test), 3)}\")\n"
   ]
  },
  {
   "cell_type": "code",
   "execution_count": 107,
   "id": "29172e82",
   "metadata": {},
   "outputs": [],
   "source": [
    "model_cat = CatBoostClassifier(iterations= 1000,\n",
    "  learning_rate = 0.1,\n",
    "  depth = 3,\n",
    "  random_state = 42)\n"
   ]
  },
  {
   "cell_type": "code",
   "execution_count": 108,
   "id": "a33e768f",
   "metadata": {},
   "outputs": [
    {
     "name": "stdout",
     "output_type": "stream",
     "text": [
      "0:\tlearn: 0.6364425\ttotal: 4ms\tremaining: 4s\n",
      "1:\tlearn: 0.5914903\ttotal: 7.24ms\tremaining: 3.61s\n",
      "2:\tlearn: 0.5562590\ttotal: 9.82ms\tremaining: 3.27s\n",
      "3:\tlearn: 0.5287836\ttotal: 13ms\tremaining: 3.23s\n",
      "4:\tlearn: 0.5077405\ttotal: 15.9ms\tremaining: 3.16s\n",
      "5:\tlearn: 0.4914274\ttotal: 18.5ms\tremaining: 3.06s\n",
      "6:\tlearn: 0.4783182\ttotal: 21.1ms\tremaining: 3s\n",
      "7:\tlearn: 0.4684281\ttotal: 24.1ms\tremaining: 2.99s\n",
      "8:\tlearn: 0.4604330\ttotal: 26.9ms\tremaining: 2.97s\n",
      "9:\tlearn: 0.4528997\ttotal: 30.2ms\tremaining: 2.98s\n",
      "10:\tlearn: 0.4471450\ttotal: 33.2ms\tremaining: 2.99s\n",
      "11:\tlearn: 0.4415941\ttotal: 35.7ms\tremaining: 2.94s\n",
      "12:\tlearn: 0.4372561\ttotal: 38.2ms\tremaining: 2.9s\n",
      "13:\tlearn: 0.4341853\ttotal: 41.2ms\tremaining: 2.9s\n",
      "14:\tlearn: 0.4312058\ttotal: 44.3ms\tremaining: 2.91s\n",
      "15:\tlearn: 0.4288147\ttotal: 47.2ms\tremaining: 2.9s\n",
      "16:\tlearn: 0.4269076\ttotal: 49.8ms\tremaining: 2.88s\n",
      "17:\tlearn: 0.4253129\ttotal: 52.9ms\tremaining: 2.89s\n",
      "18:\tlearn: 0.4236828\ttotal: 55.7ms\tremaining: 2.87s\n",
      "19:\tlearn: 0.4223899\ttotal: 58.3ms\tremaining: 2.86s\n",
      "20:\tlearn: 0.4210257\ttotal: 61.5ms\tremaining: 2.87s\n",
      "21:\tlearn: 0.4199820\ttotal: 64.2ms\tremaining: 2.85s\n",
      "22:\tlearn: 0.4191421\ttotal: 66.9ms\tremaining: 2.84s\n",
      "23:\tlearn: 0.4182996\ttotal: 69.8ms\tremaining: 2.84s\n",
      "24:\tlearn: 0.4175582\ttotal: 72.7ms\tremaining: 2.83s\n",
      "25:\tlearn: 0.4167310\ttotal: 75.7ms\tremaining: 2.84s\n",
      "26:\tlearn: 0.4158924\ttotal: 78.6ms\tremaining: 2.83s\n",
      "27:\tlearn: 0.4150843\ttotal: 81.8ms\tremaining: 2.84s\n",
      "28:\tlearn: 0.4145386\ttotal: 84.4ms\tremaining: 2.83s\n",
      "29:\tlearn: 0.4139108\ttotal: 87.3ms\tremaining: 2.82s\n",
      "30:\tlearn: 0.4134191\ttotal: 90.5ms\tremaining: 2.83s\n",
      "31:\tlearn: 0.4129819\ttotal: 93ms\tremaining: 2.81s\n",
      "32:\tlearn: 0.4119200\ttotal: 96.1ms\tremaining: 2.81s\n",
      "33:\tlearn: 0.4114767\ttotal: 98.9ms\tremaining: 2.81s\n",
      "34:\tlearn: 0.4111461\ttotal: 102ms\tremaining: 2.82s\n",
      "35:\tlearn: 0.4106696\ttotal: 105ms\tremaining: 2.82s\n",
      "36:\tlearn: 0.4103259\ttotal: 109ms\tremaining: 2.83s\n",
      "37:\tlearn: 0.4099938\ttotal: 111ms\tremaining: 2.82s\n",
      "38:\tlearn: 0.4098204\ttotal: 114ms\tremaining: 2.82s\n",
      "39:\tlearn: 0.4092307\ttotal: 117ms\tremaining: 2.81s\n",
      "40:\tlearn: 0.4088786\ttotal: 120ms\tremaining: 2.81s\n",
      "41:\tlearn: 0.4086069\ttotal: 123ms\tremaining: 2.81s\n",
      "42:\tlearn: 0.4082398\ttotal: 126ms\tremaining: 2.81s\n",
      "43:\tlearn: 0.4080318\ttotal: 129ms\tremaining: 2.8s\n",
      "44:\tlearn: 0.4076286\ttotal: 132ms\tremaining: 2.79s\n",
      "45:\tlearn: 0.4073257\ttotal: 134ms\tremaining: 2.78s\n",
      "46:\tlearn: 0.4070243\ttotal: 137ms\tremaining: 2.78s\n",
      "47:\tlearn: 0.4066252\ttotal: 140ms\tremaining: 2.78s\n",
      "48:\tlearn: 0.4061980\ttotal: 143ms\tremaining: 2.77s\n",
      "49:\tlearn: 0.4060591\ttotal: 146ms\tremaining: 2.77s\n",
      "50:\tlearn: 0.4057359\ttotal: 149ms\tremaining: 2.77s\n",
      "51:\tlearn: 0.4056030\ttotal: 151ms\tremaining: 2.76s\n",
      "52:\tlearn: 0.4053118\ttotal: 154ms\tremaining: 2.75s\n",
      "53:\tlearn: 0.4050747\ttotal: 157ms\tremaining: 2.75s\n",
      "54:\tlearn: 0.4047220\ttotal: 160ms\tremaining: 2.74s\n",
      "55:\tlearn: 0.4045548\ttotal: 163ms\tremaining: 2.75s\n",
      "56:\tlearn: 0.4043087\ttotal: 166ms\tremaining: 2.75s\n",
      "57:\tlearn: 0.4039744\ttotal: 169ms\tremaining: 2.75s\n",
      "58:\tlearn: 0.4032793\ttotal: 173ms\tremaining: 2.75s\n",
      "59:\tlearn: 0.4031554\ttotal: 176ms\tremaining: 2.76s\n",
      "60:\tlearn: 0.4029522\ttotal: 179ms\tremaining: 2.75s\n",
      "61:\tlearn: 0.4027498\ttotal: 181ms\tremaining: 2.74s\n",
      "62:\tlearn: 0.4025506\ttotal: 184ms\tremaining: 2.74s\n",
      "63:\tlearn: 0.4024601\ttotal: 187ms\tremaining: 2.73s\n",
      "64:\tlearn: 0.4023649\ttotal: 189ms\tremaining: 2.72s\n",
      "65:\tlearn: 0.4022151\ttotal: 192ms\tremaining: 2.71s\n",
      "66:\tlearn: 0.4020370\ttotal: 194ms\tremaining: 2.71s\n",
      "67:\tlearn: 0.4018430\ttotal: 197ms\tremaining: 2.7s\n",
      "68:\tlearn: 0.4017114\ttotal: 200ms\tremaining: 2.7s\n",
      "69:\tlearn: 0.4014985\ttotal: 202ms\tremaining: 2.69s\n",
      "70:\tlearn: 0.4013579\ttotal: 206ms\tremaining: 2.69s\n",
      "71:\tlearn: 0.4012254\ttotal: 209ms\tremaining: 2.7s\n",
      "72:\tlearn: 0.4008981\ttotal: 213ms\tremaining: 2.7s\n",
      "73:\tlearn: 0.4006235\ttotal: 216ms\tremaining: 2.7s\n",
      "74:\tlearn: 0.4004978\ttotal: 219ms\tremaining: 2.7s\n",
      "75:\tlearn: 0.4003548\ttotal: 223ms\tremaining: 2.71s\n",
      "76:\tlearn: 0.4002218\ttotal: 226ms\tremaining: 2.7s\n",
      "77:\tlearn: 0.4001510\ttotal: 228ms\tremaining: 2.7s\n",
      "78:\tlearn: 0.4000261\ttotal: 232ms\tremaining: 2.7s\n",
      "79:\tlearn: 0.3998474\ttotal: 236ms\tremaining: 2.71s\n",
      "80:\tlearn: 0.3997124\ttotal: 239ms\tremaining: 2.71s\n",
      "81:\tlearn: 0.3994220\ttotal: 242ms\tremaining: 2.71s\n",
      "82:\tlearn: 0.3993189\ttotal: 245ms\tremaining: 2.7s\n",
      "83:\tlearn: 0.3991803\ttotal: 247ms\tremaining: 2.7s\n",
      "84:\tlearn: 0.3990949\ttotal: 250ms\tremaining: 2.69s\n",
      "85:\tlearn: 0.3989984\ttotal: 254ms\tremaining: 2.7s\n",
      "86:\tlearn: 0.3988206\ttotal: 257ms\tremaining: 2.69s\n",
      "87:\tlearn: 0.3987754\ttotal: 260ms\tremaining: 2.69s\n",
      "88:\tlearn: 0.3985892\ttotal: 263ms\tremaining: 2.69s\n",
      "89:\tlearn: 0.3985093\ttotal: 266ms\tremaining: 2.69s\n",
      "90:\tlearn: 0.3982492\ttotal: 269ms\tremaining: 2.69s\n",
      "91:\tlearn: 0.3980318\ttotal: 272ms\tremaining: 2.68s\n",
      "92:\tlearn: 0.3979717\ttotal: 275ms\tremaining: 2.68s\n",
      "93:\tlearn: 0.3978873\ttotal: 278ms\tremaining: 2.68s\n",
      "94:\tlearn: 0.3977861\ttotal: 281ms\tremaining: 2.67s\n",
      "95:\tlearn: 0.3977261\ttotal: 283ms\tremaining: 2.67s\n",
      "96:\tlearn: 0.3975200\ttotal: 286ms\tremaining: 2.66s\n",
      "97:\tlearn: 0.3974664\ttotal: 289ms\tremaining: 2.66s\n",
      "98:\tlearn: 0.3973774\ttotal: 292ms\tremaining: 2.65s\n",
      "99:\tlearn: 0.3971177\ttotal: 294ms\tremaining: 2.65s\n",
      "100:\tlearn: 0.3969709\ttotal: 297ms\tremaining: 2.65s\n",
      "101:\tlearn: 0.3967163\ttotal: 300ms\tremaining: 2.64s\n",
      "102:\tlearn: 0.3965514\ttotal: 303ms\tremaining: 2.64s\n",
      "103:\tlearn: 0.3964349\ttotal: 306ms\tremaining: 2.64s\n",
      "104:\tlearn: 0.3963050\ttotal: 309ms\tremaining: 2.63s\n",
      "105:\tlearn: 0.3961505\ttotal: 312ms\tremaining: 2.63s\n",
      "106:\tlearn: 0.3959475\ttotal: 315ms\tremaining: 2.63s\n",
      "107:\tlearn: 0.3958923\ttotal: 318ms\tremaining: 2.62s\n",
      "108:\tlearn: 0.3958241\ttotal: 321ms\tremaining: 2.62s\n",
      "109:\tlearn: 0.3957673\ttotal: 324ms\tremaining: 2.62s\n",
      "110:\tlearn: 0.3957228\ttotal: 327ms\tremaining: 2.62s\n",
      "111:\tlearn: 0.3956628\ttotal: 330ms\tremaining: 2.62s\n",
      "112:\tlearn: 0.3954973\ttotal: 333ms\tremaining: 2.61s\n",
      "113:\tlearn: 0.3954407\ttotal: 336ms\tremaining: 2.61s\n",
      "114:\tlearn: 0.3950308\ttotal: 340ms\tremaining: 2.61s\n",
      "115:\tlearn: 0.3948890\ttotal: 343ms\tremaining: 2.61s\n",
      "116:\tlearn: 0.3948107\ttotal: 346ms\tremaining: 2.61s\n",
      "117:\tlearn: 0.3946798\ttotal: 349ms\tremaining: 2.6s\n",
      "118:\tlearn: 0.3946158\ttotal: 351ms\tremaining: 2.6s\n",
      "119:\tlearn: 0.3945130\ttotal: 354ms\tremaining: 2.59s\n",
      "120:\tlearn: 0.3944477\ttotal: 357ms\tremaining: 2.59s\n",
      "121:\tlearn: 0.3943631\ttotal: 360ms\tremaining: 2.59s\n",
      "122:\tlearn: 0.3942653\ttotal: 363ms\tremaining: 2.59s\n",
      "123:\tlearn: 0.3942021\ttotal: 365ms\tremaining: 2.58s\n",
      "124:\tlearn: 0.3940299\ttotal: 369ms\tremaining: 2.58s\n",
      "125:\tlearn: 0.3939495\ttotal: 372ms\tremaining: 2.58s\n",
      "126:\tlearn: 0.3938803\ttotal: 374ms\tremaining: 2.57s\n",
      "127:\tlearn: 0.3937370\ttotal: 377ms\tremaining: 2.57s\n",
      "128:\tlearn: 0.3936805\ttotal: 380ms\tremaining: 2.56s\n",
      "129:\tlearn: 0.3935605\ttotal: 382ms\tremaining: 2.56s\n",
      "130:\tlearn: 0.3934903\ttotal: 385ms\tremaining: 2.55s\n",
      "131:\tlearn: 0.3933499\ttotal: 388ms\tremaining: 2.55s\n",
      "132:\tlearn: 0.3932018\ttotal: 390ms\tremaining: 2.54s\n",
      "133:\tlearn: 0.3930681\ttotal: 393ms\tremaining: 2.54s\n",
      "134:\tlearn: 0.3929978\ttotal: 396ms\tremaining: 2.54s\n",
      "135:\tlearn: 0.3929327\ttotal: 398ms\tremaining: 2.53s\n",
      "136:\tlearn: 0.3928697\ttotal: 402ms\tremaining: 2.53s\n",
      "137:\tlearn: 0.3927527\ttotal: 405ms\tremaining: 2.53s\n",
      "138:\tlearn: 0.3925868\ttotal: 409ms\tremaining: 2.53s\n",
      "139:\tlearn: 0.3925458\ttotal: 412ms\tremaining: 2.53s\n",
      "140:\tlearn: 0.3924742\ttotal: 416ms\tremaining: 2.54s\n",
      "141:\tlearn: 0.3923771\ttotal: 420ms\tremaining: 2.54s\n",
      "142:\tlearn: 0.3923430\ttotal: 424ms\tremaining: 2.54s\n",
      "143:\tlearn: 0.3922954\ttotal: 429ms\tremaining: 2.55s\n",
      "144:\tlearn: 0.3922465\ttotal: 433ms\tremaining: 2.55s\n",
      "145:\tlearn: 0.3921487\ttotal: 437ms\tremaining: 2.55s\n",
      "146:\tlearn: 0.3920861\ttotal: 440ms\tremaining: 2.55s\n",
      "147:\tlearn: 0.3920379\ttotal: 445ms\tremaining: 2.56s\n",
      "148:\tlearn: 0.3919924\ttotal: 449ms\tremaining: 2.56s\n",
      "149:\tlearn: 0.3919137\ttotal: 452ms\tremaining: 2.56s\n",
      "150:\tlearn: 0.3918821\ttotal: 456ms\tremaining: 2.56s\n",
      "151:\tlearn: 0.3918027\ttotal: 459ms\tremaining: 2.56s\n",
      "152:\tlearn: 0.3916680\ttotal: 462ms\tremaining: 2.56s\n",
      "153:\tlearn: 0.3916130\ttotal: 466ms\tremaining: 2.56s\n",
      "154:\tlearn: 0.3915057\ttotal: 469ms\tremaining: 2.56s\n",
      "155:\tlearn: 0.3914040\ttotal: 472ms\tremaining: 2.55s\n",
      "156:\tlearn: 0.3913711\ttotal: 475ms\tremaining: 2.55s\n",
      "157:\tlearn: 0.3913197\ttotal: 478ms\tremaining: 2.55s\n",
      "158:\tlearn: 0.3912649\ttotal: 481ms\tremaining: 2.54s\n",
      "159:\tlearn: 0.3912486\ttotal: 485ms\tremaining: 2.54s\n",
      "160:\tlearn: 0.3911662\ttotal: 487ms\tremaining: 2.54s\n",
      "161:\tlearn: 0.3910664\ttotal: 490ms\tremaining: 2.54s\n",
      "162:\tlearn: 0.3909615\ttotal: 494ms\tremaining: 2.53s\n",
      "163:\tlearn: 0.3909015\ttotal: 496ms\tremaining: 2.53s\n",
      "164:\tlearn: 0.3908437\ttotal: 499ms\tremaining: 2.52s\n",
      "165:\tlearn: 0.3908100\ttotal: 502ms\tremaining: 2.52s\n",
      "166:\tlearn: 0.3907556\ttotal: 504ms\tremaining: 2.52s\n",
      "167:\tlearn: 0.3906970\ttotal: 507ms\tremaining: 2.51s\n",
      "168:\tlearn: 0.3906158\ttotal: 510ms\tremaining: 2.5s\n",
      "169:\tlearn: 0.3905650\ttotal: 512ms\tremaining: 2.5s\n",
      "170:\tlearn: 0.3905276\ttotal: 515ms\tremaining: 2.5s\n",
      "171:\tlearn: 0.3904635\ttotal: 518ms\tremaining: 2.49s\n",
      "172:\tlearn: 0.3904242\ttotal: 521ms\tremaining: 2.49s\n",
      "173:\tlearn: 0.3903844\ttotal: 524ms\tremaining: 2.49s\n",
      "174:\tlearn: 0.3903277\ttotal: 527ms\tremaining: 2.48s\n",
      "175:\tlearn: 0.3902306\ttotal: 529ms\tremaining: 2.48s\n",
      "176:\tlearn: 0.3901491\ttotal: 532ms\tremaining: 2.47s\n",
      "177:\tlearn: 0.3900643\ttotal: 535ms\tremaining: 2.47s\n",
      "178:\tlearn: 0.3900308\ttotal: 538ms\tremaining: 2.47s\n",
      "179:\tlearn: 0.3899961\ttotal: 541ms\tremaining: 2.46s\n",
      "180:\tlearn: 0.3899244\ttotal: 544ms\tremaining: 2.46s\n",
      "181:\tlearn: 0.3898573\ttotal: 547ms\tremaining: 2.46s\n",
      "182:\tlearn: 0.3897934\ttotal: 550ms\tremaining: 2.46s\n",
      "183:\tlearn: 0.3897483\ttotal: 553ms\tremaining: 2.45s\n",
      "184:\tlearn: 0.3896916\ttotal: 556ms\tremaining: 2.45s\n",
      "185:\tlearn: 0.3896397\ttotal: 559ms\tremaining: 2.44s\n",
      "186:\tlearn: 0.3896012\ttotal: 562ms\tremaining: 2.44s\n",
      "187:\tlearn: 0.3895403\ttotal: 564ms\tremaining: 2.44s\n",
      "188:\tlearn: 0.3895033\ttotal: 567ms\tremaining: 2.43s\n",
      "189:\tlearn: 0.3894899\ttotal: 570ms\tremaining: 2.43s\n",
      "190:\tlearn: 0.3894643\ttotal: 574ms\tremaining: 2.43s\n",
      "191:\tlearn: 0.3894086\ttotal: 577ms\tremaining: 2.43s\n",
      "192:\tlearn: 0.3893655\ttotal: 580ms\tremaining: 2.42s\n",
      "193:\tlearn: 0.3893143\ttotal: 583ms\tremaining: 2.42s\n",
      "194:\tlearn: 0.3892724\ttotal: 586ms\tremaining: 2.42s\n",
      "195:\tlearn: 0.3892555\ttotal: 589ms\tremaining: 2.42s\n",
      "196:\tlearn: 0.3892094\ttotal: 592ms\tremaining: 2.41s\n"
     ]
    },
    {
     "name": "stdout",
     "output_type": "stream",
     "text": [
      "197:\tlearn: 0.3891341\ttotal: 595ms\tremaining: 2.41s\n",
      "198:\tlearn: 0.3891058\ttotal: 599ms\tremaining: 2.41s\n",
      "199:\tlearn: 0.3890776\ttotal: 603ms\tremaining: 2.41s\n",
      "200:\tlearn: 0.3889994\ttotal: 606ms\tremaining: 2.41s\n",
      "201:\tlearn: 0.3889611\ttotal: 610ms\tremaining: 2.41s\n",
      "202:\tlearn: 0.3888977\ttotal: 613ms\tremaining: 2.41s\n",
      "203:\tlearn: 0.3888626\ttotal: 617ms\tremaining: 2.4s\n",
      "204:\tlearn: 0.3888401\ttotal: 621ms\tremaining: 2.41s\n",
      "205:\tlearn: 0.3888046\ttotal: 624ms\tremaining: 2.4s\n",
      "206:\tlearn: 0.3887704\ttotal: 627ms\tremaining: 2.4s\n",
      "207:\tlearn: 0.3886820\ttotal: 630ms\tremaining: 2.4s\n",
      "208:\tlearn: 0.3886349\ttotal: 633ms\tremaining: 2.39s\n",
      "209:\tlearn: 0.3886200\ttotal: 636ms\tremaining: 2.39s\n",
      "210:\tlearn: 0.3885784\ttotal: 639ms\tremaining: 2.39s\n",
      "211:\tlearn: 0.3883324\ttotal: 642ms\tremaining: 2.39s\n",
      "212:\tlearn: 0.3882908\ttotal: 645ms\tremaining: 2.38s\n",
      "213:\tlearn: 0.3882537\ttotal: 647ms\tremaining: 2.38s\n",
      "214:\tlearn: 0.3882139\ttotal: 650ms\tremaining: 2.37s\n",
      "215:\tlearn: 0.3881713\ttotal: 652ms\tremaining: 2.37s\n",
      "216:\tlearn: 0.3881423\ttotal: 656ms\tremaining: 2.37s\n",
      "217:\tlearn: 0.3880726\ttotal: 659ms\tremaining: 2.37s\n",
      "218:\tlearn: 0.3880040\ttotal: 662ms\tremaining: 2.36s\n",
      "219:\tlearn: 0.3879796\ttotal: 666ms\tremaining: 2.36s\n",
      "220:\tlearn: 0.3879357\ttotal: 668ms\tremaining: 2.36s\n",
      "221:\tlearn: 0.3878922\ttotal: 671ms\tremaining: 2.35s\n",
      "222:\tlearn: 0.3878321\ttotal: 674ms\tremaining: 2.35s\n",
      "223:\tlearn: 0.3877942\ttotal: 677ms\tremaining: 2.34s\n",
      "224:\tlearn: 0.3877645\ttotal: 679ms\tremaining: 2.34s\n",
      "225:\tlearn: 0.3877348\ttotal: 682ms\tremaining: 2.33s\n",
      "226:\tlearn: 0.3877093\ttotal: 685ms\tremaining: 2.33s\n",
      "227:\tlearn: 0.3876794\ttotal: 689ms\tremaining: 2.33s\n",
      "228:\tlearn: 0.3876448\ttotal: 691ms\tremaining: 2.33s\n",
      "229:\tlearn: 0.3876121\ttotal: 694ms\tremaining: 2.32s\n",
      "230:\tlearn: 0.3875847\ttotal: 697ms\tremaining: 2.32s\n",
      "231:\tlearn: 0.3875756\ttotal: 701ms\tremaining: 2.32s\n",
      "232:\tlearn: 0.3875457\ttotal: 703ms\tremaining: 2.31s\n",
      "233:\tlearn: 0.3875229\ttotal: 707ms\tremaining: 2.31s\n",
      "234:\tlearn: 0.3874919\ttotal: 709ms\tremaining: 2.31s\n",
      "235:\tlearn: 0.3874360\ttotal: 713ms\tremaining: 2.31s\n",
      "236:\tlearn: 0.3874170\ttotal: 716ms\tremaining: 2.3s\n",
      "237:\tlearn: 0.3873965\ttotal: 718ms\tremaining: 2.3s\n",
      "238:\tlearn: 0.3873595\ttotal: 721ms\tremaining: 2.29s\n",
      "239:\tlearn: 0.3873171\ttotal: 724ms\tremaining: 2.29s\n",
      "240:\tlearn: 0.3871292\ttotal: 727ms\tremaining: 2.29s\n",
      "241:\tlearn: 0.3870997\ttotal: 730ms\tremaining: 2.29s\n",
      "242:\tlearn: 0.3870542\ttotal: 733ms\tremaining: 2.28s\n",
      "243:\tlearn: 0.3870030\ttotal: 736ms\tremaining: 2.28s\n",
      "244:\tlearn: 0.3867118\ttotal: 739ms\tremaining: 2.28s\n",
      "245:\tlearn: 0.3866755\ttotal: 743ms\tremaining: 2.28s\n",
      "246:\tlearn: 0.3866578\ttotal: 746ms\tremaining: 2.27s\n",
      "247:\tlearn: 0.3866193\ttotal: 748ms\tremaining: 2.27s\n",
      "248:\tlearn: 0.3865919\ttotal: 752ms\tremaining: 2.27s\n",
      "249:\tlearn: 0.3865572\ttotal: 754ms\tremaining: 2.26s\n",
      "250:\tlearn: 0.3865272\ttotal: 757ms\tremaining: 2.26s\n",
      "251:\tlearn: 0.3865075\ttotal: 759ms\tremaining: 2.25s\n",
      "252:\tlearn: 0.3864835\ttotal: 762ms\tremaining: 2.25s\n",
      "253:\tlearn: 0.3864727\ttotal: 765ms\tremaining: 2.25s\n",
      "254:\tlearn: 0.3864453\ttotal: 768ms\tremaining: 2.24s\n",
      "255:\tlearn: 0.3864215\ttotal: 770ms\tremaining: 2.24s\n",
      "256:\tlearn: 0.3864027\ttotal: 773ms\tremaining: 2.23s\n",
      "257:\tlearn: 0.3863761\ttotal: 776ms\tremaining: 2.23s\n",
      "258:\tlearn: 0.3862868\ttotal: 778ms\tremaining: 2.23s\n",
      "259:\tlearn: 0.3862787\ttotal: 782ms\tremaining: 2.23s\n",
      "260:\tlearn: 0.3862479\ttotal: 784ms\tremaining: 2.22s\n",
      "261:\tlearn: 0.3862302\ttotal: 787ms\tremaining: 2.22s\n",
      "262:\tlearn: 0.3862046\ttotal: 790ms\tremaining: 2.21s\n",
      "263:\tlearn: 0.3861647\ttotal: 793ms\tremaining: 2.21s\n",
      "264:\tlearn: 0.3861274\ttotal: 796ms\tremaining: 2.21s\n",
      "265:\tlearn: 0.3861097\ttotal: 799ms\tremaining: 2.2s\n",
      "266:\tlearn: 0.3860807\ttotal: 801ms\tremaining: 2.2s\n",
      "267:\tlearn: 0.3860136\ttotal: 805ms\tremaining: 2.2s\n",
      "268:\tlearn: 0.3859909\ttotal: 809ms\tremaining: 2.2s\n",
      "269:\tlearn: 0.3859711\ttotal: 812ms\tremaining: 2.19s\n",
      "270:\tlearn: 0.3859335\ttotal: 815ms\tremaining: 2.19s\n",
      "271:\tlearn: 0.3858950\ttotal: 819ms\tremaining: 2.19s\n",
      "272:\tlearn: 0.3858740\ttotal: 821ms\tremaining: 2.19s\n",
      "273:\tlearn: 0.3858454\ttotal: 825ms\tremaining: 2.19s\n",
      "274:\tlearn: 0.3858154\ttotal: 829ms\tremaining: 2.18s\n",
      "275:\tlearn: 0.3857732\ttotal: 831ms\tremaining: 2.18s\n",
      "276:\tlearn: 0.3857470\ttotal: 834ms\tremaining: 2.18s\n",
      "277:\tlearn: 0.3857057\ttotal: 837ms\tremaining: 2.17s\n",
      "278:\tlearn: 0.3856515\ttotal: 840ms\tremaining: 2.17s\n",
      "279:\tlearn: 0.3856355\ttotal: 843ms\tremaining: 2.17s\n",
      "280:\tlearn: 0.3855917\ttotal: 846ms\tremaining: 2.17s\n",
      "281:\tlearn: 0.3855733\ttotal: 850ms\tremaining: 2.16s\n",
      "282:\tlearn: 0.3855384\ttotal: 853ms\tremaining: 2.16s\n",
      "283:\tlearn: 0.3855322\ttotal: 857ms\tremaining: 2.16s\n",
      "284:\tlearn: 0.3855082\ttotal: 860ms\tremaining: 2.16s\n",
      "285:\tlearn: 0.3854726\ttotal: 863ms\tremaining: 2.15s\n",
      "286:\tlearn: 0.3854357\ttotal: 866ms\tremaining: 2.15s\n",
      "287:\tlearn: 0.3852439\ttotal: 869ms\tremaining: 2.15s\n",
      "288:\tlearn: 0.3851903\ttotal: 872ms\tremaining: 2.15s\n",
      "289:\tlearn: 0.3851553\ttotal: 875ms\tremaining: 2.14s\n",
      "290:\tlearn: 0.3851286\ttotal: 877ms\tremaining: 2.14s\n",
      "291:\tlearn: 0.3850966\ttotal: 880ms\tremaining: 2.13s\n",
      "292:\tlearn: 0.3850868\ttotal: 883ms\tremaining: 2.13s\n",
      "293:\tlearn: 0.3850657\ttotal: 886ms\tremaining: 2.13s\n",
      "294:\tlearn: 0.3850370\ttotal: 889ms\tremaining: 2.13s\n",
      "295:\tlearn: 0.3849968\ttotal: 892ms\tremaining: 2.12s\n",
      "296:\tlearn: 0.3849243\ttotal: 895ms\tremaining: 2.12s\n",
      "297:\tlearn: 0.3849034\ttotal: 898ms\tremaining: 2.12s\n",
      "298:\tlearn: 0.3848571\ttotal: 901ms\tremaining: 2.11s\n",
      "299:\tlearn: 0.3847830\ttotal: 903ms\tremaining: 2.11s\n",
      "300:\tlearn: 0.3847629\ttotal: 906ms\tremaining: 2.1s\n",
      "301:\tlearn: 0.3847380\ttotal: 911ms\tremaining: 2.11s\n",
      "302:\tlearn: 0.3846923\ttotal: 915ms\tremaining: 2.1s\n",
      "303:\tlearn: 0.3846752\ttotal: 918ms\tremaining: 2.1s\n",
      "304:\tlearn: 0.3846538\ttotal: 922ms\tremaining: 2.1s\n",
      "305:\tlearn: 0.3846157\ttotal: 925ms\tremaining: 2.1s\n",
      "306:\tlearn: 0.3845911\ttotal: 929ms\tremaining: 2.1s\n",
      "307:\tlearn: 0.3845570\ttotal: 931ms\tremaining: 2.09s\n",
      "308:\tlearn: 0.3845363\ttotal: 935ms\tremaining: 2.09s\n",
      "309:\tlearn: 0.3845087\ttotal: 938ms\tremaining: 2.09s\n",
      "310:\tlearn: 0.3844866\ttotal: 942ms\tremaining: 2.09s\n",
      "311:\tlearn: 0.3844656\ttotal: 945ms\tremaining: 2.08s\n",
      "312:\tlearn: 0.3844229\ttotal: 949ms\tremaining: 2.08s\n",
      "313:\tlearn: 0.3843667\ttotal: 952ms\tremaining: 2.08s\n",
      "314:\tlearn: 0.3843361\ttotal: 956ms\tremaining: 2.08s\n",
      "315:\tlearn: 0.3843170\ttotal: 959ms\tremaining: 2.08s\n",
      "316:\tlearn: 0.3842912\ttotal: 962ms\tremaining: 2.07s\n",
      "317:\tlearn: 0.3842681\ttotal: 965ms\tremaining: 2.07s\n",
      "318:\tlearn: 0.3842458\ttotal: 968ms\tremaining: 2.07s\n",
      "319:\tlearn: 0.3842227\ttotal: 972ms\tremaining: 2.07s\n",
      "320:\tlearn: 0.3842036\ttotal: 976ms\tremaining: 2.06s\n",
      "321:\tlearn: 0.3841863\ttotal: 979ms\tremaining: 2.06s\n",
      "322:\tlearn: 0.3841718\ttotal: 982ms\tremaining: 2.06s\n",
      "323:\tlearn: 0.3841541\ttotal: 985ms\tremaining: 2.06s\n",
      "324:\tlearn: 0.3841407\ttotal: 989ms\tremaining: 2.05s\n",
      "325:\tlearn: 0.3841024\ttotal: 991ms\tremaining: 2.05s\n",
      "326:\tlearn: 0.3840737\ttotal: 995ms\tremaining: 2.05s\n",
      "327:\tlearn: 0.3840565\ttotal: 997ms\tremaining: 2.04s\n",
      "328:\tlearn: 0.3839936\ttotal: 1s\tremaining: 2.04s\n",
      "329:\tlearn: 0.3839765\ttotal: 1s\tremaining: 2.04s\n",
      "330:\tlearn: 0.3839621\ttotal: 1.01s\tremaining: 2.03s\n",
      "331:\tlearn: 0.3839311\ttotal: 1.01s\tremaining: 2.03s\n",
      "332:\tlearn: 0.3839157\ttotal: 1.01s\tremaining: 2.03s\n",
      "333:\tlearn: 0.3839099\ttotal: 1.02s\tremaining: 2.03s\n",
      "334:\tlearn: 0.3838879\ttotal: 1.02s\tremaining: 2.03s\n",
      "335:\tlearn: 0.3838273\ttotal: 1.03s\tremaining: 2.03s\n",
      "336:\tlearn: 0.3838016\ttotal: 1.03s\tremaining: 2.03s\n",
      "337:\tlearn: 0.3837473\ttotal: 1.03s\tremaining: 2.02s\n",
      "338:\tlearn: 0.3837137\ttotal: 1.04s\tremaining: 2.02s\n",
      "339:\tlearn: 0.3836841\ttotal: 1.04s\tremaining: 2.02s\n",
      "340:\tlearn: 0.3836757\ttotal: 1.04s\tremaining: 2.02s\n",
      "341:\tlearn: 0.3836447\ttotal: 1.05s\tremaining: 2.02s\n",
      "342:\tlearn: 0.3836272\ttotal: 1.05s\tremaining: 2.01s\n",
      "343:\tlearn: 0.3836028\ttotal: 1.05s\tremaining: 2.01s\n",
      "344:\tlearn: 0.3835884\ttotal: 1.06s\tremaining: 2s\n",
      "345:\tlearn: 0.3835696\ttotal: 1.06s\tremaining: 2s\n",
      "346:\tlearn: 0.3835429\ttotal: 1.06s\tremaining: 2s\n",
      "347:\tlearn: 0.3835121\ttotal: 1.06s\tremaining: 2s\n",
      "348:\tlearn: 0.3834856\ttotal: 1.07s\tremaining: 1.99s\n",
      "349:\tlearn: 0.3834584\ttotal: 1.07s\tremaining: 1.99s\n",
      "350:\tlearn: 0.3834460\ttotal: 1.07s\tremaining: 1.99s\n",
      "351:\tlearn: 0.3834305\ttotal: 1.08s\tremaining: 1.98s\n",
      "352:\tlearn: 0.3834171\ttotal: 1.08s\tremaining: 1.98s\n",
      "353:\tlearn: 0.3834068\ttotal: 1.08s\tremaining: 1.98s\n",
      "354:\tlearn: 0.3833611\ttotal: 1.09s\tremaining: 1.98s\n",
      "355:\tlearn: 0.3833490\ttotal: 1.09s\tremaining: 1.97s\n",
      "356:\tlearn: 0.3833221\ttotal: 1.09s\tremaining: 1.97s\n",
      "357:\tlearn: 0.3832997\ttotal: 1.1s\tremaining: 1.97s\n",
      "358:\tlearn: 0.3832540\ttotal: 1.1s\tremaining: 1.96s\n",
      "359:\tlearn: 0.3832280\ttotal: 1.1s\tremaining: 1.96s\n",
      "360:\tlearn: 0.3831968\ttotal: 1.11s\tremaining: 1.96s\n",
      "361:\tlearn: 0.3831891\ttotal: 1.11s\tremaining: 1.96s\n",
      "362:\tlearn: 0.3831704\ttotal: 1.11s\tremaining: 1.95s\n",
      "363:\tlearn: 0.3831612\ttotal: 1.12s\tremaining: 1.95s\n",
      "364:\tlearn: 0.3831309\ttotal: 1.12s\tremaining: 1.95s\n",
      "365:\tlearn: 0.3831089\ttotal: 1.12s\tremaining: 1.95s\n",
      "366:\tlearn: 0.3830830\ttotal: 1.13s\tremaining: 1.94s\n",
      "367:\tlearn: 0.3829652\ttotal: 1.13s\tremaining: 1.94s\n",
      "368:\tlearn: 0.3829608\ttotal: 1.13s\tremaining: 1.94s\n",
      "369:\tlearn: 0.3828688\ttotal: 1.14s\tremaining: 1.94s\n",
      "370:\tlearn: 0.3828434\ttotal: 1.14s\tremaining: 1.93s\n",
      "371:\tlearn: 0.3828294\ttotal: 1.14s\tremaining: 1.93s\n",
      "372:\tlearn: 0.3828020\ttotal: 1.15s\tremaining: 1.93s\n",
      "373:\tlearn: 0.3827889\ttotal: 1.15s\tremaining: 1.93s\n",
      "374:\tlearn: 0.3827704\ttotal: 1.15s\tremaining: 1.92s\n",
      "375:\tlearn: 0.3827563\ttotal: 1.16s\tremaining: 1.92s\n",
      "376:\tlearn: 0.3827339\ttotal: 1.16s\tremaining: 1.92s\n",
      "377:\tlearn: 0.3827135\ttotal: 1.16s\tremaining: 1.91s\n",
      "378:\tlearn: 0.3826962\ttotal: 1.17s\tremaining: 1.91s\n",
      "379:\tlearn: 0.3826498\ttotal: 1.17s\tremaining: 1.91s\n",
      "380:\tlearn: 0.3826163\ttotal: 1.17s\tremaining: 1.9s\n",
      "381:\tlearn: 0.3826036\ttotal: 1.17s\tremaining: 1.9s\n",
      "382:\tlearn: 0.3825976\ttotal: 1.18s\tremaining: 1.9s\n",
      "383:\tlearn: 0.3825809\ttotal: 1.18s\tremaining: 1.89s\n",
      "384:\tlearn: 0.3825643\ttotal: 1.18s\tremaining: 1.89s\n",
      "385:\tlearn: 0.3825509\ttotal: 1.19s\tremaining: 1.89s\n",
      "386:\tlearn: 0.3825331\ttotal: 1.19s\tremaining: 1.88s\n",
      "387:\tlearn: 0.3824858\ttotal: 1.19s\tremaining: 1.88s\n",
      "388:\tlearn: 0.3824808\ttotal: 1.2s\tremaining: 1.88s\n",
      "389:\tlearn: 0.3824708\ttotal: 1.2s\tremaining: 1.87s\n",
      "390:\tlearn: 0.3824652\ttotal: 1.2s\tremaining: 1.87s\n"
     ]
    },
    {
     "name": "stdout",
     "output_type": "stream",
     "text": [
      "391:\tlearn: 0.3824590\ttotal: 1.21s\tremaining: 1.87s\n",
      "392:\tlearn: 0.3824360\ttotal: 1.21s\tremaining: 1.87s\n",
      "393:\tlearn: 0.3824208\ttotal: 1.21s\tremaining: 1.87s\n",
      "394:\tlearn: 0.3824064\ttotal: 1.22s\tremaining: 1.86s\n",
      "395:\tlearn: 0.3823780\ttotal: 1.22s\tremaining: 1.86s\n",
      "396:\tlearn: 0.3823503\ttotal: 1.22s\tremaining: 1.86s\n",
      "397:\tlearn: 0.3823458\ttotal: 1.23s\tremaining: 1.86s\n",
      "398:\tlearn: 0.3823084\ttotal: 1.23s\tremaining: 1.85s\n",
      "399:\tlearn: 0.3823033\ttotal: 1.23s\tremaining: 1.85s\n",
      "400:\tlearn: 0.3822755\ttotal: 1.24s\tremaining: 1.85s\n",
      "401:\tlearn: 0.3822666\ttotal: 1.24s\tremaining: 1.85s\n",
      "402:\tlearn: 0.3822525\ttotal: 1.24s\tremaining: 1.84s\n",
      "403:\tlearn: 0.3822079\ttotal: 1.25s\tremaining: 1.84s\n",
      "404:\tlearn: 0.3821956\ttotal: 1.25s\tremaining: 1.83s\n",
      "405:\tlearn: 0.3821667\ttotal: 1.25s\tremaining: 1.83s\n",
      "406:\tlearn: 0.3821565\ttotal: 1.25s\tremaining: 1.83s\n",
      "407:\tlearn: 0.3821415\ttotal: 1.26s\tremaining: 1.82s\n",
      "408:\tlearn: 0.3821274\ttotal: 1.26s\tremaining: 1.82s\n",
      "409:\tlearn: 0.3820732\ttotal: 1.26s\tremaining: 1.82s\n",
      "410:\tlearn: 0.3820587\ttotal: 1.27s\tremaining: 1.81s\n",
      "411:\tlearn: 0.3820475\ttotal: 1.27s\tremaining: 1.81s\n",
      "412:\tlearn: 0.3820043\ttotal: 1.27s\tremaining: 1.81s\n",
      "413:\tlearn: 0.3819682\ttotal: 1.27s\tremaining: 1.8s\n",
      "414:\tlearn: 0.3819475\ttotal: 1.28s\tremaining: 1.8s\n",
      "415:\tlearn: 0.3819092\ttotal: 1.28s\tremaining: 1.8s\n",
      "416:\tlearn: 0.3818916\ttotal: 1.28s\tremaining: 1.79s\n",
      "417:\tlearn: 0.3818789\ttotal: 1.29s\tremaining: 1.79s\n",
      "418:\tlearn: 0.3818534\ttotal: 1.29s\tremaining: 1.79s\n",
      "419:\tlearn: 0.3818399\ttotal: 1.29s\tremaining: 1.78s\n",
      "420:\tlearn: 0.3818250\ttotal: 1.29s\tremaining: 1.78s\n",
      "421:\tlearn: 0.3818114\ttotal: 1.3s\tremaining: 1.78s\n",
      "422:\tlearn: 0.3817927\ttotal: 1.3s\tremaining: 1.77s\n",
      "423:\tlearn: 0.3817715\ttotal: 1.3s\tremaining: 1.77s\n",
      "424:\tlearn: 0.3817556\ttotal: 1.3s\tremaining: 1.76s\n",
      "425:\tlearn: 0.3817343\ttotal: 1.31s\tremaining: 1.76s\n",
      "426:\tlearn: 0.3817182\ttotal: 1.31s\tremaining: 1.76s\n",
      "427:\tlearn: 0.3816937\ttotal: 1.31s\tremaining: 1.75s\n",
      "428:\tlearn: 0.3816791\ttotal: 1.31s\tremaining: 1.75s\n",
      "429:\tlearn: 0.3816562\ttotal: 1.32s\tremaining: 1.75s\n",
      "430:\tlearn: 0.3816176\ttotal: 1.32s\tremaining: 1.74s\n",
      "431:\tlearn: 0.3815927\ttotal: 1.32s\tremaining: 1.74s\n",
      "432:\tlearn: 0.3815768\ttotal: 1.33s\tremaining: 1.74s\n",
      "433:\tlearn: 0.3815583\ttotal: 1.33s\tremaining: 1.73s\n",
      "434:\tlearn: 0.3815438\ttotal: 1.33s\tremaining: 1.73s\n",
      "435:\tlearn: 0.3815201\ttotal: 1.33s\tremaining: 1.73s\n",
      "436:\tlearn: 0.3815072\ttotal: 1.34s\tremaining: 1.73s\n",
      "437:\tlearn: 0.3814666\ttotal: 1.34s\tremaining: 1.72s\n",
      "438:\tlearn: 0.3814356\ttotal: 1.34s\tremaining: 1.72s\n",
      "439:\tlearn: 0.3814219\ttotal: 1.35s\tremaining: 1.72s\n",
      "440:\tlearn: 0.3814058\ttotal: 1.35s\tremaining: 1.71s\n",
      "441:\tlearn: 0.3813915\ttotal: 1.35s\tremaining: 1.71s\n",
      "442:\tlearn: 0.3813662\ttotal: 1.36s\tremaining: 1.71s\n",
      "443:\tlearn: 0.3813469\ttotal: 1.36s\tremaining: 1.7s\n",
      "444:\tlearn: 0.3813388\ttotal: 1.36s\tremaining: 1.7s\n",
      "445:\tlearn: 0.3813242\ttotal: 1.37s\tremaining: 1.7s\n",
      "446:\tlearn: 0.3813155\ttotal: 1.37s\tremaining: 1.7s\n",
      "447:\tlearn: 0.3813120\ttotal: 1.38s\tremaining: 1.69s\n",
      "448:\tlearn: 0.3812993\ttotal: 1.38s\tremaining: 1.69s\n",
      "449:\tlearn: 0.3812883\ttotal: 1.38s\tremaining: 1.69s\n",
      "450:\tlearn: 0.3812763\ttotal: 1.38s\tremaining: 1.69s\n",
      "451:\tlearn: 0.3812658\ttotal: 1.39s\tremaining: 1.68s\n",
      "452:\tlearn: 0.3812408\ttotal: 1.39s\tremaining: 1.68s\n",
      "453:\tlearn: 0.3812244\ttotal: 1.39s\tremaining: 1.67s\n",
      "454:\tlearn: 0.3812101\ttotal: 1.39s\tremaining: 1.67s\n",
      "455:\tlearn: 0.3811992\ttotal: 1.4s\tremaining: 1.67s\n",
      "456:\tlearn: 0.3811761\ttotal: 1.4s\tremaining: 1.67s\n",
      "457:\tlearn: 0.3811670\ttotal: 1.41s\tremaining: 1.66s\n",
      "458:\tlearn: 0.3811297\ttotal: 1.41s\tremaining: 1.66s\n",
      "459:\tlearn: 0.3811186\ttotal: 1.41s\tremaining: 1.66s\n",
      "460:\tlearn: 0.3810981\ttotal: 1.42s\tremaining: 1.66s\n",
      "461:\tlearn: 0.3810912\ttotal: 1.42s\tremaining: 1.66s\n",
      "462:\tlearn: 0.3810718\ttotal: 1.43s\tremaining: 1.65s\n",
      "463:\tlearn: 0.3810655\ttotal: 1.43s\tremaining: 1.65s\n",
      "464:\tlearn: 0.3810347\ttotal: 1.43s\tremaining: 1.65s\n",
      "465:\tlearn: 0.3810098\ttotal: 1.44s\tremaining: 1.64s\n",
      "466:\tlearn: 0.3809942\ttotal: 1.44s\tremaining: 1.64s\n",
      "467:\tlearn: 0.3809821\ttotal: 1.44s\tremaining: 1.64s\n",
      "468:\tlearn: 0.3809469\ttotal: 1.44s\tremaining: 1.64s\n",
      "469:\tlearn: 0.3809342\ttotal: 1.45s\tremaining: 1.63s\n",
      "470:\tlearn: 0.3809284\ttotal: 1.45s\tremaining: 1.63s\n",
      "471:\tlearn: 0.3809054\ttotal: 1.45s\tremaining: 1.62s\n",
      "472:\tlearn: 0.3808639\ttotal: 1.45s\tremaining: 1.62s\n",
      "473:\tlearn: 0.3808425\ttotal: 1.46s\tremaining: 1.62s\n",
      "474:\tlearn: 0.3808171\ttotal: 1.46s\tremaining: 1.61s\n",
      "475:\tlearn: 0.3807998\ttotal: 1.46s\tremaining: 1.61s\n",
      "476:\tlearn: 0.3807819\ttotal: 1.47s\tremaining: 1.61s\n",
      "477:\tlearn: 0.3807783\ttotal: 1.47s\tremaining: 1.61s\n",
      "478:\tlearn: 0.3807654\ttotal: 1.47s\tremaining: 1.6s\n",
      "479:\tlearn: 0.3807538\ttotal: 1.48s\tremaining: 1.6s\n",
      "480:\tlearn: 0.3807385\ttotal: 1.48s\tremaining: 1.59s\n",
      "481:\tlearn: 0.3807309\ttotal: 1.48s\tremaining: 1.59s\n",
      "482:\tlearn: 0.3807205\ttotal: 1.48s\tremaining: 1.59s\n",
      "483:\tlearn: 0.3806943\ttotal: 1.49s\tremaining: 1.58s\n",
      "484:\tlearn: 0.3806815\ttotal: 1.49s\tremaining: 1.58s\n",
      "485:\tlearn: 0.3806646\ttotal: 1.49s\tremaining: 1.58s\n",
      "486:\tlearn: 0.3806518\ttotal: 1.5s\tremaining: 1.57s\n",
      "487:\tlearn: 0.3806437\ttotal: 1.5s\tremaining: 1.57s\n",
      "488:\tlearn: 0.3806242\ttotal: 1.5s\tremaining: 1.57s\n",
      "489:\tlearn: 0.3806208\ttotal: 1.5s\tremaining: 1.56s\n",
      "490:\tlearn: 0.3806020\ttotal: 1.51s\tremaining: 1.56s\n",
      "491:\tlearn: 0.3805927\ttotal: 1.51s\tremaining: 1.56s\n",
      "492:\tlearn: 0.3805763\ttotal: 1.51s\tremaining: 1.55s\n",
      "493:\tlearn: 0.3805586\ttotal: 1.51s\tremaining: 1.55s\n",
      "494:\tlearn: 0.3805405\ttotal: 1.52s\tremaining: 1.55s\n",
      "495:\tlearn: 0.3805342\ttotal: 1.52s\tremaining: 1.55s\n",
      "496:\tlearn: 0.3805190\ttotal: 1.52s\tremaining: 1.54s\n",
      "497:\tlearn: 0.3805076\ttotal: 1.53s\tremaining: 1.54s\n",
      "498:\tlearn: 0.3804966\ttotal: 1.53s\tremaining: 1.54s\n",
      "499:\tlearn: 0.3804807\ttotal: 1.53s\tremaining: 1.53s\n",
      "500:\tlearn: 0.3804555\ttotal: 1.54s\tremaining: 1.53s\n",
      "501:\tlearn: 0.3804192\ttotal: 1.54s\tremaining: 1.53s\n",
      "502:\tlearn: 0.3804036\ttotal: 1.54s\tremaining: 1.52s\n",
      "503:\tlearn: 0.3803865\ttotal: 1.54s\tremaining: 1.52s\n",
      "504:\tlearn: 0.3803627\ttotal: 1.55s\tremaining: 1.52s\n",
      "505:\tlearn: 0.3803396\ttotal: 1.55s\tremaining: 1.51s\n",
      "506:\tlearn: 0.3803205\ttotal: 1.55s\tremaining: 1.51s\n",
      "507:\tlearn: 0.3803089\ttotal: 1.56s\tremaining: 1.51s\n",
      "508:\tlearn: 0.3802856\ttotal: 1.56s\tremaining: 1.5s\n",
      "509:\tlearn: 0.3802665\ttotal: 1.56s\tremaining: 1.5s\n",
      "510:\tlearn: 0.3802554\ttotal: 1.56s\tremaining: 1.5s\n",
      "511:\tlearn: 0.3802368\ttotal: 1.57s\tremaining: 1.49s\n",
      "512:\tlearn: 0.3802175\ttotal: 1.57s\tremaining: 1.49s\n",
      "513:\tlearn: 0.3802062\ttotal: 1.57s\tremaining: 1.49s\n",
      "514:\tlearn: 0.3802016\ttotal: 1.58s\tremaining: 1.49s\n",
      "515:\tlearn: 0.3801991\ttotal: 1.58s\tremaining: 1.48s\n",
      "516:\tlearn: 0.3801861\ttotal: 1.58s\tremaining: 1.48s\n",
      "517:\tlearn: 0.3801756\ttotal: 1.59s\tremaining: 1.48s\n",
      "518:\tlearn: 0.3801564\ttotal: 1.59s\tremaining: 1.47s\n",
      "519:\tlearn: 0.3801343\ttotal: 1.59s\tremaining: 1.47s\n",
      "520:\tlearn: 0.3801179\ttotal: 1.59s\tremaining: 1.47s\n",
      "521:\tlearn: 0.3800926\ttotal: 1.6s\tremaining: 1.46s\n",
      "522:\tlearn: 0.3800797\ttotal: 1.6s\tremaining: 1.46s\n",
      "523:\tlearn: 0.3800658\ttotal: 1.6s\tremaining: 1.46s\n",
      "524:\tlearn: 0.3800585\ttotal: 1.61s\tremaining: 1.45s\n",
      "525:\tlearn: 0.3800487\ttotal: 1.61s\tremaining: 1.45s\n",
      "526:\tlearn: 0.3800401\ttotal: 1.61s\tremaining: 1.45s\n",
      "527:\tlearn: 0.3800246\ttotal: 1.62s\tremaining: 1.44s\n",
      "528:\tlearn: 0.3800202\ttotal: 1.62s\tremaining: 1.44s\n",
      "529:\tlearn: 0.3800098\ttotal: 1.62s\tremaining: 1.44s\n",
      "530:\tlearn: 0.3800001\ttotal: 1.63s\tremaining: 1.44s\n",
      "531:\tlearn: 0.3799807\ttotal: 1.63s\tremaining: 1.43s\n",
      "532:\tlearn: 0.3799619\ttotal: 1.63s\tremaining: 1.43s\n",
      "533:\tlearn: 0.3799438\ttotal: 1.64s\tremaining: 1.43s\n",
      "534:\tlearn: 0.3799408\ttotal: 1.64s\tremaining: 1.42s\n",
      "535:\tlearn: 0.3799254\ttotal: 1.64s\tremaining: 1.42s\n",
      "536:\tlearn: 0.3798988\ttotal: 1.65s\tremaining: 1.42s\n",
      "537:\tlearn: 0.3798639\ttotal: 1.65s\tremaining: 1.42s\n",
      "538:\tlearn: 0.3798395\ttotal: 1.65s\tremaining: 1.41s\n",
      "539:\tlearn: 0.3798244\ttotal: 1.66s\tremaining: 1.41s\n",
      "540:\tlearn: 0.3798097\ttotal: 1.66s\tremaining: 1.41s\n",
      "541:\tlearn: 0.3797973\ttotal: 1.66s\tremaining: 1.4s\n",
      "542:\tlearn: 0.3797823\ttotal: 1.66s\tremaining: 1.4s\n",
      "543:\tlearn: 0.3797682\ttotal: 1.67s\tremaining: 1.4s\n",
      "544:\tlearn: 0.3797555\ttotal: 1.67s\tremaining: 1.39s\n",
      "545:\tlearn: 0.3797405\ttotal: 1.67s\tremaining: 1.39s\n",
      "546:\tlearn: 0.3797322\ttotal: 1.68s\tremaining: 1.39s\n",
      "547:\tlearn: 0.3797235\ttotal: 1.68s\tremaining: 1.38s\n",
      "548:\tlearn: 0.3797135\ttotal: 1.68s\tremaining: 1.38s\n",
      "549:\tlearn: 0.3797115\ttotal: 1.68s\tremaining: 1.38s\n",
      "550:\tlearn: 0.3796949\ttotal: 1.69s\tremaining: 1.37s\n",
      "551:\tlearn: 0.3796837\ttotal: 1.69s\tremaining: 1.37s\n",
      "552:\tlearn: 0.3796622\ttotal: 1.69s\tremaining: 1.37s\n",
      "553:\tlearn: 0.3796434\ttotal: 1.7s\tremaining: 1.36s\n",
      "554:\tlearn: 0.3796333\ttotal: 1.7s\tremaining: 1.36s\n",
      "555:\tlearn: 0.3796210\ttotal: 1.7s\tremaining: 1.36s\n",
      "556:\tlearn: 0.3795950\ttotal: 1.7s\tremaining: 1.35s\n",
      "557:\tlearn: 0.3795884\ttotal: 1.71s\tremaining: 1.35s\n",
      "558:\tlearn: 0.3795768\ttotal: 1.71s\tremaining: 1.35s\n",
      "559:\tlearn: 0.3795678\ttotal: 1.71s\tremaining: 1.35s\n",
      "560:\tlearn: 0.3795530\ttotal: 1.72s\tremaining: 1.34s\n",
      "561:\tlearn: 0.3795214\ttotal: 1.72s\tremaining: 1.34s\n",
      "562:\tlearn: 0.3795015\ttotal: 1.72s\tremaining: 1.34s\n",
      "563:\tlearn: 0.3794899\ttotal: 1.73s\tremaining: 1.33s\n",
      "564:\tlearn: 0.3794833\ttotal: 1.73s\tremaining: 1.33s\n",
      "565:\tlearn: 0.3794784\ttotal: 1.73s\tremaining: 1.33s\n",
      "566:\tlearn: 0.3794691\ttotal: 1.73s\tremaining: 1.32s\n",
      "567:\tlearn: 0.3794509\ttotal: 1.74s\tremaining: 1.32s\n",
      "568:\tlearn: 0.3794486\ttotal: 1.74s\tremaining: 1.32s\n",
      "569:\tlearn: 0.3794409\ttotal: 1.74s\tremaining: 1.31s\n",
      "570:\tlearn: 0.3794314\ttotal: 1.74s\tremaining: 1.31s\n",
      "571:\tlearn: 0.3794153\ttotal: 1.75s\tremaining: 1.31s\n",
      "572:\tlearn: 0.3794019\ttotal: 1.75s\tremaining: 1.3s\n",
      "573:\tlearn: 0.3793810\ttotal: 1.75s\tremaining: 1.3s\n",
      "574:\tlearn: 0.3793703\ttotal: 1.76s\tremaining: 1.3s\n",
      "575:\tlearn: 0.3793507\ttotal: 1.76s\tremaining: 1.29s\n",
      "576:\tlearn: 0.3793310\ttotal: 1.76s\tremaining: 1.29s\n",
      "577:\tlearn: 0.3793220\ttotal: 1.76s\tremaining: 1.29s\n",
      "578:\tlearn: 0.3793037\ttotal: 1.77s\tremaining: 1.29s\n",
      "579:\tlearn: 0.3792901\ttotal: 1.77s\tremaining: 1.28s\n",
      "580:\tlearn: 0.3792854\ttotal: 1.77s\tremaining: 1.28s\n",
      "581:\tlearn: 0.3792834\ttotal: 1.78s\tremaining: 1.28s\n",
      "582:\tlearn: 0.3792732\ttotal: 1.78s\tremaining: 1.27s\n",
      "583:\tlearn: 0.3792583\ttotal: 1.78s\tremaining: 1.27s\n",
      "584:\tlearn: 0.3792437\ttotal: 1.79s\tremaining: 1.27s\n",
      "585:\tlearn: 0.3792308\ttotal: 1.79s\tremaining: 1.26s\n",
      "586:\tlearn: 0.3792227\ttotal: 1.79s\tremaining: 1.26s\n",
      "587:\tlearn: 0.3792065\ttotal: 1.79s\tremaining: 1.26s\n",
      "588:\tlearn: 0.3792032\ttotal: 1.8s\tremaining: 1.25s\n",
      "589:\tlearn: 0.3791829\ttotal: 1.8s\tremaining: 1.25s\n",
      "590:\tlearn: 0.3791749\ttotal: 1.8s\tremaining: 1.25s\n",
      "591:\tlearn: 0.3791532\ttotal: 1.81s\tremaining: 1.25s\n",
      "592:\tlearn: 0.3791425\ttotal: 1.81s\tremaining: 1.24s\n",
      "593:\tlearn: 0.3791329\ttotal: 1.81s\tremaining: 1.24s\n",
      "594:\tlearn: 0.3791151\ttotal: 1.82s\tremaining: 1.24s\n",
      "595:\tlearn: 0.3791021\ttotal: 1.82s\tremaining: 1.23s\n",
      "596:\tlearn: 0.3790719\ttotal: 1.82s\tremaining: 1.23s\n",
      "597:\tlearn: 0.3790621\ttotal: 1.82s\tremaining: 1.23s\n"
     ]
    },
    {
     "name": "stdout",
     "output_type": "stream",
     "text": [
      "598:\tlearn: 0.3790517\ttotal: 1.83s\tremaining: 1.22s\n",
      "599:\tlearn: 0.3790501\ttotal: 1.83s\tremaining: 1.22s\n",
      "600:\tlearn: 0.3790286\ttotal: 1.84s\tremaining: 1.22s\n",
      "601:\tlearn: 0.3790216\ttotal: 1.84s\tremaining: 1.22s\n",
      "602:\tlearn: 0.3790015\ttotal: 1.84s\tremaining: 1.21s\n",
      "603:\tlearn: 0.3789851\ttotal: 1.85s\tremaining: 1.21s\n",
      "604:\tlearn: 0.3789702\ttotal: 1.85s\tremaining: 1.21s\n",
      "605:\tlearn: 0.3789544\ttotal: 1.85s\tremaining: 1.21s\n",
      "606:\tlearn: 0.3788972\ttotal: 1.86s\tremaining: 1.2s\n",
      "607:\tlearn: 0.3788809\ttotal: 1.86s\tremaining: 1.2s\n",
      "608:\tlearn: 0.3788663\ttotal: 1.86s\tremaining: 1.2s\n",
      "609:\tlearn: 0.3788571\ttotal: 1.87s\tremaining: 1.19s\n",
      "610:\tlearn: 0.3788491\ttotal: 1.87s\tremaining: 1.19s\n",
      "611:\tlearn: 0.3788402\ttotal: 1.87s\tremaining: 1.19s\n",
      "612:\tlearn: 0.3788304\ttotal: 1.88s\tremaining: 1.18s\n",
      "613:\tlearn: 0.3788181\ttotal: 1.88s\tremaining: 1.18s\n",
      "614:\tlearn: 0.3788065\ttotal: 1.88s\tremaining: 1.18s\n",
      "615:\tlearn: 0.3787960\ttotal: 1.88s\tremaining: 1.17s\n",
      "616:\tlearn: 0.3787897\ttotal: 1.89s\tremaining: 1.17s\n",
      "617:\tlearn: 0.3787740\ttotal: 1.89s\tremaining: 1.17s\n",
      "618:\tlearn: 0.3787622\ttotal: 1.89s\tremaining: 1.17s\n",
      "619:\tlearn: 0.3787574\ttotal: 1.9s\tremaining: 1.16s\n",
      "620:\tlearn: 0.3787496\ttotal: 1.9s\tremaining: 1.16s\n",
      "621:\tlearn: 0.3787452\ttotal: 1.91s\tremaining: 1.16s\n",
      "622:\tlearn: 0.3787289\ttotal: 1.91s\tremaining: 1.15s\n",
      "623:\tlearn: 0.3787142\ttotal: 1.91s\tremaining: 1.15s\n",
      "624:\tlearn: 0.3787046\ttotal: 1.91s\tremaining: 1.15s\n",
      "625:\tlearn: 0.3786960\ttotal: 1.92s\tremaining: 1.15s\n",
      "626:\tlearn: 0.3786835\ttotal: 1.92s\tremaining: 1.14s\n",
      "627:\tlearn: 0.3786684\ttotal: 1.92s\tremaining: 1.14s\n",
      "628:\tlearn: 0.3786616\ttotal: 1.93s\tremaining: 1.14s\n",
      "629:\tlearn: 0.3786465\ttotal: 1.93s\tremaining: 1.13s\n",
      "630:\tlearn: 0.3786342\ttotal: 1.93s\tremaining: 1.13s\n",
      "631:\tlearn: 0.3786244\ttotal: 1.94s\tremaining: 1.13s\n",
      "632:\tlearn: 0.3786170\ttotal: 1.94s\tremaining: 1.12s\n",
      "633:\tlearn: 0.3786011\ttotal: 1.94s\tremaining: 1.12s\n",
      "634:\tlearn: 0.3785926\ttotal: 1.94s\tremaining: 1.12s\n",
      "635:\tlearn: 0.3785830\ttotal: 1.95s\tremaining: 1.11s\n",
      "636:\tlearn: 0.3785691\ttotal: 1.95s\tremaining: 1.11s\n",
      "637:\tlearn: 0.3785420\ttotal: 1.95s\tremaining: 1.11s\n",
      "638:\tlearn: 0.3785380\ttotal: 1.96s\tremaining: 1.1s\n",
      "639:\tlearn: 0.3785305\ttotal: 1.96s\tremaining: 1.1s\n",
      "640:\tlearn: 0.3785162\ttotal: 1.96s\tremaining: 1.1s\n",
      "641:\tlearn: 0.3785000\ttotal: 1.97s\tremaining: 1.1s\n",
      "642:\tlearn: 0.3784793\ttotal: 1.97s\tremaining: 1.09s\n",
      "643:\tlearn: 0.3784664\ttotal: 1.97s\tremaining: 1.09s\n",
      "644:\tlearn: 0.3784594\ttotal: 1.98s\tremaining: 1.09s\n",
      "645:\tlearn: 0.3784510\ttotal: 1.98s\tremaining: 1.08s\n",
      "646:\tlearn: 0.3784321\ttotal: 1.98s\tremaining: 1.08s\n",
      "647:\tlearn: 0.3784234\ttotal: 1.99s\tremaining: 1.08s\n",
      "648:\tlearn: 0.3784050\ttotal: 1.99s\tremaining: 1.07s\n",
      "649:\tlearn: 0.3783914\ttotal: 1.99s\tremaining: 1.07s\n",
      "650:\tlearn: 0.3783739\ttotal: 2s\tremaining: 1.07s\n",
      "651:\tlearn: 0.3783626\ttotal: 2s\tremaining: 1.07s\n",
      "652:\tlearn: 0.3783339\ttotal: 2s\tremaining: 1.06s\n",
      "653:\tlearn: 0.3783218\ttotal: 2s\tremaining: 1.06s\n",
      "654:\tlearn: 0.3783081\ttotal: 2.01s\tremaining: 1.06s\n",
      "655:\tlearn: 0.3782971\ttotal: 2.01s\tremaining: 1.05s\n",
      "656:\tlearn: 0.3782810\ttotal: 2.01s\tremaining: 1.05s\n",
      "657:\tlearn: 0.3782670\ttotal: 2.02s\tremaining: 1.05s\n",
      "658:\tlearn: 0.3782557\ttotal: 2.02s\tremaining: 1.04s\n",
      "659:\tlearn: 0.3782494\ttotal: 2.02s\tremaining: 1.04s\n",
      "660:\tlearn: 0.3782262\ttotal: 2.03s\tremaining: 1.04s\n",
      "661:\tlearn: 0.3782041\ttotal: 2.03s\tremaining: 1.04s\n",
      "662:\tlearn: 0.3781912\ttotal: 2.03s\tremaining: 1.03s\n",
      "663:\tlearn: 0.3781889\ttotal: 2.04s\tremaining: 1.03s\n",
      "664:\tlearn: 0.3781732\ttotal: 2.04s\tremaining: 1.03s\n",
      "665:\tlearn: 0.3781677\ttotal: 2.04s\tremaining: 1.02s\n",
      "666:\tlearn: 0.3781591\ttotal: 2.05s\tremaining: 1.02s\n",
      "667:\tlearn: 0.3781563\ttotal: 2.05s\tremaining: 1.02s\n",
      "668:\tlearn: 0.3781438\ttotal: 2.05s\tremaining: 1.01s\n",
      "669:\tlearn: 0.3781360\ttotal: 2.06s\tremaining: 1.01s\n",
      "670:\tlearn: 0.3781231\ttotal: 2.06s\tremaining: 1.01s\n",
      "671:\tlearn: 0.3781130\ttotal: 2.06s\tremaining: 1.01s\n",
      "672:\tlearn: 0.3780906\ttotal: 2.07s\tremaining: 1s\n",
      "673:\tlearn: 0.3780747\ttotal: 2.07s\tremaining: 1s\n",
      "674:\tlearn: 0.3780555\ttotal: 2.07s\tremaining: 997ms\n",
      "675:\tlearn: 0.3780381\ttotal: 2.07s\tremaining: 994ms\n",
      "676:\tlearn: 0.3780288\ttotal: 2.08s\tremaining: 991ms\n",
      "677:\tlearn: 0.3780207\ttotal: 2.08s\tremaining: 988ms\n",
      "678:\tlearn: 0.3780066\ttotal: 2.08s\tremaining: 985ms\n",
      "679:\tlearn: 0.3779928\ttotal: 2.08s\tremaining: 982ms\n",
      "680:\tlearn: 0.3779828\ttotal: 2.09s\tremaining: 978ms\n",
      "681:\tlearn: 0.3779763\ttotal: 2.09s\tremaining: 975ms\n",
      "682:\tlearn: 0.3779533\ttotal: 2.09s\tremaining: 972ms\n",
      "683:\tlearn: 0.3779448\ttotal: 2.1s\tremaining: 969ms\n",
      "684:\tlearn: 0.3779406\ttotal: 2.1s\tremaining: 966ms\n",
      "685:\tlearn: 0.3779332\ttotal: 2.1s\tremaining: 963ms\n",
      "686:\tlearn: 0.3779129\ttotal: 2.11s\tremaining: 960ms\n",
      "687:\tlearn: 0.3779110\ttotal: 2.11s\tremaining: 957ms\n",
      "688:\tlearn: 0.3778965\ttotal: 2.11s\tremaining: 954ms\n",
      "689:\tlearn: 0.3778861\ttotal: 2.12s\tremaining: 950ms\n",
      "690:\tlearn: 0.3778726\ttotal: 2.12s\tremaining: 947ms\n",
      "691:\tlearn: 0.3778649\ttotal: 2.12s\tremaining: 944ms\n",
      "692:\tlearn: 0.3778631\ttotal: 2.12s\tremaining: 941ms\n",
      "693:\tlearn: 0.3778502\ttotal: 2.13s\tremaining: 938ms\n",
      "694:\tlearn: 0.3778420\ttotal: 2.13s\tremaining: 934ms\n",
      "695:\tlearn: 0.3778173\ttotal: 2.13s\tremaining: 931ms\n",
      "696:\tlearn: 0.3778144\ttotal: 2.13s\tremaining: 928ms\n",
      "697:\tlearn: 0.3778077\ttotal: 2.14s\tremaining: 926ms\n",
      "698:\tlearn: 0.3778042\ttotal: 2.14s\tremaining: 923ms\n",
      "699:\tlearn: 0.3777920\ttotal: 2.15s\tremaining: 920ms\n",
      "700:\tlearn: 0.3777830\ttotal: 2.15s\tremaining: 917ms\n",
      "701:\tlearn: 0.3777784\ttotal: 2.15s\tremaining: 914ms\n",
      "702:\tlearn: 0.3777697\ttotal: 2.15s\tremaining: 911ms\n",
      "703:\tlearn: 0.3776696\ttotal: 2.16s\tremaining: 908ms\n",
      "704:\tlearn: 0.3776578\ttotal: 2.16s\tremaining: 905ms\n",
      "705:\tlearn: 0.3776551\ttotal: 2.17s\tremaining: 902ms\n",
      "706:\tlearn: 0.3776493\ttotal: 2.17s\tremaining: 899ms\n",
      "707:\tlearn: 0.3776263\ttotal: 2.17s\tremaining: 895ms\n",
      "708:\tlearn: 0.3776133\ttotal: 2.17s\tremaining: 892ms\n",
      "709:\tlearn: 0.3776073\ttotal: 2.18s\tremaining: 889ms\n",
      "710:\tlearn: 0.3776009\ttotal: 2.18s\tremaining: 886ms\n",
      "711:\tlearn: 0.3775879\ttotal: 2.18s\tremaining: 883ms\n",
      "712:\tlearn: 0.3775789\ttotal: 2.19s\tremaining: 880ms\n",
      "713:\tlearn: 0.3775682\ttotal: 2.19s\tremaining: 876ms\n",
      "714:\tlearn: 0.3775609\ttotal: 2.19s\tremaining: 873ms\n",
      "715:\tlearn: 0.3775478\ttotal: 2.19s\tremaining: 870ms\n",
      "716:\tlearn: 0.3775338\ttotal: 2.2s\tremaining: 867ms\n",
      "717:\tlearn: 0.3775249\ttotal: 2.2s\tremaining: 864ms\n",
      "718:\tlearn: 0.3775212\ttotal: 2.2s\tremaining: 861ms\n",
      "719:\tlearn: 0.3775161\ttotal: 2.21s\tremaining: 858ms\n",
      "720:\tlearn: 0.3775103\ttotal: 2.21s\tremaining: 855ms\n",
      "721:\tlearn: 0.3775074\ttotal: 2.21s\tremaining: 852ms\n",
      "722:\tlearn: 0.3774930\ttotal: 2.21s\tremaining: 849ms\n",
      "723:\tlearn: 0.3774821\ttotal: 2.22s\tremaining: 845ms\n",
      "724:\tlearn: 0.3774666\ttotal: 2.22s\tremaining: 842ms\n",
      "725:\tlearn: 0.3774542\ttotal: 2.22s\tremaining: 839ms\n",
      "726:\tlearn: 0.3774400\ttotal: 2.23s\tremaining: 836ms\n",
      "727:\tlearn: 0.3774274\ttotal: 2.23s\tremaining: 832ms\n",
      "728:\tlearn: 0.3774217\ttotal: 2.23s\tremaining: 829ms\n",
      "729:\tlearn: 0.3774134\ttotal: 2.23s\tremaining: 826ms\n",
      "730:\tlearn: 0.3774118\ttotal: 2.24s\tremaining: 823ms\n",
      "731:\tlearn: 0.3774004\ttotal: 2.24s\tremaining: 821ms\n",
      "732:\tlearn: 0.3773859\ttotal: 2.25s\tremaining: 818ms\n",
      "733:\tlearn: 0.3773742\ttotal: 2.25s\tremaining: 815ms\n",
      "734:\tlearn: 0.3773627\ttotal: 2.25s\tremaining: 812ms\n",
      "735:\tlearn: 0.3773506\ttotal: 2.25s\tremaining: 809ms\n",
      "736:\tlearn: 0.3773293\ttotal: 2.26s\tremaining: 806ms\n",
      "737:\tlearn: 0.3773140\ttotal: 2.26s\tremaining: 803ms\n",
      "738:\tlearn: 0.3772896\ttotal: 2.27s\tremaining: 800ms\n",
      "739:\tlearn: 0.3772826\ttotal: 2.27s\tremaining: 797ms\n",
      "740:\tlearn: 0.3772626\ttotal: 2.27s\tremaining: 794ms\n",
      "741:\tlearn: 0.3772480\ttotal: 2.28s\tremaining: 791ms\n",
      "742:\tlearn: 0.3772392\ttotal: 2.28s\tremaining: 789ms\n",
      "743:\tlearn: 0.3772376\ttotal: 2.29s\tremaining: 786ms\n",
      "744:\tlearn: 0.3772326\ttotal: 2.29s\tremaining: 784ms\n",
      "745:\tlearn: 0.3772110\ttotal: 2.29s\tremaining: 781ms\n",
      "746:\tlearn: 0.3772010\ttotal: 2.3s\tremaining: 778ms\n",
      "747:\tlearn: 0.3771847\ttotal: 2.3s\tremaining: 775ms\n",
      "748:\tlearn: 0.3771607\ttotal: 2.3s\tremaining: 771ms\n",
      "749:\tlearn: 0.3771532\ttotal: 2.31s\tremaining: 769ms\n",
      "750:\tlearn: 0.3771407\ttotal: 2.31s\tremaining: 765ms\n",
      "751:\tlearn: 0.3771336\ttotal: 2.31s\tremaining: 762ms\n",
      "752:\tlearn: 0.3771240\ttotal: 2.31s\tremaining: 759ms\n",
      "753:\tlearn: 0.3771209\ttotal: 2.32s\tremaining: 756ms\n",
      "754:\tlearn: 0.3771088\ttotal: 2.32s\tremaining: 753ms\n",
      "755:\tlearn: 0.3770950\ttotal: 2.32s\tremaining: 750ms\n",
      "756:\tlearn: 0.3770788\ttotal: 2.33s\tremaining: 746ms\n",
      "757:\tlearn: 0.3770673\ttotal: 2.33s\tremaining: 743ms\n",
      "758:\tlearn: 0.3770647\ttotal: 2.33s\tremaining: 740ms\n",
      "759:\tlearn: 0.3770600\ttotal: 2.33s\tremaining: 738ms\n",
      "760:\tlearn: 0.3770528\ttotal: 2.34s\tremaining: 735ms\n",
      "761:\tlearn: 0.3770470\ttotal: 2.34s\tremaining: 731ms\n",
      "762:\tlearn: 0.3770409\ttotal: 2.34s\tremaining: 728ms\n",
      "763:\tlearn: 0.3770255\ttotal: 2.35s\tremaining: 725ms\n",
      "764:\tlearn: 0.3770199\ttotal: 2.35s\tremaining: 722ms\n",
      "765:\tlearn: 0.3769810\ttotal: 2.35s\tremaining: 719ms\n",
      "766:\tlearn: 0.3769723\ttotal: 2.35s\tremaining: 716ms\n",
      "767:\tlearn: 0.3769605\ttotal: 2.36s\tremaining: 712ms\n",
      "768:\tlearn: 0.3769492\ttotal: 2.36s\tremaining: 709ms\n",
      "769:\tlearn: 0.3769455\ttotal: 2.36s\tremaining: 706ms\n",
      "770:\tlearn: 0.3769323\ttotal: 2.37s\tremaining: 703ms\n",
      "771:\tlearn: 0.3769249\ttotal: 2.37s\tremaining: 700ms\n",
      "772:\tlearn: 0.3769185\ttotal: 2.37s\tremaining: 697ms\n",
      "773:\tlearn: 0.3769080\ttotal: 2.38s\tremaining: 693ms\n",
      "774:\tlearn: 0.3769013\ttotal: 2.38s\tremaining: 691ms\n",
      "775:\tlearn: 0.3768859\ttotal: 2.38s\tremaining: 688ms\n",
      "776:\tlearn: 0.3768783\ttotal: 2.38s\tremaining: 685ms\n",
      "777:\tlearn: 0.3768682\ttotal: 2.39s\tremaining: 682ms\n",
      "778:\tlearn: 0.3768652\ttotal: 2.39s\tremaining: 679ms\n",
      "779:\tlearn: 0.3768612\ttotal: 2.4s\tremaining: 676ms\n",
      "780:\tlearn: 0.3768479\ttotal: 2.4s\tremaining: 673ms\n",
      "781:\tlearn: 0.3768396\ttotal: 2.4s\tremaining: 670ms\n",
      "782:\tlearn: 0.3768294\ttotal: 2.4s\tremaining: 667ms\n",
      "783:\tlearn: 0.3768210\ttotal: 2.41s\tremaining: 663ms\n",
      "784:\tlearn: 0.3768030\ttotal: 2.41s\tremaining: 660ms\n",
      "785:\tlearn: 0.3767968\ttotal: 2.41s\tremaining: 657ms\n",
      "786:\tlearn: 0.3767849\ttotal: 2.42s\tremaining: 654ms\n",
      "787:\tlearn: 0.3767751\ttotal: 2.42s\tremaining: 651ms\n",
      "788:\tlearn: 0.3767621\ttotal: 2.42s\tremaining: 648ms\n",
      "789:\tlearn: 0.3767494\ttotal: 2.42s\tremaining: 645ms\n",
      "790:\tlearn: 0.3767344\ttotal: 2.43s\tremaining: 641ms\n",
      "791:\tlearn: 0.3767179\ttotal: 2.43s\tremaining: 638ms\n"
     ]
    },
    {
     "name": "stdout",
     "output_type": "stream",
     "text": [
      "792:\tlearn: 0.3767159\ttotal: 2.43s\tremaining: 635ms\n",
      "793:\tlearn: 0.3767079\ttotal: 2.44s\tremaining: 632ms\n",
      "794:\tlearn: 0.3766976\ttotal: 2.44s\tremaining: 630ms\n",
      "795:\tlearn: 0.3766893\ttotal: 2.44s\tremaining: 627ms\n",
      "796:\tlearn: 0.3766816\ttotal: 2.45s\tremaining: 625ms\n",
      "797:\tlearn: 0.3766625\ttotal: 2.46s\tremaining: 622ms\n",
      "798:\tlearn: 0.3766598\ttotal: 2.46s\tremaining: 620ms\n",
      "799:\tlearn: 0.3766466\ttotal: 2.47s\tremaining: 617ms\n",
      "800:\tlearn: 0.3766392\ttotal: 2.47s\tremaining: 614ms\n",
      "801:\tlearn: 0.3766293\ttotal: 2.47s\tremaining: 611ms\n",
      "802:\tlearn: 0.3766093\ttotal: 2.48s\tremaining: 608ms\n",
      "803:\tlearn: 0.3766014\ttotal: 2.48s\tremaining: 605ms\n",
      "804:\tlearn: 0.3765871\ttotal: 2.48s\tremaining: 602ms\n",
      "805:\tlearn: 0.3765775\ttotal: 2.49s\tremaining: 599ms\n",
      "806:\tlearn: 0.3765692\ttotal: 2.49s\tremaining: 595ms\n",
      "807:\tlearn: 0.3765611\ttotal: 2.49s\tremaining: 592ms\n",
      "808:\tlearn: 0.3765532\ttotal: 2.49s\tremaining: 589ms\n",
      "809:\tlearn: 0.3765435\ttotal: 2.5s\tremaining: 586ms\n",
      "810:\tlearn: 0.3765397\ttotal: 2.5s\tremaining: 583ms\n",
      "811:\tlearn: 0.3765373\ttotal: 2.5s\tremaining: 580ms\n",
      "812:\tlearn: 0.3765224\ttotal: 2.51s\tremaining: 577ms\n",
      "813:\tlearn: 0.3765106\ttotal: 2.51s\tremaining: 574ms\n",
      "814:\tlearn: 0.3764978\ttotal: 2.51s\tremaining: 571ms\n",
      "815:\tlearn: 0.3764733\ttotal: 2.52s\tremaining: 568ms\n",
      "816:\tlearn: 0.3764661\ttotal: 2.52s\tremaining: 564ms\n",
      "817:\tlearn: 0.3764538\ttotal: 2.52s\tremaining: 561ms\n",
      "818:\tlearn: 0.3764431\ttotal: 2.52s\tremaining: 558ms\n",
      "819:\tlearn: 0.3764348\ttotal: 2.53s\tremaining: 555ms\n",
      "820:\tlearn: 0.3764247\ttotal: 2.53s\tremaining: 552ms\n",
      "821:\tlearn: 0.3764198\ttotal: 2.53s\tremaining: 549ms\n",
      "822:\tlearn: 0.3764031\ttotal: 2.54s\tremaining: 546ms\n",
      "823:\tlearn: 0.3763950\ttotal: 2.54s\tremaining: 542ms\n",
      "824:\tlearn: 0.3763876\ttotal: 2.54s\tremaining: 539ms\n",
      "825:\tlearn: 0.3763787\ttotal: 2.54s\tremaining: 536ms\n",
      "826:\tlearn: 0.3763684\ttotal: 2.55s\tremaining: 533ms\n",
      "827:\tlearn: 0.3763572\ttotal: 2.55s\tremaining: 530ms\n",
      "828:\tlearn: 0.3763452\ttotal: 2.55s\tremaining: 526ms\n",
      "829:\tlearn: 0.3763373\ttotal: 2.56s\tremaining: 523ms\n",
      "830:\tlearn: 0.3763315\ttotal: 2.56s\tremaining: 520ms\n",
      "831:\tlearn: 0.3763286\ttotal: 2.56s\tremaining: 517ms\n",
      "832:\tlearn: 0.3763267\ttotal: 2.56s\tremaining: 514ms\n",
      "833:\tlearn: 0.3763079\ttotal: 2.57s\tremaining: 511ms\n",
      "834:\tlearn: 0.3763018\ttotal: 2.57s\tremaining: 508ms\n",
      "835:\tlearn: 0.3762865\ttotal: 2.57s\tremaining: 505ms\n",
      "836:\tlearn: 0.3762762\ttotal: 2.58s\tremaining: 501ms\n",
      "837:\tlearn: 0.3762623\ttotal: 2.58s\tremaining: 498ms\n",
      "838:\tlearn: 0.3762509\ttotal: 2.58s\tremaining: 495ms\n",
      "839:\tlearn: 0.3762325\ttotal: 2.58s\tremaining: 492ms\n",
      "840:\tlearn: 0.3762264\ttotal: 2.59s\tremaining: 489ms\n",
      "841:\tlearn: 0.3762154\ttotal: 2.59s\tremaining: 486ms\n",
      "842:\tlearn: 0.3762004\ttotal: 2.59s\tremaining: 483ms\n",
      "843:\tlearn: 0.3761969\ttotal: 2.6s\tremaining: 480ms\n",
      "844:\tlearn: 0.3761911\ttotal: 2.6s\tremaining: 477ms\n",
      "845:\tlearn: 0.3761893\ttotal: 2.6s\tremaining: 474ms\n",
      "846:\tlearn: 0.3761777\ttotal: 2.6s\tremaining: 470ms\n",
      "847:\tlearn: 0.3761705\ttotal: 2.61s\tremaining: 467ms\n",
      "848:\tlearn: 0.3761673\ttotal: 2.61s\tremaining: 464ms\n",
      "849:\tlearn: 0.3761583\ttotal: 2.61s\tremaining: 461ms\n",
      "850:\tlearn: 0.3761523\ttotal: 2.62s\tremaining: 458ms\n",
      "851:\tlearn: 0.3761402\ttotal: 2.62s\tremaining: 455ms\n",
      "852:\tlearn: 0.3761374\ttotal: 2.62s\tremaining: 452ms\n",
      "853:\tlearn: 0.3761262\ttotal: 2.63s\tremaining: 449ms\n",
      "854:\tlearn: 0.3761140\ttotal: 2.63s\tremaining: 446ms\n",
      "855:\tlearn: 0.3761007\ttotal: 2.63s\tremaining: 443ms\n",
      "856:\tlearn: 0.3760874\ttotal: 2.63s\tremaining: 440ms\n",
      "857:\tlearn: 0.3760824\ttotal: 2.64s\tremaining: 437ms\n",
      "858:\tlearn: 0.3760770\ttotal: 2.64s\tremaining: 434ms\n",
      "859:\tlearn: 0.3760666\ttotal: 2.65s\tremaining: 431ms\n",
      "860:\tlearn: 0.3760593\ttotal: 2.65s\tremaining: 428ms\n",
      "861:\tlearn: 0.3760435\ttotal: 2.65s\tremaining: 425ms\n",
      "862:\tlearn: 0.3760397\ttotal: 2.65s\tremaining: 422ms\n",
      "863:\tlearn: 0.3760250\ttotal: 2.66s\tremaining: 419ms\n",
      "864:\tlearn: 0.3760092\ttotal: 2.66s\tremaining: 415ms\n",
      "865:\tlearn: 0.3760041\ttotal: 2.66s\tremaining: 412ms\n",
      "866:\tlearn: 0.3759934\ttotal: 2.67s\tremaining: 409ms\n",
      "867:\tlearn: 0.3759820\ttotal: 2.67s\tremaining: 406ms\n",
      "868:\tlearn: 0.3759659\ttotal: 2.67s\tremaining: 403ms\n",
      "869:\tlearn: 0.3759639\ttotal: 2.68s\tremaining: 400ms\n",
      "870:\tlearn: 0.3759529\ttotal: 2.68s\tremaining: 397ms\n",
      "871:\tlearn: 0.3759485\ttotal: 2.68s\tremaining: 394ms\n",
      "872:\tlearn: 0.3759443\ttotal: 2.69s\tremaining: 391ms\n",
      "873:\tlearn: 0.3759369\ttotal: 2.69s\tremaining: 388ms\n",
      "874:\tlearn: 0.3759302\ttotal: 2.69s\tremaining: 385ms\n",
      "875:\tlearn: 0.3759231\ttotal: 2.7s\tremaining: 382ms\n",
      "876:\tlearn: 0.3759148\ttotal: 2.7s\tremaining: 379ms\n",
      "877:\tlearn: 0.3759060\ttotal: 2.7s\tremaining: 376ms\n",
      "878:\tlearn: 0.3759012\ttotal: 2.71s\tremaining: 373ms\n",
      "879:\tlearn: 0.3758846\ttotal: 2.71s\tremaining: 370ms\n",
      "880:\tlearn: 0.3758826\ttotal: 2.71s\tremaining: 367ms\n",
      "881:\tlearn: 0.3758622\ttotal: 2.72s\tremaining: 364ms\n",
      "882:\tlearn: 0.3758442\ttotal: 2.72s\tremaining: 361ms\n",
      "883:\tlearn: 0.3758389\ttotal: 2.73s\tremaining: 358ms\n",
      "884:\tlearn: 0.3758330\ttotal: 2.73s\tremaining: 355ms\n",
      "885:\tlearn: 0.3758226\ttotal: 2.73s\tremaining: 351ms\n",
      "886:\tlearn: 0.3758201\ttotal: 2.73s\tremaining: 348ms\n",
      "887:\tlearn: 0.3758100\ttotal: 2.74s\tremaining: 345ms\n",
      "888:\tlearn: 0.3758067\ttotal: 2.74s\tremaining: 342ms\n",
      "889:\tlearn: 0.3757873\ttotal: 2.74s\tremaining: 339ms\n",
      "890:\tlearn: 0.3757823\ttotal: 2.75s\tremaining: 336ms\n",
      "891:\tlearn: 0.3757626\ttotal: 2.75s\tremaining: 333ms\n",
      "892:\tlearn: 0.3757613\ttotal: 2.75s\tremaining: 330ms\n",
      "893:\tlearn: 0.3757519\ttotal: 2.76s\tremaining: 327ms\n",
      "894:\tlearn: 0.3757471\ttotal: 2.76s\tremaining: 324ms\n",
      "895:\tlearn: 0.3757407\ttotal: 2.76s\tremaining: 321ms\n",
      "896:\tlearn: 0.3757330\ttotal: 2.77s\tremaining: 318ms\n",
      "897:\tlearn: 0.3757216\ttotal: 2.77s\tremaining: 314ms\n",
      "898:\tlearn: 0.3757092\ttotal: 2.77s\tremaining: 311ms\n",
      "899:\tlearn: 0.3757067\ttotal: 2.77s\tremaining: 308ms\n",
      "900:\tlearn: 0.3756960\ttotal: 2.78s\tremaining: 305ms\n",
      "901:\tlearn: 0.3756861\ttotal: 2.78s\tremaining: 302ms\n",
      "902:\tlearn: 0.3756791\ttotal: 2.78s\tremaining: 299ms\n",
      "903:\tlearn: 0.3756688\ttotal: 2.79s\tremaining: 296ms\n",
      "904:\tlearn: 0.3756563\ttotal: 2.79s\tremaining: 293ms\n",
      "905:\tlearn: 0.3756471\ttotal: 2.79s\tremaining: 290ms\n",
      "906:\tlearn: 0.3756358\ttotal: 2.79s\tremaining: 286ms\n",
      "907:\tlearn: 0.3756209\ttotal: 2.79s\tremaining: 283ms\n",
      "908:\tlearn: 0.3756059\ttotal: 2.8s\tremaining: 280ms\n",
      "909:\tlearn: 0.3755941\ttotal: 2.8s\tremaining: 277ms\n",
      "910:\tlearn: 0.3755856\ttotal: 2.8s\tremaining: 274ms\n",
      "911:\tlearn: 0.3755732\ttotal: 2.81s\tremaining: 271ms\n",
      "912:\tlearn: 0.3755565\ttotal: 2.81s\tremaining: 268ms\n",
      "913:\tlearn: 0.3755482\ttotal: 2.81s\tremaining: 265ms\n",
      "914:\tlearn: 0.3755349\ttotal: 2.81s\tremaining: 262ms\n",
      "915:\tlearn: 0.3755246\ttotal: 2.82s\tremaining: 258ms\n",
      "916:\tlearn: 0.3755226\ttotal: 2.82s\tremaining: 255ms\n",
      "917:\tlearn: 0.3755159\ttotal: 2.82s\tremaining: 252ms\n",
      "918:\tlearn: 0.3755079\ttotal: 2.83s\tremaining: 249ms\n",
      "919:\tlearn: 0.3754991\ttotal: 2.83s\tremaining: 246ms\n",
      "920:\tlearn: 0.3754916\ttotal: 2.83s\tremaining: 243ms\n",
      "921:\tlearn: 0.3754801\ttotal: 2.83s\tremaining: 240ms\n",
      "922:\tlearn: 0.3754682\ttotal: 2.84s\tremaining: 237ms\n",
      "923:\tlearn: 0.3754645\ttotal: 2.84s\tremaining: 234ms\n",
      "924:\tlearn: 0.3754582\ttotal: 2.85s\tremaining: 231ms\n",
      "925:\tlearn: 0.3754557\ttotal: 2.85s\tremaining: 228ms\n",
      "926:\tlearn: 0.3754462\ttotal: 2.85s\tremaining: 225ms\n",
      "927:\tlearn: 0.3754366\ttotal: 2.86s\tremaining: 222ms\n",
      "928:\tlearn: 0.3754219\ttotal: 2.86s\tremaining: 219ms\n",
      "929:\tlearn: 0.3754077\ttotal: 2.86s\tremaining: 216ms\n",
      "930:\tlearn: 0.3753973\ttotal: 2.87s\tremaining: 213ms\n",
      "931:\tlearn: 0.3753958\ttotal: 2.87s\tremaining: 210ms\n",
      "932:\tlearn: 0.3753910\ttotal: 2.87s\tremaining: 206ms\n",
      "933:\tlearn: 0.3753755\ttotal: 2.88s\tremaining: 203ms\n",
      "934:\tlearn: 0.3753630\ttotal: 2.88s\tremaining: 200ms\n",
      "935:\tlearn: 0.3753550\ttotal: 2.88s\tremaining: 197ms\n",
      "936:\tlearn: 0.3753455\ttotal: 2.89s\tremaining: 194ms\n",
      "937:\tlearn: 0.3753396\ttotal: 2.89s\tremaining: 191ms\n",
      "938:\tlearn: 0.3753353\ttotal: 2.89s\tremaining: 188ms\n",
      "939:\tlearn: 0.3753244\ttotal: 2.89s\tremaining: 185ms\n",
      "940:\tlearn: 0.3753137\ttotal: 2.9s\tremaining: 182ms\n",
      "941:\tlearn: 0.3753076\ttotal: 2.9s\tremaining: 179ms\n",
      "942:\tlearn: 0.3753002\ttotal: 2.9s\tremaining: 175ms\n",
      "943:\tlearn: 0.3752858\ttotal: 2.91s\tremaining: 172ms\n",
      "944:\tlearn: 0.3752779\ttotal: 2.91s\tremaining: 169ms\n",
      "945:\tlearn: 0.3752666\ttotal: 2.91s\tremaining: 166ms\n",
      "946:\tlearn: 0.3752609\ttotal: 2.91s\tremaining: 163ms\n",
      "947:\tlearn: 0.3752551\ttotal: 2.92s\tremaining: 160ms\n",
      "948:\tlearn: 0.3752453\ttotal: 2.92s\tremaining: 157ms\n",
      "949:\tlearn: 0.3752314\ttotal: 2.92s\tremaining: 154ms\n",
      "950:\tlearn: 0.3752244\ttotal: 2.92s\tremaining: 151ms\n",
      "951:\tlearn: 0.3752187\ttotal: 2.93s\tremaining: 148ms\n",
      "952:\tlearn: 0.3752123\ttotal: 2.93s\tremaining: 145ms\n",
      "953:\tlearn: 0.3751988\ttotal: 2.93s\tremaining: 141ms\n",
      "954:\tlearn: 0.3751879\ttotal: 2.94s\tremaining: 138ms\n",
      "955:\tlearn: 0.3751842\ttotal: 2.94s\tremaining: 135ms\n",
      "956:\tlearn: 0.3751802\ttotal: 2.94s\tremaining: 132ms\n",
      "957:\tlearn: 0.3751588\ttotal: 2.95s\tremaining: 129ms\n",
      "958:\tlearn: 0.3751518\ttotal: 2.95s\tremaining: 126ms\n",
      "959:\tlearn: 0.3751494\ttotal: 2.95s\tremaining: 123ms\n",
      "960:\tlearn: 0.3751404\ttotal: 2.96s\tremaining: 120ms\n",
      "961:\tlearn: 0.3751346\ttotal: 2.96s\tremaining: 117ms\n",
      "962:\tlearn: 0.3751255\ttotal: 2.96s\tremaining: 114ms\n",
      "963:\tlearn: 0.3751173\ttotal: 2.97s\tremaining: 111ms\n",
      "964:\tlearn: 0.3751058\ttotal: 2.97s\tremaining: 108ms\n",
      "965:\tlearn: 0.3751014\ttotal: 2.97s\tremaining: 105ms\n",
      "966:\tlearn: 0.3750932\ttotal: 2.98s\tremaining: 102ms\n",
      "967:\tlearn: 0.3750817\ttotal: 2.98s\tremaining: 98.5ms\n",
      "968:\tlearn: 0.3750755\ttotal: 2.98s\tremaining: 95.4ms\n",
      "969:\tlearn: 0.3750666\ttotal: 2.99s\tremaining: 92.4ms\n",
      "970:\tlearn: 0.3750591\ttotal: 2.99s\tremaining: 89.3ms\n",
      "971:\tlearn: 0.3750472\ttotal: 2.99s\tremaining: 86.2ms\n",
      "972:\tlearn: 0.3750370\ttotal: 2.99s\tremaining: 83.1ms\n",
      "973:\tlearn: 0.3750299\ttotal: 3s\tremaining: 80ms\n",
      "974:\tlearn: 0.3750187\ttotal: 3s\tremaining: 76.9ms\n",
      "975:\tlearn: 0.3750065\ttotal: 3s\tremaining: 73.9ms\n",
      "976:\tlearn: 0.3749965\ttotal: 3.01s\tremaining: 70.8ms\n",
      "977:\tlearn: 0.3749865\ttotal: 3.01s\tremaining: 67.7ms\n",
      "978:\tlearn: 0.3749773\ttotal: 3.01s\tremaining: 64.6ms\n",
      "979:\tlearn: 0.3749659\ttotal: 3.02s\tremaining: 61.5ms\n",
      "980:\tlearn: 0.3749601\ttotal: 3.02s\tremaining: 58.5ms\n",
      "981:\tlearn: 0.3749501\ttotal: 3.02s\tremaining: 55.4ms\n",
      "982:\tlearn: 0.3749441\ttotal: 3.02s\tremaining: 52.3ms\n",
      "983:\tlearn: 0.3749384\ttotal: 3.03s\tremaining: 49.2ms\n",
      "984:\tlearn: 0.3749292\ttotal: 3.03s\tremaining: 46.1ms\n",
      "985:\tlearn: 0.3749196\ttotal: 3.03s\tremaining: 43.1ms\n",
      "986:\tlearn: 0.3749040\ttotal: 3.04s\tremaining: 40ms\n",
      "987:\tlearn: 0.3748956\ttotal: 3.04s\tremaining: 36.9ms\n"
     ]
    },
    {
     "name": "stdout",
     "output_type": "stream",
     "text": [
      "988:\tlearn: 0.3748939\ttotal: 3.04s\tremaining: 33.8ms\n",
      "989:\tlearn: 0.3748715\ttotal: 3.04s\tremaining: 30.8ms\n",
      "990:\tlearn: 0.3748702\ttotal: 3.05s\tremaining: 27.7ms\n",
      "991:\tlearn: 0.3748666\ttotal: 3.05s\tremaining: 24.6ms\n",
      "992:\tlearn: 0.3748562\ttotal: 3.06s\tremaining: 21.5ms\n",
      "993:\tlearn: 0.3748493\ttotal: 3.06s\tremaining: 18.5ms\n",
      "994:\tlearn: 0.3748384\ttotal: 3.06s\tremaining: 15.4ms\n",
      "995:\tlearn: 0.3748292\ttotal: 3.06s\tremaining: 12.3ms\n",
      "996:\tlearn: 0.3748247\ttotal: 3.07s\tremaining: 9.23ms\n",
      "997:\tlearn: 0.3748143\ttotal: 3.07s\tremaining: 6.16ms\n",
      "998:\tlearn: 0.3748081\ttotal: 3.08s\tremaining: 3.08ms\n",
      "999:\tlearn: 0.3747999\ttotal: 3.08s\tremaining: 0us\n"
     ]
    },
    {
     "data": {
      "text/plain": [
       "<catboost.core.CatBoostClassifier at 0x2360f93ec90>"
      ]
     },
     "execution_count": 108,
     "metadata": {},
     "output_type": "execute_result"
    }
   ],
   "source": [
    "model_cat.fit(x_train,y_train)"
   ]
  },
  {
   "cell_type": "code",
   "execution_count": 109,
   "id": "bd0a6f4f",
   "metadata": {},
   "outputs": [
    {
     "data": {
      "text/plain": [
       "<catboost.core.CatBoostClassifier at 0x23613575a50>"
      ]
     },
     "execution_count": 109,
     "metadata": {},
     "output_type": "execute_result"
    }
   ],
   "source": [
    "cat.fit(x_train,y_train)\n"
   ]
  },
  {
   "cell_type": "code",
   "execution_count": 110,
   "id": "30e35f0d",
   "metadata": {},
   "outputs": [
    {
     "name": "stdout",
     "output_type": "stream",
     "text": [
      "The Accuracy of the CatBoost+ Model:  0.853\n"
     ]
    }
   ],
   "source": [
    "y_pred_cat = model_cat.predict(x_test)\n",
    "print(\"The Accuracy of the CatBoost+ Model: \", round(metrics.accuracy_score(y_pred_cat, y_test), 3))"
   ]
  },
  {
   "cell_type": "code",
   "execution_count": 111,
   "id": "70b56bad",
   "metadata": {},
   "outputs": [
    {
     "name": "stdout",
     "output_type": "stream",
     "text": [
      "The Accuracy of the CatBoost Model:  0.853\n"
     ]
    }
   ],
   "source": [
    "y_pred = model_cat.predict(x_test)\n",
    "print(\"The Accuracy of the CatBoost Model: \", round(metrics.accuracy_score(y_pred, y_test), 3))"
   ]
  },
  {
   "cell_type": "code",
   "execution_count": 112,
   "id": "ad08fc74",
   "metadata": {},
   "outputs": [
    {
     "name": "stdout",
     "output_type": "stream",
     "text": [
      "1\n"
     ]
    }
   ],
   "source": [
    "print(model_cat.predict(['0.60797067', '1.8360737', '0.62004711', '0.02588269', '0.84577852', '0.91862894','0.66558736']))"
   ]
  },
  {
   "cell_type": "code",
   "execution_count": 113,
   "id": "62bc0cb5",
   "metadata": {},
   "outputs": [
    {
     "name": "stdout",
     "output_type": "stream",
     "text": [
      "0\n"
     ]
    }
   ],
   "source": [
    "print(model_cat.predict([1,0, 1, 2, 4, 0,1]))"
   ]
  },
  {
   "cell_type": "code",
   "execution_count": 114,
   "id": "bc790e1a",
   "metadata": {},
   "outputs": [
    {
     "name": "stdout",
     "output_type": "stream",
     "text": [
      "0\n"
     ]
    }
   ],
   "source": [
    "print(model_cat.predict([1, 4, 2, 2, 3, 1,3]))"
   ]
  },
  {
   "cell_type": "code",
   "execution_count": 58,
   "id": "5779e6a4",
   "metadata": {},
   "outputs": [
    {
     "ename": "CatBoostError",
     "evalue": "There is no trained model to use predict(). Use fit() to train model. Then use this method.",
     "output_type": "error",
     "traceback": [
      "\u001b[1;31m---------------------------------------------------------------------------\u001b[0m",
      "\u001b[1;31mCatBoostError\u001b[0m                             Traceback (most recent call last)",
      "Cell \u001b[1;32mIn[58], line 1\u001b[0m\n\u001b[1;32m----> 1\u001b[0m \u001b[38;5;28mprint\u001b[39m(cat\u001b[38;5;241m.\u001b[39mpredict([\u001b[38;5;241m1\u001b[39m, \u001b[38;5;241m4\u001b[39m, \u001b[38;5;241m2\u001b[39m, \u001b[38;5;241m2\u001b[39m, \u001b[38;5;241m3\u001b[39m, \u001b[38;5;241m1\u001b[39m]))\n",
      "File \u001b[1;32m~\\anaconda3\\Lib\\site-packages\\catboost\\core.py:5156\u001b[0m, in \u001b[0;36mCatBoostClassifier.predict\u001b[1;34m(self, data, prediction_type, ntree_start, ntree_end, thread_count, verbose, task_type)\u001b[0m\n\u001b[0;32m   5105\u001b[0m \u001b[38;5;28;01mdef\u001b[39;00m \u001b[38;5;21mpredict\u001b[39m(\u001b[38;5;28mself\u001b[39m, data, prediction_type\u001b[38;5;241m=\u001b[39m\u001b[38;5;124m'\u001b[39m\u001b[38;5;124mClass\u001b[39m\u001b[38;5;124m'\u001b[39m, ntree_start\u001b[38;5;241m=\u001b[39m\u001b[38;5;241m0\u001b[39m, ntree_end\u001b[38;5;241m=\u001b[39m\u001b[38;5;241m0\u001b[39m, thread_count\u001b[38;5;241m=\u001b[39m\u001b[38;5;241m-\u001b[39m\u001b[38;5;241m1\u001b[39m, verbose\u001b[38;5;241m=\u001b[39m\u001b[38;5;28;01mNone\u001b[39;00m, task_type\u001b[38;5;241m=\u001b[39m\u001b[38;5;124m\"\u001b[39m\u001b[38;5;124mCPU\u001b[39m\u001b[38;5;124m\"\u001b[39m):\n\u001b[0;32m   5106\u001b[0m \u001b[38;5;250m    \u001b[39m\u001b[38;5;124;03m\"\"\"\u001b[39;00m\n\u001b[0;32m   5107\u001b[0m \u001b[38;5;124;03m    Predict with data.\u001b[39;00m\n\u001b[0;32m   5108\u001b[0m \n\u001b[1;32m   (...)\u001b[0m\n\u001b[0;32m   5154\u001b[0m \u001b[38;5;124;03m              with log probability for every class for each object.\u001b[39;00m\n\u001b[0;32m   5155\u001b[0m \u001b[38;5;124;03m    \"\"\"\u001b[39;00m\n\u001b[1;32m-> 5156\u001b[0m     \u001b[38;5;28;01mreturn\u001b[39;00m \u001b[38;5;28mself\u001b[39m\u001b[38;5;241m.\u001b[39m_predict(data, prediction_type, ntree_start, ntree_end, thread_count, verbose, \u001b[38;5;124m'\u001b[39m\u001b[38;5;124mpredict\u001b[39m\u001b[38;5;124m'\u001b[39m, task_type)\n",
      "File \u001b[1;32m~\\anaconda3\\Lib\\site-packages\\catboost\\core.py:2505\u001b[0m, in \u001b[0;36mCatBoost._predict\u001b[1;34m(self, data, prediction_type, ntree_start, ntree_end, thread_count, verbose, parent_method_name, task_type)\u001b[0m\n\u001b[0;32m   2503\u001b[0m \u001b[38;5;28;01mif\u001b[39;00m verbose \u001b[38;5;129;01mis\u001b[39;00m \u001b[38;5;28;01mNone\u001b[39;00m:\n\u001b[0;32m   2504\u001b[0m     verbose \u001b[38;5;241m=\u001b[39m \u001b[38;5;28;01mFalse\u001b[39;00m\n\u001b[1;32m-> 2505\u001b[0m data, data_is_single_object \u001b[38;5;241m=\u001b[39m \u001b[38;5;28mself\u001b[39m\u001b[38;5;241m.\u001b[39m_process_predict_input_data(data, parent_method_name, thread_count)\n\u001b[0;32m   2506\u001b[0m \u001b[38;5;28mself\u001b[39m\u001b[38;5;241m.\u001b[39m_validate_prediction_type(prediction_type)\n\u001b[0;32m   2508\u001b[0m predictions \u001b[38;5;241m=\u001b[39m \u001b[38;5;28mself\u001b[39m\u001b[38;5;241m.\u001b[39m_base_predict(data, prediction_type, ntree_start, ntree_end, thread_count, verbose, task_type)\n",
      "File \u001b[1;32m~\\anaconda3\\Lib\\site-packages\\catboost\\core.py:2481\u001b[0m, in \u001b[0;36mCatBoost._process_predict_input_data\u001b[1;34m(self, data, parent_method_name, thread_count, label)\u001b[0m\n\u001b[0;32m   2479\u001b[0m \u001b[38;5;28;01mdef\u001b[39;00m \u001b[38;5;21m_process_predict_input_data\u001b[39m(\u001b[38;5;28mself\u001b[39m, data, parent_method_name, thread_count, label\u001b[38;5;241m=\u001b[39m\u001b[38;5;28;01mNone\u001b[39;00m):\n\u001b[0;32m   2480\u001b[0m     \u001b[38;5;28;01mif\u001b[39;00m \u001b[38;5;129;01mnot\u001b[39;00m \u001b[38;5;28mself\u001b[39m\u001b[38;5;241m.\u001b[39mis_fitted() \u001b[38;5;129;01mor\u001b[39;00m \u001b[38;5;28mself\u001b[39m\u001b[38;5;241m.\u001b[39mtree_count_ \u001b[38;5;129;01mis\u001b[39;00m \u001b[38;5;28;01mNone\u001b[39;00m:\n\u001b[1;32m-> 2481\u001b[0m         \u001b[38;5;28;01mraise\u001b[39;00m CatBoostError((\u001b[38;5;124m\"\u001b[39m\u001b[38;5;124mThere is no trained model to use \u001b[39m\u001b[38;5;132;01m{}\u001b[39;00m\u001b[38;5;124m(). \u001b[39m\u001b[38;5;124m\"\u001b[39m\n\u001b[0;32m   2482\u001b[0m                              \u001b[38;5;124m\"\u001b[39m\u001b[38;5;124mUse fit() to train model. Then use this method.\u001b[39m\u001b[38;5;124m\"\u001b[39m)\u001b[38;5;241m.\u001b[39mformat(parent_method_name))\n\u001b[0;32m   2483\u001b[0m     is_single_object \u001b[38;5;241m=\u001b[39m _is_data_single_object(data)\n\u001b[0;32m   2484\u001b[0m     \u001b[38;5;28;01mif\u001b[39;00m \u001b[38;5;129;01mnot\u001b[39;00m \u001b[38;5;28misinstance\u001b[39m(data, Pool):\n",
      "\u001b[1;31mCatBoostError\u001b[0m: There is no trained model to use predict(). Use fit() to train model. Then use this method."
     ]
    }
   ],
   "source": [
    "print(cat.predict([1, 4, 2, 2, 3, 1]))"
   ]
  },
  {
   "cell_type": "code",
   "execution_count": 169,
   "id": "3c667073",
   "metadata": {},
   "outputs": [
    {
     "name": "stdout",
     "output_type": "stream",
     "text": [
      "['1' '0' '2' '2' '4' '3' '3'] 0\n",
      "['1' '3' '0' '0' '0' '3' '3'] 1\n",
      "['0' '2' '1' '0' '4' '0' '1'] 0\n",
      "['1' '4' '2' '2' '4' '3' '2'] 0\n",
      "['1' '2' '2' '2' '5' '3' '3'] 0\n",
      "['1' '1' '0' '3' '1' '0' '3'] 0\n",
      "['0' '4' '2' '2' '1' '3' '1'] 0\n",
      "['0' '1' '3' '0' '0' '3' '3'] 1\n",
      "['0' '0' '3' '2' '2' '0' '4'] 0\n",
      "['0' '0' '3' '4' '0' '3' '1'] 0\n"
     ]
    }
   ],
   "source": [
    "for i in range(10):\n",
    " print(x_train[i], y_train[i])"
   ]
  },
  {
   "cell_type": "code",
   "execution_count": 177,
   "id": "3ef1c66b",
   "metadata": {},
   "outputs": [
    {
     "data": {
      "text/plain": [
       "array([['20-25', 'low', 'small', ..., 'OWN', 'short', 0],\n",
       "       ['20-25', 'low', 'medium', ..., 'MORTGAGE', 'short', 1],\n",
       "       ['20-25', 'middle', 'very large', ..., 'RENT', 'short', 1],\n",
       "       ...,\n",
       "       ['56-65', 'high-middle', 'very large', ..., 'RENT', 'short', 1],\n",
       "       ['46-55', 'high', 'large', ..., 'MORTGAGE', 'short', 0],\n",
       "       ['56-65', 'low-middle', 'medium', ..., 'RENT', 'short', 0]],\n",
       "      dtype=object)"
      ]
     },
     "execution_count": 177,
     "metadata": {},
     "output_type": "execute_result"
    }
   ],
   "source": [
    "temp"
   ]
  },
  {
   "cell_type": "code",
   "execution_count": 182,
   "id": "b630fb75",
   "metadata": {},
   "outputs": [
    {
     "name": "stdout",
     "output_type": "stream",
     "text": [
      "CatBoost Prediction: 0\n"
     ]
    }
   ],
   "source": [
    "print(\"CatBoost Prediction:\", model_cat.predict([0, 0, 3, 2,2 , 3, 4]))"
   ]
  },
  {
   "cell_type": "code",
   "execution_count": 115,
   "id": "1871748b",
   "metadata": {},
   "outputs": [
    {
     "name": "stdout",
     "output_type": "stream",
     "text": [
      "NO\n"
     ]
    }
   ],
   "source": [
    "x=np.array(['1' ,'3', '0', '0', '0', '3', '3'])\n",
    "x=x.reshape(1,-1)\n",
    "result= model_cat.predict(x)\n",
    "if result==1:\n",
    "  print(\"NO\")\n",
    "else:\n",
    "  print(\"Yes\")"
   ]
  },
  {
   "cell_type": "code",
   "execution_count": 116,
   "id": "718ebe2e",
   "metadata": {},
   "outputs": [
    {
     "name": "stdout",
     "output_type": "stream",
     "text": [
      "Yes\n"
     ]
    }
   ],
   "source": [
    "x=np.array(['0', '2', '1', '0', '4', '0', '1'])\n",
    "x=x.reshape(1,-1)\n",
    "result= model_cat.predict(x)\n",
    "if result==1:\n",
    "  print(\"NO\")\n",
    "else:\n",
    "  print(\"Yes\")"
   ]
  },
  {
   "cell_type": "code",
   "execution_count": 154,
   "id": "2e86341a",
   "metadata": {},
   "outputs": [
    {
     "name": "stdout",
     "output_type": "stream",
     "text": [
      "Regect\n"
     ]
    }
   ],
   "source": [
    "x=np.array([0, 3, 0, 0, 3, 3,3])\n",
    "x=x.reshape(1,-1)\n",
    "result= model_cat.predict(x)\n",
    "if result==1:\n",
    "  print(\"Regect\")\n",
    "else:\n",
    "  print(\"Accept\")"
   ]
  },
  {
   "cell_type": "code",
   "execution_count": 61,
   "id": "64a07c14",
   "metadata": {},
   "outputs": [
    {
     "name": "stdout",
     "output_type": "stream",
     "text": [
      "Accept\n"
     ]
    }
   ],
   "source": [
    "x=np.array([1,1, 4, 0, 3, 0,1])\n",
    "x=x.reshape(1,-1)\n",
    "result= model_cat.predict(x)\n",
    "if result==1:\n",
    "  print(\"Regect\")\n",
    "else:\n",
    "  print(\"Accept\")"
   ]
  },
  {
   "cell_type": "code",
   "execution_count": 68,
   "id": "5a554e86",
   "metadata": {},
   "outputs": [
    {
     "name": "stdout",
     "output_type": "stream",
     "text": [
      "Regect\n"
     ]
    }
   ],
   "source": [
    "x=np.array([1, 0, 4, 0, 0, 3,3])\n",
    "x=x.reshape(1,-1)\n",
    "result= model_cat.predict(x)\n",
    "if result==1:\n",
    "  print(\"Regect\")\n",
    "else:\n",
    "  print(\"Accept\")"
   ]
  },
  {
   "cell_type": "code",
   "execution_count": 82,
   "id": "4991e6ad",
   "metadata": {},
   "outputs": [
    {
     "data": {
      "text/plain": [
       "(22904,)"
      ]
     },
     "execution_count": 82,
     "metadata": {},
     "output_type": "execute_result"
    }
   ],
   "source": []
  },
  {
   "cell_type": "code",
   "execution_count": null,
   "id": "1f20ca3d",
   "metadata": {},
   "outputs": [],
   "source": []
  },
  {
   "cell_type": "code",
   "execution_count": 166,
   "id": "089108a9",
   "metadata": {},
   "outputs": [
    {
     "data": {
      "text/plain": [
       "array([['0', '4', '3', ..., '3', '3', '4'],\n",
       "       ['0', '4', '1', ..., '1', '3', '2'],\n",
       "       ['0', '4', '1', ..., '1', '3', '3'],\n",
       "       ...,\n",
       "       ['0', '1', '2', ..., '5', '0', '1'],\n",
       "       ['1', '3', '0', ..., '0', '0', '1'],\n",
       "       ['1', '3', '2', ..., '5', '2', '3']], dtype='<U17')"
      ]
     },
     "execution_count": 166,
     "metadata": {},
     "output_type": "execute_result"
    }
   ],
   "source": [
    "x_test"
   ]
  },
  {
   "cell_type": "code",
   "execution_count": 62,
   "id": "5013522d",
   "metadata": {},
   "outputs": [
    {
     "data": {
      "text/plain": [
       "array([['20-25', 'low', 'small', ..., 'OWN', 'short', 0],\n",
       "       ['20-25', 'low', 'medium', ..., 'MORTGAGE', 'short', 1],\n",
       "       ['20-25', 'middle', 'very large', ..., 'RENT', 'short', 1],\n",
       "       ...,\n",
       "       ['56-65', 'high-middle', 'very large', ..., 'RENT', 'short', 1],\n",
       "       ['46-55', 'high', 'large', ..., 'MORTGAGE', 'short', 0],\n",
       "       ['56-65', 'low-middle', 'medium', ..., 'RENT', 'short', 0]],\n",
       "      dtype=object)"
      ]
     },
     "execution_count": 62,
     "metadata": {},
     "output_type": "execute_result"
    }
   ],
   "source": [
    "temp"
   ]
  },
  {
   "cell_type": "code",
   "execution_count": 117,
   "id": "9590d2ed",
   "metadata": {},
   "outputs": [],
   "source": [
    "import pickle"
   ]
  },
  {
   "cell_type": "code",
   "execution_count": 119,
   "id": "b028aae7",
   "metadata": {},
   "outputs": [],
   "source": [
    "with open(\"catboost_model.pkl\",\"wb\") as file:\n",
    "    pickle.dump(cat, file)"
   ]
  },
  {
   "cell_type": "code",
   "execution_count": 117,
   "id": "92c82ed7",
   "metadata": {},
   "outputs": [],
   "source": [
    "from joblib import dump"
   ]
  },
  {
   "cell_type": "code",
   "execution_count": 118,
   "id": "0d6ea6aa",
   "metadata": {},
   "outputs": [
    {
     "data": {
      "text/plain": [
       "['Cat_model.joblib']"
      ]
     },
     "execution_count": 118,
     "metadata": {},
     "output_type": "execute_result"
    }
   ],
   "source": [
    "dump(model_cat, 'Cat_model.joblib')"
   ]
  },
  {
   "cell_type": "code",
   "execution_count": 59,
   "id": "4acf3746",
   "metadata": {},
   "outputs": [
    {
     "name": "stdout",
     "output_type": "stream",
     "text": [
      "person_age\n",
      "person_income\n",
      "person_home_ownership\n",
      "person_emp_length\n",
      "loan_intent\n",
      "loan_grade\n",
      "loan_amnt\n",
      "loan_int_rate\n",
      "loan_status\n",
      "loan_percent_income\n",
      "cb_person_default_on_file\n",
      "cb_person_cred_hist_length\n",
      "age_group\n",
      "income_group\n",
      "loan_amount_group\n",
      "loan_percent_income_group\n",
      "person_emp_length_group\n"
     ]
    }
   ],
   "source": [
    "for column in data.columns:\n",
    "    print(column)"
   ]
  },
  {
   "cell_type": "code",
   "execution_count": null,
   "id": "52f1c1b0",
   "metadata": {},
   "outputs": [],
   "source": []
  }
 ],
 "metadata": {
  "kernelspec": {
   "display_name": "Python 3 (ipykernel)",
   "language": "python",
   "name": "python3"
  },
  "language_info": {
   "codemirror_mode": {
    "name": "ipython",
    "version": 3
   },
   "file_extension": ".py",
   "mimetype": "text/x-python",
   "name": "python",
   "nbconvert_exporter": "python",
   "pygments_lexer": "ipython3",
   "version": "3.11.5"
  }
 },
 "nbformat": 4,
 "nbformat_minor": 5
}
