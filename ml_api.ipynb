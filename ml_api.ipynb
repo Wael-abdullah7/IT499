{
 "cells": [
  {
   "cell_type": "code",
   "execution_count": 1,
   "id": "c1d4ae20",
   "metadata": {},
   "outputs": [],
   "source": [
    "from fastapi import FastAPI\n",
    "from pydantic import BaseModel\n",
    "import pickle \n",
    "import json\n",
    "import uvicorn\n",
    "from pyngrok import ngrok\n",
    "from fastapi.middleware.cors import CORSMiddleware\n",
    "import nest_asyncio\n",
    "from joblib import dump\n",
    "from joblib import load\n",
    "from flask import Flask\n",
    "import numpy as np\n",
    "import pandas as pd\n"
   ]
  },
  {
   "cell_type": "code",
   "execution_count": 2,
   "id": "dd298e92",
   "metadata": {},
   "outputs": [],
   "source": [
    "app = FastAPI()"
   ]
  },
  {
   "cell_type": "code",
   "execution_count": 3,
   "id": "0bb883a4",
   "metadata": {},
   "outputs": [],
   "source": [
    "cat_model = load(\"Cat_model.joblib\",\"rb\")"
   ]
  },
  {
   "cell_type": "code",
   "execution_count": 4,
   "id": "15cd3f1d",
   "metadata": {},
   "outputs": [
    {
     "name": "stdout",
     "output_type": "stream",
     "text": [
      "CatBoost Prediction: 0\n"
     ]
    }
   ],
   "source": [
    "print(\"CatBoost Prediction:\", cat_model.predict(['0', '2', '1', '0', '4', '0', '1']))"
   ]
  },
  {
   "cell_type": "code",
   "execution_count": 5,
   "id": "d70b1773",
   "metadata": {},
   "outputs": [
    {
     "name": "stdout",
     "output_type": "stream",
     "text": [
      "CatBoost Prediction: 1\n"
     ]
    }
   ],
   "source": [
    "print(\"CatBoost Prediction:\", cat_model.predict([1, 0, 4, 0, 0, 3,3]))"
   ]
  },
  {
   "cell_type": "code",
   "execution_count": 6,
   "id": "0104d35f",
   "metadata": {},
   "outputs": [
    {
     "name": "stdout",
     "output_type": "stream",
     "text": [
      "CatBoost Prediction: 0\n"
     ]
    }
   ],
   "source": [
    "print(\"CatBoost Prediction:\", cat_model.predict([1, 0, 3, 4, 0, 3,3]))"
   ]
  },
  {
   "cell_type": "code",
   "execution_count": 7,
   "id": "e3a69c6d",
   "metadata": {},
   "outputs": [],
   "source": [
    "origins = [\"*\"]\n",
    "\n",
    "app.add_middleware(\n",
    "CORSMiddleware,\n",
    "allow_origins=[\"*\"], # Allows all origins\n",
    "allow_credentials=True,\n",
    "allow_methods=[\"*\"], # Allows all methods\n",
    "allow_headers=[\"*\"], # Allows all headers\n",
    ")"
   ]
  },
  {
   "cell_type": "code",
   "execution_count": null,
   "id": "6059812f",
   "metadata": {},
   "outputs": [],
   "source": []
  },
  {
   "cell_type": "code",
   "execution_count": 5,
   "id": "415137b2",
   "metadata": {},
   "outputs": [],
   "source": [
    "class model_input(BaseModel):\n",
    "    age_group: str  \n",
    "    income_group: str\n",
    "    loan_amount_group:str  \n",
    "    loan_percent_income_group:str\n",
    "    loan_intent:str   \n",
    "    person_home_ownership:str\n",
    "    person_emp_length:str"
   ]
  },
  {
   "cell_type": "code",
   "execution_count": 8,
   "id": "687d218f",
   "metadata": {},
   "outputs": [],
   "source": [
    "cat_model = load('CatBoost_model.joblib',\"rb\")"
   ]
  },
  {
   "cell_type": "code",
   "execution_count": 6,
   "id": "31135dc0",
   "metadata": {},
   "outputs": [],
   "source": [
    "@app.post('/loan_approval_prediction')\n",
    "def loan_pred(input_parameters: model_input): \n",
    "    \n",
    "    input_data = input_parameters.json()\n",
    "\n",
    "    #userdata = input_data.to_dict()\n",
    "    # will be a list: [{\"Firstname\":\"Joaquin\", \"Surname\": \"Phoenix\",\"Age\": 49}]\n",
    "    #userdata = userdata[0] # take the first item from the list\n",
    "    # will be a dictionary: {\"Firstname\":\"Joaquin\", \"Surname\": \"Phoenix\",\"Age\": 49}\n",
    "\n",
    "    input_dictionary = json.loads(input_data)# input_data\n",
    "    \n",
    "    \n",
    "    age = input_dictionary['age_group']\n",
    "    income = input_dictionary['income_group']\n",
    "    loan = input_dictionary['loan_amount_group']\n",
    "    loan_percent = input_dictionary['loan_percent_income_group']\n",
    "    intent = input_dictionary['loan_intent']\n",
    "    person_home_ownership = input_dictionary['person_home_ownership']\n",
    "    emp_length = input_dictionary['person_emp_length']\n",
    "    \n",
    "    input_list = [age , income, loan, loan_percent , intent ,person_home_ownership , emp_length]\n",
    "    \n",
    "    prediction = cat_model.predict([input_list])\n",
    "    \n",
    "    if (prediction[0] == 0):\n",
    "        return 'Congratulations, you are eligible to get a loan'\n",
    "    else:\n",
    "        return 'Sorry, You are Not eligible to get a loan.'\n",
    "    \n",
    "     \n"
   ]
  },
  {
   "cell_type": "code",
   "execution_count": null,
   "id": "02a5bbdb",
   "metadata": {},
   "outputs": [
    {
     "name": "stdout",
     "output_type": "stream",
     "text": [
      "Public URL: https://2663-2a02-ce0-1000-2848-3086-a83f-9e42-4e7b.ngrok-free.app\n"
     ]
    },
    {
     "name": "stderr",
     "output_type": "stream",
     "text": [
      "INFO:     Started server process [368]\n",
      "INFO:     Waiting for application startup.\n",
      "INFO:     Application startup complete.\n",
      "INFO:     Uvicorn running on http://127.0.0.1:80 (Press CTRL+C to quit)\n"
     ]
    },
    {
     "name": "stdout",
     "output_type": "stream",
     "text": [
      "INFO:     2a02:ce0:1000:2848:3086:a83f:9e42:4e7b:0 - \"POST /loan_approval_prediction HTTP/1.1\" 200 OK\n",
      "INFO:     2a02:4780:11:1503:0:622:9632:3:0 - \"GET /display_message HTTP/1.1\" 200 OK\n",
      "INFO:     2a02:4780:11:1503:0:622:9632:3:0 - \"GET /display_message HTTP/1.1\" 200 OK\n",
      "INFO:     2a02:4780:11:1503:0:622:9632:3:0 - \"GET /display_message HTTP/1.1\" 200 OK\n",
      "INFO:     2a02:4780:11:1503:0:622:9632:3:0 - \"GET /display_message HTTP/1.1\" 200 OK\n",
      "INFO:     2a02:4780:11:1503:0:622:9632:3:0 - \"GET /display_message HTTP/1.1\" 200 OK\n",
      "INFO:     2a02:4780:11:1503:0:622:9632:3:0 - \"GET /display_message HTTP/1.1\" 200 OK\n",
      "INFO:     2a02:4780:11:1503:0:622:9632:3:0 - \"GET /display_message HTTP/1.1\" 200 OK\n",
      "INFO:     2a02:4780:11:1503:0:622:9632:3:0 - \"GET /display_message HTTP/1.1\" 200 OK\n",
      "INFO:     2a02:ce0:1000:2848:3086:a83f:9e42:4e7b:0 - \"POST /loan_approval_prediction HTTP/1.1\" 200 OK\n",
      "INFO:     2a02:4780:11:1503:0:622:9632:3:0 - \"GET /display_message HTTP/1.1\" 200 OK\n",
      "INFO:     2a02:ce0:1000:2848:3086:a83f:9e42:4e7b:0 - \"POST /loan_approval_prediction HTTP/1.1\" 200 OK\n",
      "INFO:     2a02:4780:11:1503:0:622:9632:3:0 - \"GET /display_message HTTP/1.1\" 200 OK\n",
      "INFO:     2a02:4780:11:1503:0:622:9632:3:0 - \"GET /display_message HTTP/1.1\" 200 OK\n",
      "INFO:     2a02:4780:11:1503:0:622:9632:3:0 - \"GET /display_message HTTP/1.1\" 200 OK\n",
      "INFO:     2a02:4780:11:1503:0:622:9632:3:0 - \"GET /display_message HTTP/1.1\" 200 OK\n",
      "INFO:     2a02:ce0:1000:2848:3086:a83f:9e42:4e7b:0 - \"POST /loan_approval_prediction HTTP/1.1\" 200 OK\n",
      "INFO:     2a02:4780:11:1503:0:622:9632:3:0 - \"GET /display_message HTTP/1.1\" 200 OK\n",
      "INFO:     2a02:ce0:1000:2848:3086:a83f:9e42:4e7b:0 - \"POST /loan_approval_prediction HTTP/1.1\" 200 OK\n"
     ]
    }
   ],
   "source": [
    "ngrok_tunnel = ngrok.connect(80)\n",
    "print(\"Public URL:\", ngrok_tunnel.public_url)\n",
    "nest_asyncio.apply()\n",
    "uvicorn.run(app, port=80)"
   ]
  },
  {
   "cell_type": "code",
   "execution_count": 8,
   "id": "2c396a46",
   "metadata": {},
   "outputs": [],
   "source": [
    "class ModelInput(BaseModel):\n",
    "    age_group: str  \n",
    "    income_group: str\n",
    "    loan_amount_group: str  \n",
    "    loan_percent_income_group: str\n",
    "    loan_intent: str   \n",
    "    person_home_ownership: str\n",
    "    person_emp_length: str\n",
    "\n",
    "cat_model = load('CatBoost_model.joblib')\n",
    "\n",
    "@app.post('/loan_approval_prediction')\n",
    "def loan_pred(input_parameters: ModelInput): \n",
    "    age = input_parameters.age_group\n",
    "    income = input_parameters.income_group\n",
    "    loan = input_parameters.loan_amount_group\n",
    "    loan_percent = input_parameters.loan_percent_income_group\n",
    "    intent = input_parameters.loan_intent\n",
    "    person_home_ownership = input_parameters.person_home_ownership\n",
    "    emp_length = input_parameters.person_emp_length\n",
    "    \n",
    "    input_list = [age, income, loan, loan_percent, intent, person_home_ownership, emp_length]\n",
    "    \n",
    "    prediction = cat_model.predict([input_list])[0]\n",
    "    \n",
    "    if prediction[0] == 0:\n",
    "        return 'Congratulations, you are eligible to get a loan'\n",
    "    else:\n",
    "        return 'Sorry, you are not eligible to get a loan.'\n",
    "    \n",
    "    \n",
    "    response_data = {\n",
    "        'prediction': prediction[0],\n",
    "        'message': 'Congratulations, you are eligible to get a loan' if prediction[0] == 0 else 'Sorry, you are not eligible to get a loan.'\n",
    "    }\n",
    "\n",
    "    # Save the response in a file\n",
    "    with open('loan_response.json', 'w') as file:\n",
    "        json.dump(response_data, file)\n",
    "\n",
    "    return 'Response saved successfully.'\n",
    "\n"
   ]
  },
  {
   "cell_type": "code",
   "execution_count": 9,
   "id": "2e38fb41",
   "metadata": {},
   "outputs": [],
   "source": [
    "@app.get('/display_message')\n",
    "def display_message():\n",
    "    try:\n",
    "        # Load the saved response from the file\n",
    "        with open('loan_response.json', 'r') as file:\n",
    "            response_data = json.load(file)\n",
    "\n",
    "        # Get the message from the response data\n",
    "        message = response_data['message']\n",
    "\n",
    "        return message\n",
    "    except FileNotFoundError:\n",
    "        return 'Response not found.'"
   ]
  },
  {
   "cell_type": "code",
   "execution_count": 24,
   "id": "c1e85e98",
   "metadata": {},
   "outputs": [],
   "source": []
  },
  {
   "cell_type": "code",
   "execution_count": 11,
   "id": "23f76680",
   "metadata": {},
   "outputs": [],
   "source": [
    "class ModelInput(BaseModel):\n",
    "    age_group: str  \n",
    "    income_group: str\n",
    "    loan_amount_group: str  \n",
    "    loan_percent_income_group: str\n",
    "    loan_intent: str   \n",
    "    person_home_ownership: str\n",
    "    person_emp_length: str\n",
    "\n",
    "cat_model = load('CatBoost_model.joblib')\n",
    "\n",
    "app = FastAPI()\n",
    "\n",
    "@app.post('/loan_approval_prediction')\n",
    "def loan_pred(input_parameters: ModelInput): \n",
    "    age = input_parameters.age_group\n",
    "    income = input_parameters.income_group\n",
    "    loan = input_parameters.loan_amount_group\n",
    "    loan_percent = input_parameters.loan_percent_income_group\n",
    "    intent = input_parameters.loan_intent\n",
    "    person_home_ownership = input_parameters.person_home_ownership\n",
    "    emp_length = input_parameters.person_emp_length\n",
    "    \n",
    "    input_list = [age, income, loan, loan_percent, intent, person_home_ownership, emp_length]\n",
    "    \n",
    "    prediction = cat_model.predict([input_list])[0]\n",
    "    \n",
    "    response_data = {\n",
    "        'prediction': prediction.item(),  # Convert int64 to int\n",
    "        'message': 'Congratulations, you are eligible to get a loan' if prediction == 0 else 'Sorry, you are not eligible to get a loan.'\n",
    "    }\n",
    "\n",
    "    # Save the response in a file\n",
    "    with open('loan_response.json', 'w') as file:\n",
    "        json.dump(response_data, file)\n",
    "\n",
    "    return response_data\n",
    "\n",
    "@app.get('/display_message')\n",
    "def display_message():\n",
    "    try:\n",
    "        # Load the saved response from the file\n",
    "        with open('loan_response.json', 'r') as file:\n",
    "            response_data = json.load(file)\n",
    "\n",
    "        # Get the message from the response data\n",
    "        message = response_data['message']\n",
    "\n",
    "        return response_data\n",
    "    except FileNotFoundError:\n",
    "        return 'Response not found.'"
   ]
  },
  {
   "cell_type": "code",
   "execution_count": null,
   "id": "18732b37",
   "metadata": {},
   "outputs": [],
   "source": [
    "display_message()"
   ]
  },
  {
   "cell_type": "code",
   "execution_count": null,
   "id": "0ba3678a",
   "metadata": {},
   "outputs": [],
   "source": []
  }
 ],
 "metadata": {
  "kernelspec": {
   "display_name": "Python 3 (ipykernel)",
   "language": "python",
   "name": "python3"
  },
  "language_info": {
   "codemirror_mode": {
    "name": "ipython",
    "version": 3
   },
   "file_extension": ".py",
   "mimetype": "text/x-python",
   "name": "python",
   "nbconvert_exporter": "python",
   "pygments_lexer": "ipython3",
   "version": "3.11.5"
  }
 },
 "nbformat": 4,
 "nbformat_minor": 5
}
